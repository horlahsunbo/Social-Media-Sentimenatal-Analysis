{
 "cells": [
  {
   "cell_type": "code",
   "execution_count": 1,
   "metadata": {},
   "outputs": [],
   "source": [
    "import pandas as pd"
   ]
  },
  {
   "cell_type": "code",
   "execution_count": 2,
   "metadata": {},
   "outputs": [],
   "source": [
    "tweet = pd.read_csv(\"Sentiment.csv\")"
   ]
  },
  {
   "cell_type": "code",
   "execution_count": 3,
   "metadata": {},
   "outputs": [
    {
     "data": {
      "text/html": [
       "<div>\n",
       "<style scoped>\n",
       "    .dataframe tbody tr th:only-of-type {\n",
       "        vertical-align: middle;\n",
       "    }\n",
       "\n",
       "    .dataframe tbody tr th {\n",
       "        vertical-align: top;\n",
       "    }\n",
       "\n",
       "    .dataframe thead th {\n",
       "        text-align: right;\n",
       "    }\n",
       "</style>\n",
       "<table border=\"1\" class=\"dataframe\">\n",
       "  <thead>\n",
       "    <tr style=\"text-align: right;\">\n",
       "      <th></th>\n",
       "      <th>id</th>\n",
       "      <th>candidate</th>\n",
       "      <th>candidate_confidence</th>\n",
       "      <th>relevant_yn</th>\n",
       "      <th>relevant_yn_confidence</th>\n",
       "      <th>sentiment</th>\n",
       "      <th>sentiment_confidence</th>\n",
       "      <th>subject_matter</th>\n",
       "      <th>subject_matter_confidence</th>\n",
       "      <th>candidate_gold</th>\n",
       "      <th>...</th>\n",
       "      <th>relevant_yn_gold</th>\n",
       "      <th>retweet_count</th>\n",
       "      <th>sentiment_gold</th>\n",
       "      <th>subject_matter_gold</th>\n",
       "      <th>text</th>\n",
       "      <th>tweet_coord</th>\n",
       "      <th>tweet_created</th>\n",
       "      <th>tweet_id</th>\n",
       "      <th>tweet_location</th>\n",
       "      <th>user_timezone</th>\n",
       "    </tr>\n",
       "  </thead>\n",
       "  <tbody>\n",
       "    <tr>\n",
       "      <th>0</th>\n",
       "      <td>1</td>\n",
       "      <td>No candidate mentioned</td>\n",
       "      <td>1.0</td>\n",
       "      <td>yes</td>\n",
       "      <td>1.0</td>\n",
       "      <td>Neutral</td>\n",
       "      <td>0.6578</td>\n",
       "      <td>None of the above</td>\n",
       "      <td>1.0000</td>\n",
       "      <td>NaN</td>\n",
       "      <td>...</td>\n",
       "      <td>NaN</td>\n",
       "      <td>5</td>\n",
       "      <td>NaN</td>\n",
       "      <td>NaN</td>\n",
       "      <td>RT @NancyLeeGrahn: How did everyone feel about...</td>\n",
       "      <td>NaN</td>\n",
       "      <td>2015-08-07 09:54:46 -0700</td>\n",
       "      <td>629697200650592256</td>\n",
       "      <td>NaN</td>\n",
       "      <td>Quito</td>\n",
       "    </tr>\n",
       "    <tr>\n",
       "      <th>1</th>\n",
       "      <td>2</td>\n",
       "      <td>Scott Walker</td>\n",
       "      <td>1.0</td>\n",
       "      <td>yes</td>\n",
       "      <td>1.0</td>\n",
       "      <td>Positive</td>\n",
       "      <td>0.6333</td>\n",
       "      <td>None of the above</td>\n",
       "      <td>1.0000</td>\n",
       "      <td>NaN</td>\n",
       "      <td>...</td>\n",
       "      <td>NaN</td>\n",
       "      <td>26</td>\n",
       "      <td>NaN</td>\n",
       "      <td>NaN</td>\n",
       "      <td>RT @ScottWalker: Didn't catch the full #GOPdeb...</td>\n",
       "      <td>NaN</td>\n",
       "      <td>2015-08-07 09:54:46 -0700</td>\n",
       "      <td>629697199560069120</td>\n",
       "      <td>NaN</td>\n",
       "      <td>NaN</td>\n",
       "    </tr>\n",
       "    <tr>\n",
       "      <th>2</th>\n",
       "      <td>3</td>\n",
       "      <td>No candidate mentioned</td>\n",
       "      <td>1.0</td>\n",
       "      <td>yes</td>\n",
       "      <td>1.0</td>\n",
       "      <td>Neutral</td>\n",
       "      <td>0.6629</td>\n",
       "      <td>None of the above</td>\n",
       "      <td>0.6629</td>\n",
       "      <td>NaN</td>\n",
       "      <td>...</td>\n",
       "      <td>NaN</td>\n",
       "      <td>27</td>\n",
       "      <td>NaN</td>\n",
       "      <td>NaN</td>\n",
       "      <td>RT @TJMShow: No mention of Tamir Rice and the ...</td>\n",
       "      <td>NaN</td>\n",
       "      <td>2015-08-07 09:54:46 -0700</td>\n",
       "      <td>629697199312482304</td>\n",
       "      <td>NaN</td>\n",
       "      <td>NaN</td>\n",
       "    </tr>\n",
       "    <tr>\n",
       "      <th>3</th>\n",
       "      <td>4</td>\n",
       "      <td>No candidate mentioned</td>\n",
       "      <td>1.0</td>\n",
       "      <td>yes</td>\n",
       "      <td>1.0</td>\n",
       "      <td>Positive</td>\n",
       "      <td>1.0000</td>\n",
       "      <td>None of the above</td>\n",
       "      <td>0.7039</td>\n",
       "      <td>NaN</td>\n",
       "      <td>...</td>\n",
       "      <td>NaN</td>\n",
       "      <td>138</td>\n",
       "      <td>NaN</td>\n",
       "      <td>NaN</td>\n",
       "      <td>RT @RobGeorge: That Carly Fiorina is trending ...</td>\n",
       "      <td>NaN</td>\n",
       "      <td>2015-08-07 09:54:45 -0700</td>\n",
       "      <td>629697197118861312</td>\n",
       "      <td>Texas</td>\n",
       "      <td>Central Time (US &amp; Canada)</td>\n",
       "    </tr>\n",
       "    <tr>\n",
       "      <th>4</th>\n",
       "      <td>5</td>\n",
       "      <td>Donald Trump</td>\n",
       "      <td>1.0</td>\n",
       "      <td>yes</td>\n",
       "      <td>1.0</td>\n",
       "      <td>Positive</td>\n",
       "      <td>0.7045</td>\n",
       "      <td>None of the above</td>\n",
       "      <td>1.0000</td>\n",
       "      <td>NaN</td>\n",
       "      <td>...</td>\n",
       "      <td>NaN</td>\n",
       "      <td>156</td>\n",
       "      <td>NaN</td>\n",
       "      <td>NaN</td>\n",
       "      <td>RT @DanScavino: #GOPDebate w/ @realDonaldTrump...</td>\n",
       "      <td>NaN</td>\n",
       "      <td>2015-08-07 09:54:45 -0700</td>\n",
       "      <td>629697196967903232</td>\n",
       "      <td>NaN</td>\n",
       "      <td>Arizona</td>\n",
       "    </tr>\n",
       "  </tbody>\n",
       "</table>\n",
       "<p>5 rows × 21 columns</p>\n",
       "</div>"
      ],
      "text/plain": [
       "   id               candidate  candidate_confidence relevant_yn  \\\n",
       "0   1  No candidate mentioned                   1.0         yes   \n",
       "1   2            Scott Walker                   1.0         yes   \n",
       "2   3  No candidate mentioned                   1.0         yes   \n",
       "3   4  No candidate mentioned                   1.0         yes   \n",
       "4   5            Donald Trump                   1.0         yes   \n",
       "\n",
       "   relevant_yn_confidence sentiment  sentiment_confidence     subject_matter  \\\n",
       "0                     1.0   Neutral                0.6578  None of the above   \n",
       "1                     1.0  Positive                0.6333  None of the above   \n",
       "2                     1.0   Neutral                0.6629  None of the above   \n",
       "3                     1.0  Positive                1.0000  None of the above   \n",
       "4                     1.0  Positive                0.7045  None of the above   \n",
       "\n",
       "   subject_matter_confidence candidate_gold             ...              \\\n",
       "0                     1.0000            NaN             ...               \n",
       "1                     1.0000            NaN             ...               \n",
       "2                     0.6629            NaN             ...               \n",
       "3                     0.7039            NaN             ...               \n",
       "4                     1.0000            NaN             ...               \n",
       "\n",
       "  relevant_yn_gold retweet_count  sentiment_gold subject_matter_gold  \\\n",
       "0              NaN             5             NaN                 NaN   \n",
       "1              NaN            26             NaN                 NaN   \n",
       "2              NaN            27             NaN                 NaN   \n",
       "3              NaN           138             NaN                 NaN   \n",
       "4              NaN           156             NaN                 NaN   \n",
       "\n",
       "                                                text tweet_coord  \\\n",
       "0  RT @NancyLeeGrahn: How did everyone feel about...         NaN   \n",
       "1  RT @ScottWalker: Didn't catch the full #GOPdeb...         NaN   \n",
       "2  RT @TJMShow: No mention of Tamir Rice and the ...         NaN   \n",
       "3  RT @RobGeorge: That Carly Fiorina is trending ...         NaN   \n",
       "4  RT @DanScavino: #GOPDebate w/ @realDonaldTrump...         NaN   \n",
       "\n",
       "               tweet_created            tweet_id  tweet_location  \\\n",
       "0  2015-08-07 09:54:46 -0700  629697200650592256             NaN   \n",
       "1  2015-08-07 09:54:46 -0700  629697199560069120             NaN   \n",
       "2  2015-08-07 09:54:46 -0700  629697199312482304             NaN   \n",
       "3  2015-08-07 09:54:45 -0700  629697197118861312           Texas   \n",
       "4  2015-08-07 09:54:45 -0700  629697196967903232             NaN   \n",
       "\n",
       "                user_timezone  \n",
       "0                       Quito  \n",
       "1                         NaN  \n",
       "2                         NaN  \n",
       "3  Central Time (US & Canada)  \n",
       "4                     Arizona  \n",
       "\n",
       "[5 rows x 21 columns]"
      ]
     },
     "execution_count": 3,
     "metadata": {},
     "output_type": "execute_result"
    }
   ],
   "source": [
    "tweet.head()"
   ]
  },
  {
   "cell_type": "code",
   "execution_count": 4,
   "metadata": {},
   "outputs": [
    {
     "name": "stdout",
     "output_type": "stream",
     "text": [
      "<class 'pandas.core.frame.DataFrame'>\n",
      "RangeIndex: 13871 entries, 0 to 13870\n",
      "Data columns (total 21 columns):\n",
      "id                           13871 non-null int64\n",
      "candidate                    13775 non-null object\n",
      "candidate_confidence         13871 non-null float64\n",
      "relevant_yn                  13871 non-null object\n",
      "relevant_yn_confidence       13871 non-null float64\n",
      "sentiment                    13871 non-null object\n",
      "sentiment_confidence         13871 non-null float64\n",
      "subject_matter               13545 non-null object\n",
      "subject_matter_confidence    13871 non-null float64\n",
      "candidate_gold               28 non-null object\n",
      "name                         13871 non-null object\n",
      "relevant_yn_gold             32 non-null object\n",
      "retweet_count                13871 non-null int64\n",
      "sentiment_gold               15 non-null object\n",
      "subject_matter_gold          18 non-null object\n",
      "text                         13871 non-null object\n",
      "tweet_coord                  21 non-null object\n",
      "tweet_created                13871 non-null object\n",
      "tweet_id                     13871 non-null int64\n",
      "tweet_location               9959 non-null object\n",
      "user_timezone                9468 non-null object\n",
      "dtypes: float64(4), int64(3), object(14)\n",
      "memory usage: 1.5+ MB\n"
     ]
    }
   ],
   "source": [
    "tweet.info()"
   ]
  },
  {
   "cell_type": "code",
   "execution_count": 16,
   "metadata": {},
   "outputs": [
    {
     "data": {
      "text/plain": [
       "(13871, 21)"
      ]
     },
     "execution_count": 16,
     "metadata": {},
     "output_type": "execute_result"
    }
   ],
   "source": [
    "tweet.shape"
   ]
  },
  {
   "cell_type": "code",
   "execution_count": 18,
   "metadata": {},
   "outputs": [
    {
     "data": {
      "text/plain": [
       "id                               0\n",
       "candidate                       96\n",
       "candidate_confidence             0\n",
       "relevant_yn                      0\n",
       "relevant_yn_confidence           0\n",
       "sentiment                        0\n",
       "sentiment_confidence             0\n",
       "subject_matter                 326\n",
       "subject_matter_confidence        0\n",
       "candidate_gold               13843\n",
       "name                             0\n",
       "relevant_yn_gold             13839\n",
       "retweet_count                    0\n",
       "sentiment_gold               13856\n",
       "subject_matter_gold          13853\n",
       "text                             0\n",
       "tweet_coord                  13850\n",
       "tweet_created                    0\n",
       "tweet_id                         0\n",
       "tweet_location                3912\n",
       "user_timezone                 4403\n",
       "dtype: int64"
      ]
     },
     "execution_count": 18,
     "metadata": {},
     "output_type": "execute_result"
    }
   ],
   "source": [
    "tweet.isna().sum()"
   ]
  },
  {
   "cell_type": "code",
   "execution_count": 15,
   "metadata": {},
   "outputs": [
    {
     "name": "stdout",
     "output_type": "stream",
     "text": [
      "2047     1\n",
      "6790     1\n",
      "12963    1\n",
      "8865     1\n",
      "10912    1\n",
      "4759     1\n",
      "6806     1\n",
      "661      1\n",
      "2708     1\n",
      "12947    1\n",
      "8849     1\n",
      "10896    1\n",
      "4743     1\n",
      "645      1\n",
      "10736    1\n",
      "2692     1\n",
      "12931    1\n",
      "8833     1\n",
      "10880    1\n",
      "4727     1\n",
      "6774     1\n",
      "629      1\n",
      "2676     1\n",
      "12915    1\n",
      "8817     1\n",
      "10864    1\n",
      "2724     1\n",
      "677      1\n",
      "6822     1\n",
      "4775     1\n",
      "        ..\n",
      "11487    1\n",
      "9438     1\n",
      "5400     1\n",
      "1306     1\n",
      "11599    1\n",
      "3355     1\n",
      "9550     1\n",
      "13644    1\n",
      "3403     1\n",
      "1354     1\n",
      "7497     1\n",
      "5448     1\n",
      "11583    1\n",
      "9534     1\n",
      "13628    1\n",
      "3387     1\n",
      "1338     1\n",
      "7481     1\n",
      "5432     1\n",
      "11567    1\n",
      "9518     1\n",
      "13612    1\n",
      "3371     1\n",
      "1322     1\n",
      "7465     1\n",
      "5416     1\n",
      "11551    1\n",
      "9502     1\n",
      "13596    1\n",
      "2049     1\n",
      "Name: id, Length: 13871, dtype: int64\n",
      "---------------------------\n",
      "No candidate mentioned    7491\n",
      "Donald Trump              2813\n",
      "Jeb Bush                   705\n",
      "Ted Cruz                   637\n",
      "Ben Carson                 404\n",
      "Mike Huckabee              393\n",
      "Chris Christie             293\n",
      "Marco Rubio                275\n",
      "Rand Paul                  263\n",
      "Scott Walker               259\n",
      "John Kasich                242\n",
      "Name: candidate, dtype: int64\n",
      "---------------------------\n",
      "1.0000    10029\n",
      "0.4444      155\n",
      "0.3974       55\n",
      "0.4218       53\n",
      "0.4495       51\n",
      "0.4074       50\n",
      "0.3923       47\n",
      "0.4265       46\n",
      "0.4171       46\n",
      "0.4025       45\n",
      "0.4594       44\n",
      "0.4492       44\n",
      "0.4545       44\n",
      "0.4123       44\n",
      "0.4539       41\n",
      "0.4204       38\n",
      "0.4642       36\n",
      "0.4395       35\n",
      "0.6667       33\n",
      "0.4302       31\n",
      "0.3819       26\n",
      "0.4347       26\n",
      "0.4259       25\n",
      "0.6813       21\n",
      "0.4253       20\n",
      "0.4247       20\n",
      "0.4211       20\n",
      "0.4062       20\n",
      "0.3997       20\n",
      "0.4542       20\n",
      "          ...  \n",
      "0.6986        1\n",
      "0.2300        1\n",
      "0.4053        1\n",
      "0.6604        1\n",
      "0.4077        1\n",
      "0.2275        1\n",
      "0.6527        1\n",
      "0.7631        1\n",
      "0.4301        1\n",
      "0.4280        1\n",
      "0.4076        1\n",
      "0.7066        1\n",
      "0.6998        1\n",
      "0.4431        1\n",
      "0.6417        1\n",
      "0.2502        1\n",
      "0.4932        1\n",
      "0.4526        1\n",
      "0.4568        1\n",
      "0.6651        1\n",
      "0.7087        1\n",
      "0.6684        1\n",
      "0.4799        1\n",
      "0.2321        1\n",
      "0.4234        1\n",
      "0.6369        1\n",
      "0.7077        1\n",
      "0.4083        1\n",
      "0.6892        1\n",
      "0.6318        1\n",
      "Name: candidate_confidence, Length: 986, dtype: int64\n",
      "---------------------------\n",
      "yes    13871\n",
      "Name: relevant_yn, dtype: int64\n",
      "---------------------------\n",
      "1.0000    10943\n",
      "0.6667      167\n",
      "0.6304       60\n",
      "0.6705       57\n",
      "0.6495       55\n",
      "0.6458       50\n",
      "0.6383       50\n",
      "0.6484       49\n",
      "0.6264       49\n",
      "0.6702       48\n",
      "0.6531       48\n",
      "0.6778       47\n",
      "0.6344       46\n",
      "0.6421       46\n",
      "0.6742       45\n",
      "0.6737       44\n",
      "0.6629       40\n",
      "0.6813       38\n",
      "0.6559       34\n",
      "0.6526       32\n",
      "0.6593       27\n",
      "0.6180       27\n",
      "0.6277       25\n",
      "0.6701       24\n",
      "0.6774       23\n",
      "0.6596       23\n",
      "0.6489       22\n",
      "0.6562       22\n",
      "0.6771       22\n",
      "0.6517       21\n",
      "          ...  \n",
      "0.6577        1\n",
      "0.6606        1\n",
      "0.3367        1\n",
      "0.6384        1\n",
      "0.6595        1\n",
      "0.6530        1\n",
      "0.6418        1\n",
      "0.6930        1\n",
      "0.6867        1\n",
      "0.6407        1\n",
      "0.6638        1\n",
      "0.7023        1\n",
      "0.6714        1\n",
      "0.6955        1\n",
      "0.6812        1\n",
      "0.6262        1\n",
      "0.6998        1\n",
      "0.6441        1\n",
      "0.6763        1\n",
      "0.6381        1\n",
      "0.7180        1\n",
      "0.6697        1\n",
      "0.6514        1\n",
      "0.6393        1\n",
      "0.6147        1\n",
      "0.6386        1\n",
      "0.6511        1\n",
      "0.6270        1\n",
      "0.6765        1\n",
      "0.6284        1\n",
      "Name: relevant_yn_confidence, Length: 508, dtype: int64\n",
      "---------------------------\n",
      "Negative    8493\n",
      "Neutral     3142\n",
      "Positive    2236\n",
      "Name: sentiment, dtype: int64\n",
      "---------------------------\n",
      "1.0000    5367\n",
      "0.6667     336\n",
      "0.6629     135\n",
      "0.6703     101\n",
      "0.6813      97\n",
      "0.6705      96\n",
      "0.6778      93\n",
      "0.6742      93\n",
      "0.6774      90\n",
      "0.6739      82\n",
      "0.6484      79\n",
      "0.6552      76\n",
      "0.3333      75\n",
      "0.6702      64\n",
      "0.6593      63\n",
      "0.6897      61\n",
      "0.6591      59\n",
      "0.6966      58\n",
      "0.6495      58\n",
      "0.6517      57\n",
      "0.6559      57\n",
      "0.6628      56\n",
      "0.6304      55\n",
      "0.6737      55\n",
      "0.6458      54\n",
      "0.6932      54\n",
      "0.6630      54\n",
      "0.6632      52\n",
      "0.6526      52\n",
      "0.6531      51\n",
      "          ... \n",
      "0.7110       1\n",
      "0.3204       1\n",
      "0.8330       1\n",
      "0.6980       1\n",
      "0.3475       1\n",
      "0.7008       1\n",
      "0.6924       1\n",
      "0.6943       1\n",
      "0.6527       1\n",
      "0.9277       1\n",
      "0.4806       1\n",
      "0.7960       1\n",
      "0.6871       1\n",
      "0.6668       1\n",
      "0.6324       1\n",
      "0.6485       1\n",
      "0.3572       1\n",
      "0.6211       1\n",
      "0.6762       1\n",
      "0.3351       1\n",
      "0.3532       1\n",
      "0.3414       1\n",
      "0.6373       1\n",
      "0.7312       1\n",
      "0.3593       1\n",
      "0.6046       1\n",
      "0.3574       1\n",
      "0.3286       1\n",
      "0.6583       1\n",
      "0.6480       1\n",
      "Name: sentiment_confidence, Length: 1153, dtype: int64\n",
      "---------------------------\n",
      "None of the above                       8148\n",
      "FOX News or Moderators                  2900\n",
      "Religion                                 407\n",
      "Foreign Policy                           366\n",
      "Women's Issues (not abortion though)     362\n",
      "Racial issues                            353\n",
      "Abortion                                 293\n",
      "Jobs and Economy                         251\n",
      "Immigration                              211\n",
      "LGBT issues                              126\n",
      "Healthcare (including Medicare)           67\n",
      "Gun Control                               61\n",
      "Name: subject_matter, dtype: int64\n",
      "---------------------------\n",
      "1.0000    7496\n",
      "0.6667     167\n",
      "0.4444     128\n",
      "0.6703      71\n",
      "0.6629      69\n",
      "0.6591      62\n",
      "0.6552      51\n",
      "0.6739      48\n",
      "0.3974      43\n",
      "0.4218      43\n",
      "0.4495      41\n",
      "0.4594      40\n",
      "0.4171      39\n",
      "0.6966      39\n",
      "0.6774      39\n",
      "0.4025      39\n",
      "0.4492      37\n",
      "0.4123      36\n",
      "0.6559      36\n",
      "0.4545      36\n",
      "0.4265      36\n",
      "0.4539      36\n",
      "0.4074      36\n",
      "0.6705      35\n",
      "0.3923      34\n",
      "0.6932      34\n",
      "0.6593      33\n",
      "0.6860      33\n",
      "0.6813      33\n",
      "0.4395      31\n",
      "          ... \n",
      "0.4872       1\n",
      "0.3499       1\n",
      "0.7066       1\n",
      "0.6694       1\n",
      "0.5613       1\n",
      "0.6622       1\n",
      "0.6958       1\n",
      "0.2382       1\n",
      "0.4228       1\n",
      "0.9572       1\n",
      "0.3642       1\n",
      "0.4535       1\n",
      "0.5017       1\n",
      "0.2321       1\n",
      "0.7087       1\n",
      "0.3582       1\n",
      "0.6547       1\n",
      "0.6553       1\n",
      "0.4815       1\n",
      "0.4010       1\n",
      "0.3645       1\n",
      "0.2441       1\n",
      "0.4854       1\n",
      "0.6756       1\n",
      "0.4317       1\n",
      "0.7015       1\n",
      "0.4288       1\n",
      "0.4045       1\n",
      "0.4586       1\n",
      "0.6676       1\n",
      "Name: subject_matter_confidence, Length: 1429, dtype: int64\n",
      "---------------------------\n",
      "No candidate mentioned    10\n",
      "Donald Trump               6\n",
      "Mike Huckabee              3\n",
      "Marco Rubio                2\n",
      "Ted Cruz                   2\n",
      "Jeb Bush                   2\n",
      "Scott Walker               1\n",
      "Donald Trump\\nJeb Bush     1\n",
      "John Kasich                1\n",
      "Name: candidate_gold, dtype: int64\n",
      "---------------------------\n",
      "msgoddessrises     55\n",
      "RT0787             42\n",
      "b140tweet          34\n",
      "jojo21             33\n",
      "SupermanHotMale    32\n",
      "EusebiaAq          30\n",
      "scottaxe           29\n",
      "BigBoyBaker        25\n",
      "LauriePatriot      24\n",
      "PuestoLoco         24\n",
      "SeaBassThePhish    22\n",
      "DoubleDipChip      22\n",
      "Erosunique         22\n",
      "sweeetbea          20\n",
      "averykayla         19\n",
      "RWSurferGirl       19\n",
      "Perry_T            19\n",
      "EscapeVelo         18\n",
      "RefuseOfCuyahog    17\n",
      "NateMJensen        17\n",
      "jsn2007            16\n",
      "PruneJuiceMedia    16\n",
      "TrumpIssues        16\n",
      "solitaryspook      15\n",
      "Psalm11813         15\n",
      "Dr_DrewZC          15\n",
      "g8r84              15\n",
      "ProfessorRobo      15\n",
      "monaeltahawy       15\n",
      "JaclynHStrauss     14\n",
      "                   ..\n",
      "dakrolak            1\n",
      "l0lbecca            1\n",
      "wordofCAG           1\n",
      "cydelafield         1\n",
      "DVAvegaschptr1      1\n",
      "sankofa_bird        1\n",
      "ryon55              1\n",
      "jaelynks            1\n",
      "Ljamieson7          1\n",
      "RekLeCounte         1\n",
      "Nitaina_            1\n",
      "AmberJPhillips      1\n",
      "RissyTheppard       1\n",
      "OpiningCourt        1\n",
      "Tahoe9495           1\n",
      "vittmarchegiani     1\n",
      "ibisflight          1\n",
      "BMOREBrian          1\n",
      "ArkansasWorld       1\n",
      "GeriRosman          1\n",
      "Bo1911              1\n",
      "calllmeAudrey       1\n",
      "JakeSauickie        1\n",
      "Church_On_F1        1\n",
      "HollyAnneSimone     1\n",
      "repealracism        1\n",
      "NevilleLouann       1\n",
      "cult51              1\n",
      "LarryPDonnelly      1\n",
      "in_my_study         1\n",
      "Name: name, Length: 9829, dtype: int64\n",
      "---------------------------\n",
      "yes    32\n",
      "Name: relevant_yn_gold, dtype: int64\n",
      "---------------------------\n",
      "0       5083\n",
      "1       1465\n",
      "2        694\n",
      "3        402\n",
      "4        240\n",
      "5        216\n",
      "9        190\n",
      "66       187\n",
      "6        180\n",
      "172      165\n",
      "7        160\n",
      "155      154\n",
      "8        153\n",
      "157      150\n",
      "149      144\n",
      "142      138\n",
      "72       137\n",
      "134      131\n",
      "132      128\n",
      "11       122\n",
      "120      118\n",
      "153      117\n",
      "12       114\n",
      "21       109\n",
      "10       108\n",
      "116      105\n",
      "93        96\n",
      "19        96\n",
      "78        85\n",
      "28        83\n",
      "        ... \n",
      "532        1\n",
      "580        1\n",
      "588        1\n",
      "604        1\n",
      "612        1\n",
      "676        1\n",
      "804        1\n",
      "868        1\n",
      "380        1\n",
      "332        1\n",
      "603        1\n",
      "316        1\n",
      "691        1\n",
      "803        1\n",
      "1163       1\n",
      "1695       1\n",
      "1291       1\n",
      "1395       1\n",
      "3946       1\n",
      "148        1\n",
      "4270       1\n",
      "196        1\n",
      "204        1\n",
      "220        1\n",
      "236        1\n",
      "268        1\n",
      "276        1\n",
      "284        1\n",
      "308        1\n",
      "1243       1\n",
      "Name: retweet_count, Length: 493, dtype: int64\n",
      "---------------------------\n",
      "Negative             10\n",
      "Positive              3\n",
      "Positive\\nNeutral     1\n",
      "Negative\\nNeutral     1\n",
      "Name: sentiment_gold, dtype: int64\n",
      "---------------------------\n",
      "FOX News or Moderators                            4\n",
      "Abortion                                          3\n",
      "Immigration                                       2\n",
      "Abortion\\nWomen's Issues (not abortion though)    2\n",
      "Religion                                          2\n",
      "Foreign Policy                                    1\n",
      "Abortion\\nRacial issues                           1\n",
      "Women's Issues (not abortion though)              1\n",
      "Abortion\\nForeign Policy                          1\n",
      "LGBT issues                                       1\n",
      "Name: subject_matter_gold, dtype: int64\n",
      "---------------------------\n",
      "RT @RWSurferGirl: Jeb Bush reminds me of elevator music. You hear it but you don't listen. 🇺🇸 #GOPDebate  #GOPDebates                               161\n",
      "RT @RWSurferGirl: Fox News is obviously trying to influence the makeup of the Republican field. 🇺🇸  #GOPDebate  #GOPDebates                         150\n",
      "RT @RWSurferGirl: It is very disappointing that Fox News is not conducting a \"Fair &amp; Balanced\" Debate. 🇺🇸 #GOPDebate  #GOPDebates               142\n",
      "RT @RWSurferGirl: I think Cruz and Trump need to band together and expose this set up job, and get rid of Bush and Rubio, 🇺🇸 #GOPDebate  #G…        140\n",
      "RT @RWSurferGirl: We the American people pick the next President of United States not FOX News 🇺🇸 #GOPDebate  #GOPDebates                           133\n",
      "RT @RWSurferGirl: The candidates don't have to attack @realDonaldTrump Fox is doing it for them by stoping him from speaking. 🇺🇸 #GOPDebate…        127\n",
      "RT @RWSurferGirl: Is it just me or does anyone else want to punch Chris Wallace in the face? #GOPDebate  #GOPDebates 🇺🇸                             124\n",
      "RT @RWSurferGirl: Fox is cherry picking the candidates. Jeb gets the softball questions. 🇺🇸 #GOPDebates  #GOPDebates                                116\n",
      "RT @RWSurferGirl: Why doesn't Chris Wallace ask the other politicans about their finances and where their money comes from? 🇺🇸 #GOPDebate  …        113\n",
      "RT @RWSurferGirl: So @megynkelly posed for adult pictures.should we bring that up? #GOPDebate  #GOPDebates                                           98\n",
      "RT @RWSurferGirl: Thanks Fox News, you're raising @realDonaldTrump 's ratings. 🇺🇸 #GOPDebate  #GOPDebates                                            88\n",
      "RT @ericstonestreet: Trump has Cam hands. #GOPDebates                                                                                                77\n",
      "RT @RWSurferGirl: Ask Trump a legitimate question. Look at Wallace's face when Trump nails it. 🇺🇸 #GOPDebate  #GOPDebates                            74\n",
      "RT @larryelder: Trump should have said, \"Megyn, ask these nine candidates, if they plan to support ME when I win the nomination.\"\\n#GOPDebat…        68\n",
      "RT @Lrihendry: #TedCruz As President, I will always tell the truth, and do what I said I would do.  #GOPDebates                                      65\n",
      "RT @RWSurferGirl: You would never know @realDonaldTrump  is the frontrunner from watching this debate. 🇺🇸 #GOPDebate  #GOPDebates                    65\n",
      "RT @RWSurferGirl: I'd really like to see how long each candidate was given to speak.  It didn't seem \"Fair &amp; Balanced\" at all. 🇺🇸 #GOPDebat…     60\n",
      "RT @RWSurferGirl: FOX News won't admit who the Republican leader is right now I mean @realDonaldTrump only has a double-digit lead 🇺🇸 #GOPD…         59\n",
      "RT @jamiaw: \"The purpose of the military is to kill people and break things\"-Mike Huckabee #GOPDebates #KKKorGOP                                     58\n",
      "RT @DonnieWahlberg: Enjoyed the #GOPDebates and am looking forward to the #DemocraticDebates next.                                                   56\n",
      "RT @goldietaylor: Huckabee. #GOPDebates http://t.co/Zy12bdUkx9                                                                                       50\n",
      "RT @RWSurferGirl: Tonight we learned that @GovChristie thinks he can remove our civil rights to fight terrorism. #GOPDebate  #GOPDebates             42\n",
      "RT @mozgovaya: 10 men on stage discussing one woman. @HillaryClinton #GOPdebates                                                                     42\n",
      "RT @RWSurferGirl: I need to order another green apple martini to process what the hell just happened. 🇺🇸 #GOPDebate  #GOPDebates                     41\n",
      "RT @RWSurferGirl: @tedcruz and @realDonaldTrump need to take control of this debate,  they can do it, 🇺🇸 #GOPDebate  #GOPDebates                     36\n",
      "RT @RWSurferGirl: After @GovChristie hugged Obama he doesn't deserve to be on the stage tonight. 🇺🇸 #GOPDebates  #GOPDebates                         36\n",
      "RT @monaeltahawy: Oh boy: \"social issues\" = GOP code for who can control women's bodies &amp; sexuality the most. Hold on tight, TwitterLand  #…     34\n",
      "RT @BettyFckinWhite: -Can you answer this very direct question?\\n-I should be president. \\n-So, no?\\n#GOPDebates                                     32\n",
      "RT @Lrihendry: #TedCruz headed into the Presidential Debates. GO TED!! \\n\\n#GOPDebates http://t.co/8S67pz8a4A                                        28\n",
      "RT @RWSurferGirl: Trump has got it right, nobody would talk about immigration, not untill be brought it up. #GOPDebate #GOPDebates                   27\n",
      "                                                                                                                                                   ... \n",
      "RT @RichardAngwin: Question for the candidates:\\nWhy do you think its OK for people working 40+ hrs a week to live in poverty?\\n#GOPDebate ht…        1\n",
      "RT @BraveConWarrior: RT @AllenWestRepub \"Dear @JebBush #GOPDebate #NotAMistake http://t.co/T7MGjn2vEr\"                                                1\n",
      "RT @KatiePavlich: So far Fiorina has given most detailed answers to questions about how to solve problems i.e. China/Russia and cyber attac…          1\n",
      "#GOPDebate @realDonaldTrump got the most time out of all the other ten people. #isthisajoke #DonaldTrump                                              1\n",
      "@BretBaier Not sure why people are giving you and the panel so much heat - I thought you guys were brutally fair and professional #GOPDebate          1\n",
      "@awyattman88 Hilary however can &amp; will win. It's why, at #GOPDebate she was the most talked about person.  They know they can't beat her!         1\n",
      "@YaleClimateComm @JerryBrownGov not a peep from them...  It's because they take $$ from oil &amp; gas!  Why would they #ActOnClimate #GOPDebate       1\n",
      "RT @RandPaul: Why Is Rand Paul “The DNC’s Top Target”? #GOPDebate #StandWithRand \\n\\nRead more here: https://t.co/M31l4vEQDf                          1\n",
      "RT @ShelbyKnox: \"The purpose of the military is to kill people &amp; break things.\" - Huckabee in route to being wildly transphobic. #GOPDebate       1\n",
      "RT @Kjhobbs1985: @TheDemocrats not really... like the @ppact videos you're not watching anyway. #GOPDebate                                            1\n",
      "@NorahODonnell , I honestly think you are so much better than the questions you asked Governor Kasich. @CBSThisMorning #GOPdebate                     1\n",
      "RT @pfikac: .@JebBush 'We are on the verge of the greatest time to be alive in this world but Washington is holding us back' #mysa #txlege …          1\n",
      "The accuracy of it is mind blowing...\\n#GOPDebate http://t.co/xSXTYuykwp                                                                              1\n",
      "What else is new. Should we pretend to be surprised? \"#GOP @housegop candidates veer from truth\": http://t.co/7ZpGWQrgoS #GOPDebate                   1\n",
      "Kasich has the least-dead eyes of the bunch. #GOPDebates                                                                                              1\n",
      "RT @TheTexasPhoenix: He was on fire! .@GovernorPerry's \"On Fire\" Debate Performance: https://t.co/0A1w02w7SZ #GOPDebate #Perry2016                    1\n",
      "@ansonmount #GOPDebate  It seems that debate questions simply function to incite personal attacks among candidates w/o clarifying issues.             1\n",
      "RT @CarlyFiorina: The highest calling of leadership is to challenge the status quo &amp; unlock potential in others. #GOPDebate. #Carly2016           1\n",
      "As much as I don't like @realDonaldTrump the #GOPDebate was all about ripping him apart. The first question dragged on.                               1\n",
      "@megynkelly Stop framing your questions as an attack. Sound like a liberal. #GOPDebates                                                               1\n",
      "Trump wants to form The Night's Watch! A big wall with a fancy door! Yassssss! #GOPDebates #Trump #Republicandebate #JonSnow #GOT7                    1\n",
      "RT @larryelder: Worse than an unprepared candidate is blind support for one. I was pulling for #DonaldTrump. But he needs to raise his game…          1\n",
      "It makes sense that #GOPDebates were on Fox if you don't think about it.Then again,that's how politics have been done for years. #ThinkMore           1\n",
      "RT @ELVIRAWORSHIP: LOL “I don't see color\" #GOPDebate                                                                                                 1\n",
      "RT @summer4jul: @JohnKasich, What about all of the kids in poverty in OH? #BatsAsk #GOPDebate                                                         1\n",
      "#PlaybookBreakfast yesterday: \"What we'll see tonight is...on every issue they're all the same\" Was @davidbrockdc correct about #GOPDebate?           1\n",
      "RT @DanielGenseric: .@megynkelly doesn't like @realDonaldTrump or @AnnCoulter. I wonder why. #AntiWhites FORCE #immigration/#assimilation. …          1\n",
      "Carly Fiorina “The Clear Winner” in First #GOPDebate (with images, tweets) · CarlyForAmerica · Storify https://t.co/0IMJC0K1Ki                        1\n",
      "VOTE #JEB2016 if you're a complete ASS.\\n#GOPDebate  https://t.co/KIzA8KMZDl                                                                          1\n",
      "RT @RachelADolezal: #GOPDebate would have been comical, BUT alienating \"foreigners\" and immigrants, bashing BLM &amp; Obama and bein generally …      1\n",
      "Name: text, Length: 10402, dtype: int64\n",
      "---------------------------\n",
      "[41.7599487, -72.7024307]       2\n",
      "[25.07852081, -80.44294696]     1\n",
      "[29.58026, -95.2541389]         1\n",
      "[41.51855183, -74.07957769]     1\n",
      "[26.26744224, -80.20737825]     1\n",
      "[47.96156846, -116.7004394]     1\n",
      "[21.97850292, -159.34894421]    1\n",
      "[40.77825565, -73.96364623]     1\n",
      "[42.90512929, -70.87725812]     1\n",
      "[40.77638723, -73.94504056]     1\n",
      "[36.28717723, -82.36564512]     1\n",
      "[47.9617, -116.699895]          1\n",
      "[37.79332217, -122.26560164]    1\n",
      "[43.60841758, -70.94514347]     1\n",
      "[35.95976052, -86.81232094]     1\n",
      "[31.4184892, 74.2857401]        1\n",
      "[42.4052348, -71.1289723]       1\n",
      "[38.2359719, -85.7730258]       1\n",
      "[29.74005759, -95.46357311]     1\n",
      "[40.60348769, -73.99338713]     1\n",
      "Name: tweet_coord, dtype: int64\n",
      "---------------------------\n",
      "2015-08-07 08:44:44 -0700    8\n",
      "2015-08-07 09:29:29 -0700    8\n",
      "2015-08-07 09:37:23 -0700    7\n",
      "2015-08-07 09:47:57 -0700    7\n",
      "2015-08-07 08:39:31 -0700    7\n",
      "2015-08-07 09:52:47 -0700    7\n",
      "2015-08-07 09:43:55 -0700    6\n",
      "2015-08-07 09:49:29 -0700    6\n",
      "2015-08-07 08:49:02 -0700    6\n",
      "2015-08-07 08:30:54 -0700    6\n",
      "2015-08-07 09:08:15 -0700    6\n",
      "2015-08-07 09:27:55 -0700    6\n",
      "2015-08-07 09:53:18 -0700    6\n",
      "2015-08-07 09:22:35 -0700    6\n",
      "2015-08-07 09:54:42 -0700    6\n",
      "2015-08-07 09:54:04 -0700    6\n",
      "2015-08-07 09:46:01 -0700    6\n",
      "2015-08-07 09:47:56 -0700    6\n",
      "2015-08-07 09:40:34 -0700    6\n",
      "2015-08-07 08:35:25 -0700    5\n",
      "2015-08-07 09:54:38 -0700    5\n",
      "2015-08-07 09:15:43 -0700    5\n",
      "2015-08-07 08:04:43 -0700    5\n",
      "2015-08-07 09:13:32 -0700    5\n",
      "2015-08-07 09:51:48 -0700    5\n",
      "2015-08-07 08:38:35 -0700    5\n",
      "2015-08-07 08:31:19 -0700    5\n",
      "2015-08-07 09:25:42 -0700    5\n",
      "2015-08-07 09:54:21 -0700    5\n",
      "2015-08-07 09:50:46 -0700    5\n",
      "                            ..\n",
      "2015-08-06 21:08:44 -0700    1\n",
      "2015-08-07 08:31:29 -0700    1\n",
      "2015-08-07 09:08:45 -0700    1\n",
      "2015-08-07 09:14:41 -0700    1\n",
      "2015-08-07 09:47:30 -0700    1\n",
      "2015-08-07 09:21:03 -0700    1\n",
      "2015-08-07 08:54:09 -0700    1\n",
      "2015-08-06 19:21:59 -0700    1\n",
      "2015-08-07 09:38:30 -0700    1\n",
      "2015-08-07 08:13:34 -0700    1\n",
      "2015-08-07 09:26:02 -0700    1\n",
      "2015-08-06 19:04:46 -0700    1\n",
      "2015-08-07 09:11:17 -0700    1\n",
      "2015-08-07 08:20:51 -0700    1\n",
      "2015-08-07 07:28:19 -0700    1\n",
      "2015-08-06 22:11:33 -0700    1\n",
      "2015-08-07 09:42:11 -0700    1\n",
      "2015-08-06 19:10:41 -0700    1\n",
      "2015-08-06 19:43:17 -0700    1\n",
      "2015-08-06 20:53:17 -0700    1\n",
      "2015-08-07 09:45:00 -0700    1\n",
      "2015-08-06 19:03:53 -0700    1\n",
      "2015-08-06 19:01:48 -0700    1\n",
      "2015-08-07 08:38:53 -0700    1\n",
      "2015-08-07 08:25:17 -0700    1\n",
      "2015-08-07 09:09:48 -0700    1\n",
      "2015-08-07 09:44:51 -0700    1\n",
      "2015-08-06 20:42:50 -0700    1\n",
      "2015-08-06 19:39:21 -0700    1\n",
      "2015-08-07 09:50:26 -0700    1\n",
      "Name: tweet_created, Length: 8748, dtype: int64\n",
      "---------------------------\n",
      "629479424153354240    2\n",
      "629678922074992640    2\n",
      "629696650072604672    2\n",
      "629491924915908608    2\n",
      "629671409610944512    2\n",
      "629658075784282112    2\n",
      "629478638056964096    2\n",
      "629689356614176768    2\n",
      "629671398517030912    2\n",
      "629670696776368128    2\n",
      "629689719056568320    2\n",
      "629697170476654592    2\n",
      "629686974086053888    2\n",
      "629675286712446976    2\n",
      "629477178607030272    2\n",
      "629691187851579396    2\n",
      "629675175131398144    2\n",
      "629696028661264388    2\n",
      "629681005151055872    2\n",
      "629691517775425537    2\n",
      "629674743843696640    2\n",
      "629684168331431936    2\n",
      "629690346079809536    2\n",
      "629477506500816897    2\n",
      "629694829807697920    2\n",
      "629483164432498688    2\n",
      "629691512159387649    2\n",
      "629696879463428097    2\n",
      "629697023663546368    2\n",
      "629487939454640129    2\n",
      "                     ..\n",
      "629480639864004608    1\n",
      "629691723426480128    1\n",
      "629691717952782336    1\n",
      "629692164511940608    1\n",
      "629693802148532224    1\n",
      "629692189304471552    1\n",
      "629692428468011008    1\n",
      "629692585532112896    1\n",
      "629481470407499776    1\n",
      "629622198945357824    1\n",
      "629692542804738048    1\n",
      "629491228543848450    1\n",
      "629680495551365120    1\n",
      "629692522789388288    1\n",
      "629692493056098304    1\n",
      "629657303994609664    1\n",
      "629692441873006592    1\n",
      "629692410264731648    1\n",
      "629481106652291072    1\n",
      "629481327839068164    1\n",
      "629692364223856640    1\n",
      "629692357852708864    1\n",
      "629481239708196864    1\n",
      "629692333961953280    1\n",
      "629516389733298176    1\n",
      "629692290429140992    1\n",
      "629692277745565696    1\n",
      "629692265972154368    1\n",
      "629471869280874497    1\n",
      "629694711536685056    1\n",
      "Name: tweet_id, Length: 13837, dtype: int64\n",
      "---------------------------\n",
      "USA                              239\n",
      "Washington, DC                   128\n",
      "New York, NY                     120\n",
      "Texas                             88\n",
      "United States                     75\n",
      "New York                          75\n",
      "Los Angeles                       65\n",
      "America                           63\n",
      "Los Angeles, CA                   62\n",
      "California, USA                   56\n",
      "Viva Las Vegas NV.                55\n",
      "Florida                           53\n",
      "California                        52\n",
      "Chicago                           47\n",
      "Austin, TX                        43\n",
      "Chicago, IL                       43\n",
      "NYC                               43\n",
      "Boston, MA                        38\n",
      "Atlanta, GA                       38\n",
      "Seattle, WA                       38\n",
      "Los Angeles                       36\n",
      "Boston                            36\n",
      "Heaven                            34\n",
      "New York City                     34\n",
      "Cocoa Beach, Florida              33\n",
      "Georgia                           33\n",
      "Ellicott City, Maryland           33\n",
      "Colorado                          31\n",
      "Washington, D.C.                  31\n",
      "Las Vegas                         29\n",
      "                                ... \n",
      "Los Angeles, CA USA                1\n",
      "Greenville                         1\n",
      "⭕️-H-I-⭕️                          1\n",
      "Marion Barryville // La La         1\n",
      "Manchester UK                      1\n",
      "oshawa ontario                     1\n",
      "Mo                                 1\n",
      "Donald Trump 2016 @NRA member      1\n",
      "Patuxent River, MD                 1\n",
      "Desert Cities ( So Cal,USA)        1\n",
      "Upper East Side, Manhattan         1\n",
      "Atlanta, Nashville, Tampa          1\n",
      "Sarasota, Florida                  1\n",
      "Berlin                             1\n",
      "USA, Nevada, Las Vegas             1\n",
      "LA-NYC                             1\n",
      "Maybe Walgreens                    1\n",
      "SF and New Orleans                 1\n",
      "St. Louis via The Loop             1\n",
      "Sydney, New South Wales            1\n",
      "ucd'19                             1\n",
      "@GiftetInc                         1\n",
      "wrong levvvveeeeerrrrr             1\n",
      "batmania southern land             1\n",
      "anywhere but nilbog                1\n",
      "Pitt '17                           1\n",
      "Texas State University             1\n",
      "S0-Hi, AZ                          1\n",
      "U.S.A.                             1\n",
      "at a NASCAR track near you!        1\n",
      "Name: tweet_location, Length: 4288, dtype: int64\n",
      "---------------------------\n",
      "Eastern Time (US & Canada)      3474\n",
      "Central Time (US & Canada)      1943\n",
      "Pacific Time (US & Canada)      1655\n",
      "Atlantic Time (Canada)           461\n",
      "Quito                            432\n",
      "Mountain Time (US & Canada)      332\n",
      "Arizona                          232\n",
      "Hawaii                           119\n",
      "London                           113\n",
      "Alaska                            77\n",
      "America/New_York                  61\n",
      "Mid-Atlantic                      40\n",
      "Tehran                            37\n",
      "Rome                              30\n",
      "Amsterdam                         29\n",
      "Indiana (East)                    27\n",
      "Dublin                            24\n",
      "America/Chicago                   22\n",
      "Greenland                         16\n",
      "Melbourne                         16\n",
      "Mazatlan                          16\n",
      "Central America                   15\n",
      "Athens                            15\n",
      "New Delhi                         13\n",
      "Tijuana                           12\n",
      "America/Los_Angeles               12\n",
      "Sydney                            11\n",
      "Casablanca                        10\n",
      "Brasilia                           9\n",
      "International Date Line West       9\n",
      "                                ... \n",
      "Kabul                              1\n",
      "CDT                                1\n",
      "Muscat                             1\n",
      "Tallinn                            1\n",
      "Istanbul                           1\n",
      "Guadalajara                        1\n",
      "Monterrey                          1\n",
      "EST                                1\n",
      "Novosibirsk                        1\n",
      "Cape Verde Is.                     1\n",
      "America/Anchorage                  1\n",
      "Moscow                             1\n",
      "PST                                1\n",
      "Asia/Muscat                        1\n",
      "America/Jamaica                    1\n",
      "Auckland                           1\n",
      "Azores                             1\n",
      "Saskatchewan                       1\n",
      "Chennai                            1\n",
      "PDT                                1\n",
      "Hanoi                              1\n",
      "Volgograd                          1\n",
      "Rangoon                            1\n",
      "Solomon Is.                        1\n",
      "Sri Jayawardenepura                1\n",
      "Warsaw                             1\n",
      "Bratislava                         1\n",
      "West Central Africa                1\n",
      "Taipei                             1\n",
      "Kuwait                             1\n",
      "Name: user_timezone, Length: 110, dtype: int64\n",
      "---------------------------\n"
     ]
    }
   ],
   "source": [
    "for att in tweet.columns:\n",
    "    \n",
    "    print(tweet[att].value_counts())\n",
    "    print('---------------------------')"
   ]
  },
  {
   "cell_type": "code",
   "execution_count": 19,
   "metadata": {},
   "outputs": [],
   "source": [
    "new_tweet_data = tweet[['text','sentiment','sentiment_confidence']]"
   ]
  },
  {
   "cell_type": "code",
   "execution_count": 20,
   "metadata": {},
   "outputs": [
    {
     "data": {
      "text/html": [
       "<div>\n",
       "<style scoped>\n",
       "    .dataframe tbody tr th:only-of-type {\n",
       "        vertical-align: middle;\n",
       "    }\n",
       "\n",
       "    .dataframe tbody tr th {\n",
       "        vertical-align: top;\n",
       "    }\n",
       "\n",
       "    .dataframe thead th {\n",
       "        text-align: right;\n",
       "    }\n",
       "</style>\n",
       "<table border=\"1\" class=\"dataframe\">\n",
       "  <thead>\n",
       "    <tr style=\"text-align: right;\">\n",
       "      <th></th>\n",
       "      <th>text</th>\n",
       "      <th>sentiment</th>\n",
       "      <th>sentiment_confidence</th>\n",
       "    </tr>\n",
       "  </thead>\n",
       "  <tbody>\n",
       "    <tr>\n",
       "      <th>0</th>\n",
       "      <td>RT @NancyLeeGrahn: How did everyone feel about...</td>\n",
       "      <td>Neutral</td>\n",
       "      <td>0.6578</td>\n",
       "    </tr>\n",
       "    <tr>\n",
       "      <th>1</th>\n",
       "      <td>RT @ScottWalker: Didn't catch the full #GOPdeb...</td>\n",
       "      <td>Positive</td>\n",
       "      <td>0.6333</td>\n",
       "    </tr>\n",
       "    <tr>\n",
       "      <th>2</th>\n",
       "      <td>RT @TJMShow: No mention of Tamir Rice and the ...</td>\n",
       "      <td>Neutral</td>\n",
       "      <td>0.6629</td>\n",
       "    </tr>\n",
       "    <tr>\n",
       "      <th>3</th>\n",
       "      <td>RT @RobGeorge: That Carly Fiorina is trending ...</td>\n",
       "      <td>Positive</td>\n",
       "      <td>1.0000</td>\n",
       "    </tr>\n",
       "    <tr>\n",
       "      <th>4</th>\n",
       "      <td>RT @DanScavino: #GOPDebate w/ @realDonaldTrump...</td>\n",
       "      <td>Positive</td>\n",
       "      <td>0.7045</td>\n",
       "    </tr>\n",
       "  </tbody>\n",
       "</table>\n",
       "</div>"
      ],
      "text/plain": [
       "                                                text sentiment  \\\n",
       "0  RT @NancyLeeGrahn: How did everyone feel about...   Neutral   \n",
       "1  RT @ScottWalker: Didn't catch the full #GOPdeb...  Positive   \n",
       "2  RT @TJMShow: No mention of Tamir Rice and the ...   Neutral   \n",
       "3  RT @RobGeorge: That Carly Fiorina is trending ...  Positive   \n",
       "4  RT @DanScavino: #GOPDebate w/ @realDonaldTrump...  Positive   \n",
       "\n",
       "   sentiment_confidence  \n",
       "0                0.6578  \n",
       "1                0.6333  \n",
       "2                0.6629  \n",
       "3                1.0000  \n",
       "4                0.7045  "
      ]
     },
     "execution_count": 20,
     "metadata": {},
     "output_type": "execute_result"
    }
   ],
   "source": [
    "new_tweet_data.head()"
   ]
  },
  {
   "cell_type": "code",
   "execution_count": 55,
   "metadata": {},
   "outputs": [
    {
     "data": {
      "text/plain": [
       "'RT @NancyLeeGrahn: How did everyone feel about the Climate Change question last night? Exactly. #GOPDebate'"
      ]
     },
     "execution_count": 55,
     "metadata": {},
     "output_type": "execute_result"
    }
   ],
   "source": [
    "new_tweet_data['text'].iloc[0]"
   ]
  },
  {
   "cell_type": "code",
   "execution_count": null,
   "metadata": {},
   "outputs": [],
   "source": [
    "import string\n",
    "from nltk.corpus import stopwords\n",
    "from nltk.stem import WordNetLemmatizer,PorterStemmer"
   ]
  },
  {
   "cell_type": "code",
   "execution_count": 32,
   "metadata": {},
   "outputs": [],
   "source": [
    "from nltk.tokenize import word_tokenize"
   ]
  },
  {
   "cell_type": "code",
   "execution_count": 33,
   "metadata": {},
   "outputs": [],
   "source": [
    "token = word_tokenize(ss)"
   ]
  },
  {
   "cell_type": "code",
   "execution_count": 25,
   "metadata": {},
   "outputs": [],
   "source": [
    "import re"
   ]
  },
  {
   "cell_type": "code",
   "execution_count": 52,
   "metadata": {},
   "outputs": [],
   "source": [
    "def process_tweet(tweet_text):\n",
    "    return \" \".join(re.sub(\"(@[A-Za-z0-9]+)|([^0-9A-Za-z\\t])\",\n",
    "                           \" \",tweet_text.lower()).split())"
   ]
  },
  {
   "cell_type": "code",
   "execution_count": 53,
   "metadata": {},
   "outputs": [
    {
     "name": "stderr",
     "output_type": "stream",
     "text": [
      "C:\\Users\\user\\Anaconda\\lib\\site-packages\\ipykernel_launcher.py:1: SettingWithCopyWarning: \n",
      "A value is trying to be set on a copy of a slice from a DataFrame.\n",
      "Try using .loc[row_indexer,col_indexer] = value instead\n",
      "\n",
      "See the caveats in the documentation: http://pandas.pydata.org/pandas-docs/stable/indexing.html#indexing-view-versus-copy\n",
      "  \"\"\"Entry point for launching an IPython kernel.\n"
     ]
    }
   ],
   "source": [
    "new_tweet_data['clean']  = new_tweet_data['text'].apply(process_tweet)"
   ]
  },
  {
   "cell_type": "code",
   "execution_count": 54,
   "metadata": {},
   "outputs": [
    {
     "data": {
      "text/html": [
       "<div>\n",
       "<style scoped>\n",
       "    .dataframe tbody tr th:only-of-type {\n",
       "        vertical-align: middle;\n",
       "    }\n",
       "\n",
       "    .dataframe tbody tr th {\n",
       "        vertical-align: top;\n",
       "    }\n",
       "\n",
       "    .dataframe thead th {\n",
       "        text-align: right;\n",
       "    }\n",
       "</style>\n",
       "<table border=\"1\" class=\"dataframe\">\n",
       "  <thead>\n",
       "    <tr style=\"text-align: right;\">\n",
       "      <th></th>\n",
       "      <th>text</th>\n",
       "      <th>sentiment</th>\n",
       "      <th>sentiment_confidence</th>\n",
       "      <th>clean</th>\n",
       "    </tr>\n",
       "  </thead>\n",
       "  <tbody>\n",
       "    <tr>\n",
       "      <th>0</th>\n",
       "      <td>RT @NancyLeeGrahn: How did everyone feel about...</td>\n",
       "      <td>Neutral</td>\n",
       "      <td>0.6578</td>\n",
       "      <td>rt how did everyone feel about the climate cha...</td>\n",
       "    </tr>\n",
       "    <tr>\n",
       "      <th>1</th>\n",
       "      <td>RT @ScottWalker: Didn't catch the full #GOPdeb...</td>\n",
       "      <td>Positive</td>\n",
       "      <td>0.6333</td>\n",
       "      <td>rt didn t catch the full gopdebate last night ...</td>\n",
       "    </tr>\n",
       "    <tr>\n",
       "      <th>2</th>\n",
       "      <td>RT @TJMShow: No mention of Tamir Rice and the ...</td>\n",
       "      <td>Neutral</td>\n",
       "      <td>0.6629</td>\n",
       "      <td>rt no mention of tamir rice and the gopdebate ...</td>\n",
       "    </tr>\n",
       "    <tr>\n",
       "      <th>3</th>\n",
       "      <td>RT @RobGeorge: That Carly Fiorina is trending ...</td>\n",
       "      <td>Positive</td>\n",
       "      <td>1.0000</td>\n",
       "      <td>rt that carly fiorina is trending hours after ...</td>\n",
       "    </tr>\n",
       "    <tr>\n",
       "      <th>4</th>\n",
       "      <td>RT @DanScavino: #GOPDebate w/ @realDonaldTrump...</td>\n",
       "      <td>Positive</td>\n",
       "      <td>0.7045</td>\n",
       "      <td>rt gopdebate w delivered the highest ratings i...</td>\n",
       "    </tr>\n",
       "  </tbody>\n",
       "</table>\n",
       "</div>"
      ],
      "text/plain": [
       "                                                text sentiment  \\\n",
       "0  RT @NancyLeeGrahn: How did everyone feel about...   Neutral   \n",
       "1  RT @ScottWalker: Didn't catch the full #GOPdeb...  Positive   \n",
       "2  RT @TJMShow: No mention of Tamir Rice and the ...   Neutral   \n",
       "3  RT @RobGeorge: That Carly Fiorina is trending ...  Positive   \n",
       "4  RT @DanScavino: #GOPDebate w/ @realDonaldTrump...  Positive   \n",
       "\n",
       "   sentiment_confidence                                              clean  \n",
       "0                0.6578  rt how did everyone feel about the climate cha...  \n",
       "1                0.6333  rt didn t catch the full gopdebate last night ...  \n",
       "2                0.6629  rt no mention of tamir rice and the gopdebate ...  \n",
       "3                1.0000  rt that carly fiorina is trending hours after ...  \n",
       "4                0.7045  rt gopdebate w delivered the highest ratings i...  "
      ]
     },
     "execution_count": 54,
     "metadata": {},
     "output_type": "execute_result"
    }
   ],
   "source": [
    "new_tweet_data.head()"
   ]
  },
  {
   "cell_type": "code",
   "execution_count": 61,
   "metadata": {},
   "outputs": [],
   "source": [
    "def tweet_cleaning(tweet_text):\n",
    "    tweet = tweet_text[3:].replace(\"gopdebate\",' ')\n",
    "    return tweet"
   ]
  },
  {
   "cell_type": "code",
   "execution_count": 62,
   "metadata": {},
   "outputs": [
    {
     "name": "stderr",
     "output_type": "stream",
     "text": [
      "C:\\Users\\user\\Anaconda\\lib\\site-packages\\ipykernel_launcher.py:1: SettingWithCopyWarning: \n",
      "A value is trying to be set on a copy of a slice from a DataFrame.\n",
      "Try using .loc[row_indexer,col_indexer] = value instead\n",
      "\n",
      "See the caveats in the documentation: http://pandas.pydata.org/pandas-docs/stable/indexing.html#indexing-view-versus-copy\n",
      "  \"\"\"Entry point for launching an IPython kernel.\n"
     ]
    }
   ],
   "source": [
    "new_tweet_data['clean_tweet']  = new_tweet_data['clean'].apply(tweet_cleaning)"
   ]
  },
  {
   "cell_type": "code",
   "execution_count": 63,
   "metadata": {
    "scrolled": true
   },
   "outputs": [
    {
     "data": {
      "text/html": [
       "<div>\n",
       "<style scoped>\n",
       "    .dataframe tbody tr th:only-of-type {\n",
       "        vertical-align: middle;\n",
       "    }\n",
       "\n",
       "    .dataframe tbody tr th {\n",
       "        vertical-align: top;\n",
       "    }\n",
       "\n",
       "    .dataframe thead th {\n",
       "        text-align: right;\n",
       "    }\n",
       "</style>\n",
       "<table border=\"1\" class=\"dataframe\">\n",
       "  <thead>\n",
       "    <tr style=\"text-align: right;\">\n",
       "      <th></th>\n",
       "      <th>text</th>\n",
       "      <th>sentiment</th>\n",
       "      <th>sentiment_confidence</th>\n",
       "      <th>clean</th>\n",
       "      <th>clean_tweet</th>\n",
       "    </tr>\n",
       "  </thead>\n",
       "  <tbody>\n",
       "    <tr>\n",
       "      <th>0</th>\n",
       "      <td>RT @NancyLeeGrahn: How did everyone feel about...</td>\n",
       "      <td>Neutral</td>\n",
       "      <td>0.6578</td>\n",
       "      <td>rt how did everyone feel about the climate cha...</td>\n",
       "      <td>how did everyone feel about the climate change...</td>\n",
       "    </tr>\n",
       "    <tr>\n",
       "      <th>1</th>\n",
       "      <td>RT @ScottWalker: Didn't catch the full #GOPdeb...</td>\n",
       "      <td>Positive</td>\n",
       "      <td>0.6333</td>\n",
       "      <td>rt didn t catch the full gopdebate last night ...</td>\n",
       "      <td>didn t catch the full   last night here are so...</td>\n",
       "    </tr>\n",
       "    <tr>\n",
       "      <th>2</th>\n",
       "      <td>RT @TJMShow: No mention of Tamir Rice and the ...</td>\n",
       "      <td>Neutral</td>\n",
       "      <td>0.6629</td>\n",
       "      <td>rt no mention of tamir rice and the gopdebate ...</td>\n",
       "      <td>no mention of tamir rice and the   was held in...</td>\n",
       "    </tr>\n",
       "    <tr>\n",
       "      <th>3</th>\n",
       "      <td>RT @RobGeorge: That Carly Fiorina is trending ...</td>\n",
       "      <td>Positive</td>\n",
       "      <td>1.0000</td>\n",
       "      <td>rt that carly fiorina is trending hours after ...</td>\n",
       "      <td>that carly fiorina is trending hours after her...</td>\n",
       "    </tr>\n",
       "    <tr>\n",
       "      <th>4</th>\n",
       "      <td>RT @DanScavino: #GOPDebate w/ @realDonaldTrump...</td>\n",
       "      <td>Positive</td>\n",
       "      <td>0.7045</td>\n",
       "      <td>rt gopdebate w delivered the highest ratings i...</td>\n",
       "      <td>w delivered the highest ratings in the histo...</td>\n",
       "    </tr>\n",
       "  </tbody>\n",
       "</table>\n",
       "</div>"
      ],
      "text/plain": [
       "                                                text sentiment  \\\n",
       "0  RT @NancyLeeGrahn: How did everyone feel about...   Neutral   \n",
       "1  RT @ScottWalker: Didn't catch the full #GOPdeb...  Positive   \n",
       "2  RT @TJMShow: No mention of Tamir Rice and the ...   Neutral   \n",
       "3  RT @RobGeorge: That Carly Fiorina is trending ...  Positive   \n",
       "4  RT @DanScavino: #GOPDebate w/ @realDonaldTrump...  Positive   \n",
       "\n",
       "   sentiment_confidence                                              clean  \\\n",
       "0                0.6578  rt how did everyone feel about the climate cha...   \n",
       "1                0.6333  rt didn t catch the full gopdebate last night ...   \n",
       "2                0.6629  rt no mention of tamir rice and the gopdebate ...   \n",
       "3                1.0000  rt that carly fiorina is trending hours after ...   \n",
       "4                0.7045  rt gopdebate w delivered the highest ratings i...   \n",
       "\n",
       "                                         clean_tweet  \n",
       "0  how did everyone feel about the climate change...  \n",
       "1  didn t catch the full   last night here are so...  \n",
       "2  no mention of tamir rice and the   was held in...  \n",
       "3  that carly fiorina is trending hours after her...  \n",
       "4    w delivered the highest ratings in the histo...  "
      ]
     },
     "execution_count": 63,
     "metadata": {},
     "output_type": "execute_result"
    }
   ],
   "source": [
    "new_tweet_data.head()"
   ]
  },
  {
   "cell_type": "code",
   "execution_count": 139,
   "metadata": {},
   "outputs": [],
   "source": [
    "from wordcloud import WordCloud,STOPWORDS\n",
    "import matplotlib.pyplot as plt"
   ]
  },
  {
   "cell_type": "code",
   "execution_count": null,
   "metadata": {},
   "outputs": [],
   "source": [
    "''.join(news for news in news_df['pre-processed news'][news_df['news_type']=='fake'])"
   ]
  },
  {
   "cell_type": "code",
   "execution_count": 134,
   "metadata": {},
   "outputs": [],
   "source": [
    "positive_tweet = ''.join(tweet for tweet in new_tweet_data['clean_tweet'][new_tweet_data['sentiment']=='Positive'])  \n",
    "negative_tweet = ''.join(tweet for tweet in new_tweet_data['clean_tweet'][new_tweet_data['sentiment']=='Negative'])\n",
    "neutral_tweet = ''.join(tweet for tweet in new_tweet_data['clean_tweet'][new_tweet_data['sentiment']=='Neutral'])"
   ]
  },
  {
   "cell_type": "code",
   "execution_count": 135,
   "metadata": {},
   "outputs": [
    {
     "data": {
      "text/plain": [
       "'didn t catch the full   last night here are some of scott s best lines in 90 seconds walker16 http t co zsffthat carly fiorina is trending hours after her debate above any of the men in just completed   says she s on  w delivered the highest ratings in the history of presidential debates trump2016 http t cotx on my first day i will rescind every illegal executive action taken by barack obama  just woke up to tweet this out   best line of the night via http t co 6ov5hxhicvi loved scott walker as mark harmon s romantic rival in summer school look it up  cruz has class amp truth that gets my vote  debate w delivered the highest ratings in the history of presidential debates trump2016 fox say thanksbig moments were vs and reaction to women question kellyfiljoin isis and sign your death warrant signed next president of the us   wakeupamerica cruzcrew httbefore the   14 focus groupers said they had favorable view of trump after only 3 saw him positively httpholly renee just made my first donation to so impressed by her   performance fiorina http t co jlfhfvz7stdonald trump s campaign reveals 1 important thing twitter trolls are real people and they vote that should scare evedebate bill and martha were the a team in the first debate 2nd debate was an ambushgraham 1st   encouraging to see several candidates express their faith in god and his son jesus christ http t cgreat way to start friday carlyfiorina   http t co 1ai9cuz8byif elected on my first day as president i ll rescind every illegal and unconstitutional executive order enacted by pres oban though she s a super conservative reporter i actually like megyn kelly s interview style amp she did great at the  credit for this joke goes to someone else but it is funny   http t co icredssplrsimply incredible http t co apxm8ao8jf last night s   doubled the previous record for most watched primary debate i a great time watching the   last night http t co qcmxmu8mlpjohn kasich helped ohioans create 350 000 new jobs he can do it for america   http t co kbzfbjyp2case help the maryknoll sisters replace windows in their convent https t co fdgxg3vv13 catholic gofundme trcot  ublicans debate economics rubio wins bush falters huckabee exaggerates http t co molloaqhwq   knowmorenotless re right last i heard was that only women could give birth to s child has that changed   https t co 5hkcefp1hfchris christie is really standing out at the  hey you know who didn t whine about unfair questions grow a set why don t ya gopdemarco nailed it on abortion we must protect life   http t co nn6s7do22jgo carly go carly go carly carly2016   http t cobest moment of the   last night rand telling christie to go get another hug from obamafights back against what will you do abt immigration q says border is porous and that must be fixed firstmp is right about but really needs to study matthew 7 verses 3 5   https t co ygnprhiehvhought had the best post   interviews of the night gave them all a chance 2straighten their positiondebate 2016 teamdrbencarson wow brilliant cool calm amp collected empowering  winner drudge 50 187k time 46 25k foxsd 49 http to   winners marcorubio kasich donaldtrump losers scottwalker randpaul bencarson all others were completely forgettablesmaller govt ohio government payroll is smaller than it s been in 3 decades http t co igfif4j1tt   http t coi know how extraordinary this nation is  io still my preference but i can see point of his critics over opportunism inconsistency   ever tell to go wait in the car her bad attitude suggests it waronwomen  he was on fire s on fire debate performance https t co 0a1w02w7sz   perry2016er the   all of the promises being made by startups at this tech conference seem quite reasonablejohn kasich is ready to lead join the team claire http t co dy8knz122t   https t co knwmideqtyexcited for   kasich4us republicandebate kasich2016 been waiting for 20 yearsz has class amp truth that gets my vote  tom hanks finally somebody who makes some sense   debatewithberniedebate trump is breaking records so what he s not a polished politician makes me love him even more https t co tgowchxf3xsion of the   religiousupamoviegot the best reviews and deserved them read more of our nreditorial recap of the   gt http t co stzwbrutal question to the assclown from megan kelly the lesson here be careful what you tweet on twitter  t closing statement  we have to stop worrying about being loved amp start worrying about being respected tellingitlikeitis   httpsthese were far and away the best tweets of last night debatewithbernie   http t co gzdltyumnn great by challenging the candidates in   if these candidates can t handle a tough question they could never b potusrightly so frank rightly so   https t co 32cfasi17dbencarson great close he operates on brains so he doesn t worry about skin color  dr ben carson did a great job tonight loved your closing statement   killed it last night at the   glad to have some that cares for america makeamericagreatagainwhen the   is more exciting than anything else on tv in the past 10 yearsshiiiittt it s tough to say who is making me more horny     was better than i thought it d be though candidates finessed issues with sound bytesbush was so thoughtful in   rethink911 http t co k37hnbe2jy watching debate 1 and so far the moderators and the participants are better  lon to jon stewart please come back i can t do it alone https t co iua0hy2uc6   politicsplayed utmost authority at   critic says http t co 8jbvwjtj3t http t co mel8jxm19bald is my hero   http t co 9zzflchjqo the   last night only candidate who answered questions directly and not afraid to take on tough issuesmike huckabee was the star of the luntz focus group show when he spoke the feedbackching the primetime   this afternoon i think was the real winner quiet but effectivehats off to ben carson for using the term useful idiots re hillary clinton and the secular progressive movement gopdi actually agree with on something she said didn t hurt himself in   and i concurlike ben carsons brain mike huckabees heart marco rubios soul chris christies fight john kasichs hope add carly ficreating jobs is our greatest moral purpose because they strengthen our families amp communities   http t co 80xemagnificent at the first   i support ted cruz as potus but would support you as running mate or potich the clear standout among   cannon fodder but his record contradicts statements on lgbt acceptance http t co ynuckulnjv  carly fiorina dominates social media even beating out trump fox nation http t co vueeverddydisagree all you want   was hit job on and calculated mute job onctually agree with on something she said didn t hurt himself in   and i concurlet s take america from hope to higher ground will you help gt http t co tky8smc27y imwithhuck   httpmay the lord guide my words tonight let his wisdom be my thoughts  he was just so eloquent he knew what he was saying he believed what he was saying imwithhuck   httpsdebate debate was good once they quit throwing crap at and got substantive candidates handled the gotcha questionswho watched the gop debate last night and saw trump donaldtrump   trumpforpresident  never lose focus on the truly important issues defundpp amp praytoendabortion http t co oxiow3yjs4s is an amazing degree of commitment to a running joke http t co vpxxlxevhi   photobombfocus group he was very articulate very relatable amp made a lot of good points imwithhuck   h a fan of foxnews but she deserves better than to be called bimbo by ldonaldtrump for doing her job   uniteblueellent post gop debate analysis from my friend of http t co giuogvmnnc  hillary spent the   with kim and kanye this is what i love to see http t co h9t0a4ijxx http t co kqs216nbthank you for speaking out on govermentcartel makeamericagreatagain securetheborder   http t coch candidate really likes hugs the one word that defined each one s   http t co rghrenzewi http t co rzzzg0m3p0  loving fiorina smart and on pointdawny rt rhondawatkgwyn imwithhuck   th2016 ccot tcot teaparty pjnet http t co ba4o0kwluulove that cruz introduced a bill to strip citizenship from americans who join isis   http t co mylrlv0u7eon   is a writer at the top of his game http t co jts30alyuid of glad i didn t get to watch the   yesterday better for my mental healthlly thought had a solid performance last night  rtest amp wisest man in the room last night barely got any speaking time i m a little salty about that  had a good night he did well tonight imwithhuck   https t co fn6m0gmknqgets powerful response from focus group kellyfile  cruzcrew the outsider always tells the truth honors commitments   http t co wheorxlcidben carson no one seems to see me or cares what i have to say but racism doesnt exist kkkorgop   http ttwo debates one winner carly http t co piewa1jccc carly2016  crazy day fun night exhausting week this is moments before the   firing up for the big event http t co vwgcalled it   2016 cruztovictory http t co p5jem3cfpwthey re talking about hilary like she s john wick i love it  mptastic   one of the biggest winners thursday night without even stepping on the prime time stage  absolutely i have authored kate s law the leader of our own party blocked kate s law cruzcrew   http t co 84ryone still talking about what a great job did at the   last night articulate and very good points madeis christie pro life republicans should never apologize for being pro life http t co mdmned8lgq   http t co t8oljo68mjad to laugh when huck mentioned the pimps get em all mike imwithhuck   th2016 ccot tcot https t co lmoh591w9tovernight s   had a 16 0 household rating the biggest gop debates in 2011 12 had 5 3 ratings http t co vhl i am not a fox news fan and not a clinton fan but she did an amazing job last night impressed with her qs  i think won   hard hitting questions of concern to majority of voter not just fringe gop base mepriceless cleans chris matthew s clock post debate this woman is a contender   gocarly ha great   discussing issues important to the american people https t co wemkfa9vln join our fight https t co xvhtly so frank rightly so   https t co 32cfasi17dning cruzcrew keep it up tedcruz2016   https t co ur7q4kjrfxwakeupamerica i agree is a force tcot sisterpatriots carly2016   http t cmakes me giggle guuuurrrl   https t co 4jka5buhxvthe other candidates are stayin pretty calm considering they assume dr carson s gonna mug them at some point gopdetrump s really great in orange is the new orange  mp2016   the illuminati want him out but he will win the same http t co 2kvlxwb9kd http t co zycvny4noqlove cruz if you join isis you are signing your death warrant go ted go anyone that joins isis loses their citizensblog god made a cameo appearance in last night s   we re sure there will be more to come http t co 01llpwatch strong closing statement at the   video https t co kqlgcbav7p cruzcrew is waking up  ated like the little gnat he is   tcot trump makeamericagreatagain gotrumprt twitter declares the   winner http t co lx0rkahzmqthe military is not a social experiment the purpose of the military is to kill people and break things huckabee sazing marco rubio schools on when life begins https t co prklk6x4ji prolife   tcotvideo crushes frank luntz focus group http t co ztruvofwgg cc huckabee2016i am more committed than ever to support democratic nominee thanks to   and any dem who even hesitates is not a dnie sanders is a fucking national treasure feelthebern   jonstewart donaldtrump bernie2016 democratwho wants a hug   http t co iats8vyx7cwins 1st   makeamericagreatagain trump2016 teamtrump trumpforpresident http t co 2p8dwone summed it up better than berniesanders   https t co jl65pkp3ua impressed by she s classy inspires confidence amp trustworthiness everyone saw her dominate happy hour  i don t know who won the debate but definitely won the award for best   live tweetinggood point wait til you hear him in a serious debate   foxnews https t co ighqi3lgh9ught you did a good job articulating the issues  rubio has spoken the truth wakeupamerica   http t co cl2buzxqyz s this the most retweeted comment of the   b c it s more truthful than anything any gop candidate said https t co nicl3cyjps best closing statement was s   kellyfile http t co wkqihlnxn4 i so agreece ronald reagan is definitely the nominee conservatives have been waiting for tcot   cruzcrewker kept his points tight and clean but i want to see him run the clock longer in the next debate  2015   winner time has leading with 42 trump2016 makeamericagreatagain http t co dockscourse it d be cool to see which users ranked highest for   tweets too after all we re the tweeterst moment of the   last night rand telling christie to go get another hug from obamaas pretty impressed by rubio kasich and cruz in the primetime debate last night  personally this was my favorite moment from last night   http t co aivdipqw5rgraham as you watch the   pray for the future of this nation and that america would turn back to god prayforamerii want a trump for president shirt  the winner is clear   http t co w2gxqowo4pdone with after last nights   showed her true colors but shined trump2016debate ted cruz s precious daughters steal the show there were certainly some did they really just say http t co jzlh4lrzh4i predicted big ratings for fox s   i did not expect they d be this big http t co ijsedrculzyn you are now officially charted on the moonbat hit parade megynkelly  ich making a better showing so far than i thought he would  i m on the fence between huckabee and cruz honorable mention to rubio   bush a proven conservative record amp proven record of winning   https t co vn45hf6yemnificent at the first   i support ted cruz as potus but would support you as running mate or potus honestyate that i missed the   last night but these high lights are on point debates one winner carly http t co piewa1jccc carly2016  go carly go carly go carly carly2016   http t co pk45i5zvk0debate was interesting to watch some candidates had some good points about the how the economy has change in the 10 yrsate preformances kasich a rubio a carson b christie b trump b bush b cruz b huckabee b paul c walker c   kasich rubioi went to a gay wedding applause and there were black people there too standing ovation  tt walker s wisconsin is seeing the fastest shrinking middle class in america http t co zopokedb8l   votersfirst trump2016ners of   sen amp former ceo by far best republican presidential candidates http t co v9qdpmpkk4chewbacca should be up there just roaring every once in a while would fit right in   social issues next  after   feelthebern can step over fallen hillary2016 justice fbi fec to dissect too of 22nd amendment httpspanked the boys tonight she wasn t even on my radar is now  hought did an awesome job at the   personallycruz s line about campaignconservative cuts 2 the core of the issue with gop amp also the shortcomings of   httellent job last night at the   class act all around proud to have you as a republican candidate bencarsonif we re going to make this an american century we ve got to empower small businesses thanks for your questionlooking forward to listening to s news roundup this morning you couldn t look away   http t co o8rtitvgdtif i m our nominee we ll be the party of the future   best answer of night in response to immigration its not stupidity it is how both sides want it  eresting   analysis clearly excelled as conservative leader we need go tcot https t co pve8wuodketa love  16 of united states homes with tv sets tuned in to   wow http t co trs8vmwjyg t forget to vote for him especislly when he has to go independent lulz huckster rnc gop  cutive experience matters   ccot gop teaparty imwithhuck tcot th2016 renewus wakeupamerica https t co uca5ogut29primary voters your chances look good for the general election it d be a shame if something happened  teammarco understands immigration better than anyone on stage   http t co ivvfcxpnn7honor of last night s   i d like to add an exclamation point to the end of my name and maybe get it put on jeb vanity platewe are the united states of america not the divided states of america   http t co ritsrzn t catch the full   last night here are some of scott s best lines in 90 seconds walker16 http t co zsffbjmvx8ple really need to do their research on carly fiorina she was extremely impressive in the   yesterdayfoxnews sandiego clearly won the   cc http t co wvr3qhamrhhoffman best line re   i will fight to defend liberty because my family knows what it s like to lose it httmultiple shots of scott walker nodding behind ben carson was one of the best parts of   the real strength ofhought you did a fabulous job at the   debate and i m a democratcruz had a great night hannity  ldn t this be refreshing   thinkbeforeyouvote stand willneverlie https t co vgz4knfxk7some results on how candidates did at   makeamericagreatagain trump2016 kellyfailed http t coners losers amp here s my round up of   gt http t co rnunbpawgp http t co sfqiwda61gdebate megyn kelly a rubio a fiorina a christie a bush b perry b kasich b walker b cruz c carson c jindal c paul d trump f restn u look at   ask given 1 2 the time in 1on1 debate who would b most impressive by farsocialmedia and the foxnews   are the future jebbush marcorubio scottwalker realbencarson johnkasich chrimp carson ticket would win in a landslide republican potus trump2016   trump2 names should be trending after   carlyfiorina amp tedcruz the winners of round 1debate w delivered the highest ratings in the history of presidential debates trump2016 http t co sy3wnqwhtbi ll fight for the u s military to be the most feared respected amp capable fighting force the world has ever knownthe biggest pleasant surprise in tonight s   was ben carson kellyfileled appeared follish and rocked the house   https t co buoye6dnllthe american people want a president who will tell the truth sen ted cruz   pjnet ccot http t co wver   feelthebern can step over fallen hillary2016 justice fbi fec to dissect too of 22nd amendment http t co 4ljeug3gyeimwithhuck   dna defines a person 5th amp 14th amendments guarantee a person the righttolife dontbackdown httpslaying   http t co slfvbkscmsa treat for us all to enjoy   kanye are great examples of hillary s useful idiots that was referring to in  twitter declares the   winner http t co lx0rkahzmqrightchick i just love she owned last night   ycot http t co 6khqpdqpn9nd outs   1 2 3 4 5 are so spoton rush about t order coming down fox to take out trump   i knew it was true on 1st cruz2016natedrake really excited about this campaign season googling the date now for the   because i want to stay informed and onas surprisingly impressed with last night definitely is moving up my list of candidates  rd some of your response from   they were clear and to the point wish you good luckwell holy shit kasich good on you  ao you ll find this very funny https t co rhtbzsjkue   republicandebate lmfaoit would be so epic i d love to see cruz rubio fiorina debate just the three of them epic   https t co s1aw that he s so good stands way out in this gop crowd connects with people like me rick2016   https t co cjwumdtdpwi think did great tonight did great too otr greta  shared some inspiring applause lines at last night s   http t co 5hwdkfgpxa http t cois brilliant principled and fearless the future of the party the est rove priebus is a statist dihere s your contrast   http t co lxax6wuunjesses walker s   performance via http t co 87p5eew8w7the   was asking candidates questions she thought the left would throw at them if they won the nomination smartcalls debate closing a show stopping zinger imwithhuck  taking risks with his candidacy last night scottwalker calls jesus by name it was worth it courage   htried their best to destroy tonight however it didn t work it just exposed your network fail gfinally a tedcruz question and he hammers it over the center field wall amp out of the park cruzcrew    analysis who won gt http t co fwghqvz9dg imwithhuckgetting more excited for the   http t co efgro33pmogood explanation as to why trump surges ahead of other cuckservative candidates   http t co hagmnn1tv7 httpeamericagreatagain   trumpforpresident i put this together for you http t co tztk7bc1rm viago trump won the debate christie i think was a strong second  ill support the eventual gop candidate over bernie the socialist hillary the habitual liar or biden the buffoon  tom line is that i will vote for any of the candidates last night over  candidates trump makes the   interesting for a change top 10 moments from thursday s debate http t co 1069hw6pbls   is keeping the spray tan industry alive and thriving bringingjobsant to rt all of   tweets there is nothing better on this fridaydid you know that graduated from stanford uofmaryland and mit i didn t but know now impressive 2ndlookublicans are turning on fox news and it is awesome  cruz we need a commander in chief who makes clear if you join isis then you are signing your death warrant  co rubio debating like a champ partyofthefuture  ly fiorina is really impressive i hope she can get more press and gain some steam   did i have to be at a campground on the day of the first  debate mission statement tell more people that u love them u never know how much they might need it c broganfo early ratings for   16 of us households tuned in 2x the old record more http t co fefioelxnl http t co 4aqnyhwc64don t care who your candidate is or what party you vote for this answer from is on point https t co dh4ifzb second most retweeted presidential candidate tweet of the   https t co rybdnpfypw say bush and kasich came out of last nights debate quite well they seem more moderate compared to others  when talks we are such similar souls this is the 1980 election all over amp a real conservative is the answer go is everyone giving a hard time on   she did a great job asking tough questions we need that now more thaneverlast night s   what topics merited attention and which were ignored goptbt http t co tqxw14qzzbp t co ys2n1uflht   wrapupfrom what i ve seen so far from this top ten debate carlyfiorina is winning this thing carly2016   wakeupamergreat job tonight you seemed like the only one up there with a soul  port 1 u like tcot this is still america but pls vet so u know what ur getting https t co hrlwhet2x8   foxnews iapoliticsanalysis says won the debate gt http t co quwoclfs8q imwithhuck  i am 50 amp have never been more proud of a political candidate ty hope more americans will soon feel same cruzcrtrongly suggest everyone to listen to dennis prager today  icymi at   calls out houston mayor annise parker over hero controversy http t co qxb1edqoznus immigration fact undocumented immigrants paid 10 6 billion in taxes in 2010   economy http t co z1v2fvrubrt is love presenting d trump at the roxbury https t co serwdl1yfc donaldtrump   http t co k5kvybeij8harris on says helped himself the most in the   kasich s 1st answer of night includeit sure was huckabee delivered his message well imwithhuck   th2016 ccot tcot teaparty pjnet httpsdonald trump is the shooter mcgavin of politicians  nk luntz   great news for ted cruz https t co lzwvlubgnq vianamed has one of his winners of   gt https t co obsvewvo41 imwithhuckfiorina didn t make a single mistake and made strong arguments with details to back them up excellent job  rospect i liked way was respectfully listening to other candidates in   pictures very revealingted cruz was the smartest most articulate man on stage at   most presidential https t co umk17vuktj   proved why is here for good neurosurgery deserving potus genius http t co 2ff3omzjsm cruz won that debate imo   early numbers suggest record audience yea people are watchingn the media doesn t get it no one won last night s   all the men further alienated their base carly was the only starike what marco rubio had to say at the beginning actually   fantastic in the debate on to the white house imwithhuck   th16 https t co myelasnpnbsubstantive vigorous revealing it was probably just over your head  feminists can complain about the temperature in a room being a form of patriarchy but trump can t call one of them a slob29 rts for truth doing what you say https t co 0riaoipykq join s fight http t co qusaxyqqvn   rsr15mp i would shut down the gov t to defund planned parenthood and obamacare http t co xiwha8kjf7 woot  is winning key takeaways from the foxdebate http t co dylhhihpdt   sayfie tcot gop2016t about the american people should hear more from this guy amazed me at the   outnumberedfnct should you do the day after last night s   google you know that graduated from stanford uofmaryland and mit i didn t but know now impressive 2ndlook  this is men s warehouse s biggest night   clowncardumpsterfirejust wanted to say good luck to all the   candidates taking the stage shortly for the first debate at 5 00pmis christie seems pretty chill  substance rand paul bested christie kreme http t co gcsszpjtht nsa   standwithrandt a great   i think the republican party won the whole thing they have some great candidatesedictcumberbatch showed us instagram luv lazers straightoutta brooklyn on fleek like the   http t co eadmd4rhmsl yeah   carsonwins bc2dc16 imwithben winbenwin inittowinit https t co yrhbygjemvat article about the craziness that was last night s   https t co 6rwqandcfuon t like but i will defend her from any obnoxious buffoon calling her a bimbo and insulting women  as governor of florida i defunded plannedparenthood i created a culture of life in our state   http twriting for argues last night was a good night for http t co 8te0nzqhrv gopdebest closing statement was  lic policy and the   or why donaldtrump is winning http t co 2tv5m6onvoacross the tv news aisle a salute to chris wallace and for smart sharp unflinching quethis is everything   hillaryforpresident http t co wrdbmfapbmcautiously optimistic is how i feel the morning after  go carly go carly go carly carly2016   http t co oheklwzarcthank you megyn i wasn t sure i was going to to get to talk again   http t co gnnn9idonstune in kellyfile is live from the   http t co o9s38elwo5ms bee very interesting   https t co 6inkmv9kzwover the past six years we ve seen the results of the obama clinton foreign policy leading from behind is a disaster gopdebted cruz is positioning himself as all the fight and fury of trump without the unpredictability smart move  we ve seen a lot of campaign conservatives but if we re going to win in 2016 we need a consistent conservative   carson ted cruz and you know who won the google search war http t co tyqvy0bhup  i have no doubt carlyfiorina has the stones to lead this country in a better direction  rubio god has blessed the republicans with some very kind candidates the democrats can t even find one  le i sometimes don t like s character he s still the only candidate calling it like it is   ycotdebate gop marco rubio had the best zinger of the night how fortunate we are to have so many good candidates while the dems have noneuinely impressed by thanks for your thoughtful questions on women foreign policy and race  debate winner in my book dale cubani trust trans solider to protect my freedom over any day lgbt   http t co zncarlyfiorina knows what she s doing name your opponents weakness name your own strenghths state what she wanrts ask fori agree with marco rubio helped himself the most http t co k7tgoym8bi   was targeted by in a biased attack no choice but 2 b on defens could not offer any real subsatnce  tel williams just endorsed john kasich for president   http t co ez9yl3uxxshooray for fox news s take on the   http t co c4jrx2mnjdn says for t sake of argument letmeplaythedevilsadvocate she means it amp no one does it better   kellyfilei m a different kind of republican   he really is and he needs to show that contrast instead of panderithe perfect remedy for a   hangover is to ff santoro cosgroveellent wow stopcommoncore commoncorenews homeshool tcot ccot http t co e8uwgy4chf   iowakicked butt amp looked fabulous while doing it freedom  we must rein in wall street i call on every candidate to commit to these four principles wwomd   http t conyt assesment of s   performance made himself matter again standwithrand http t co b54cr1kx4qwinner of tonight s two debates  ike senator   carson2016so this isn t a bash trump debate this is a destroy trump debate but trump is still standing  okay i m listening now you were amazing last night girlpower  ing credit where it s due i thought all three   moderators did a great job they took it to the candidateswe don t have time for tone we have to go out and get the job done donald trump   http t co miyhipdkqser watching the   today i feel proud to be an american amp have as my champion amp leader hillary2016glad people finally appreciate honesty i ve got all the honesty you can handle and the battle scars to prove it  the democrats are wrong we can grow this economy and create jobs http t co dwgvs5zjq7  er the   i m all yaskween http t co 2vryvxptgump amp co drew nba finals type viewership for   murica wins againhaving attended amp s announcements i assure you both mentioned illegal immigration as a prioriteally think a alliance is in order this would be a political powerhouse foxnewsdebate   2016electionjohn kasich s standout performance in   http t co uc6zgujyvm http t co pnpfowv7ix kasich4us experiencee the only intelligent answer on entitlements last night and he only got 65 of it right  really impressed with dr carson and senator rubio tonight  the best closing statement was   post http t co i1lpjggehd shines   trump bush carson fiorina foxnewskabee the military is not a social experiment http t co vv2lxn2u6k agreed  article calling s performance at   fantastic http t co 0qhbseqez8 kasich4us kasich2016y crap gt http t co q81yslxe47 this lady is as sharp as it gets gt watch out boys   best answers from yesterday in substance and style came from bar none   outnumberedi pledge to oppose amnesty amp government benefits for illegal immigrants who violated our laws http t co ejrxexztjtwith first debate over hands down is my pick for president   http t co g0jq1y53bostance fox   drew 10 million viewers no democrat primary debate has ever attracted anything like this rushdebate i loved this quote and how true it is http t co 9sbg2rxkvoof united states homes with tv sets tuned in to   wow http t co trs8vmwjyg trump exposed the fact that every other candidate is nothing more than the puppet of their wealthy benefactors  y i m listening now you were amazing last night girlpower  e huckabee was the star of the luntz focus group show when he spoke the feedback soared  cruz has had very little mic time but he s made good use of his time   cruzcrewtrump showed he didn t belong but did gop a favor better ratings amp he brought out personalities and ideas of other candidats is my favorite quote of the   this is the only point needed to make https t co kwhdfmuva5 when trump raises his hand and the audience goes crazy  the irs is intrusive invasive unaccountable amp out of control it must be abolished once and for all   hwilliams gaining the most in tonight s   john kasich enough amateur hour kasich4usafter   he s on top go go foxnews and keep ben on the air http t co dgglgonasd sure why people are giving you and the panel so much heat i thought you guys were brutally fair and professional  washington has done enough lying and stealing i will protect social security amp medicare http t co 9da0d98kdw gopi believe the american people are looking for someone to speak the truth https t co gn0pvy4wlr   cruzcrew t be misled it was like a 5 10 tweet party the   on the other hand would have been incrediblei ll protect ss amp medicare i ll kill anything posing a threat to the promises we ve made our seniors   httptracey hetrick and with a great look at s record in ac apropos after   thurs htcking up at summary of the   http t co 909us3fvliwohoo america s youth has the right idea don t cha think studentsforrubio   sfrnc http t co l4wvzwwun6has complete control of   stage tonight kellyfailed trump2016 httpa small window into trump tonight he has a soft side being nice class act respectful amp fair matters to him gopdebwhoooooooooop ted cruz is wrappin up with bang  musicluvr   last night was good amp surprisingly brought the fireworks he did   did cruz trump trump last night https t co yrjqlnoj2j viae would see it as radical but i liked idea of using 5th and 14th amendments to stop abortion  god has blessed gop with some very good candidates and democrats can t even find one  facebook amp twitter made   interesting jebbush realdonaldtrump marcorubio scottwalker johnkasich realbencarally dominates report and   polls makeamericagreatagain http t co i6prs1oljueresting debate last night  shout out to landslide winner of last night s   amazing job moderating that thingdebate last night was good amp surprisingly brought the fireworksz closing statement may have sounded like it came from a meat market but huge difference is that cruz would actually do it  debate a lovefest for republican party problem wasn t just but all producers involved in buryingis that progressive movement that is causing them the problems eloquent words from  ut out to landslide winner of last night s   amazing job moderating that thingn kasich is the leader america needs but not the leader america deserves batman  wife never heard of rubio huckabee or cruz loved all 3 8 yrs ago she was a hillary supporter not anymore  sident donald trump i like the way that sound  as most impressed with and at the   way different experience than the macdebatet had a great time taping for power amp politics had fun with talking about   thanks watch itsnuts r4e10 just won on by saying he d put hillary in jail bc they destroyed petraeus for much less the real winner last night foxdebate  glad to see climate change a key theme of tonight s   we may differ on solutions but at least we re all focuserybody loves carly the cinderella compared with the dwarfs at the other table she was the afternoon delight  know what s funny the   probably has a better score on rotten tomatoes than fantasticfouris christie did nicely i think i m surprised fox news didn t hit him with fat questions though fitnessaspresident  hink won   hard hitting questions of concern to majority of voter not just fringe gop base megynforpresidenti don t always support everything megyn kelly says but tonight she s my hero http t co qgwm5xg3f9   httpovernight s   had a 16 0 household rating vs 5 3 in 2011 12 http t co 4ih7btyeaz http t co e9fig93k0igood thing climatechange is not something to worry about i m excited about the beaches in colorado  all my faves did really well last night   rubio kasich ticketimately liberals were unhappy which means the gop did something right   http t co 08nrvgesrajohn kasich knows how to balance budgets because he s actually done it he will do it again   http t co luyfkokl done   suppose to advance survival of the fittest not protection of endangered species foxnewser   he s on top go go foxnews and keep ben on the air http t co dgglgonasdsure was huckabee delivered his message well imwithhuck   th2016 ccot tcot teaparty pjnet https t co dwpzczzrrlily the best part of last night s   trump takes down rosie https t co kc62vtbf6phas a plan to end sanctuary cities tcot   perry2016 http t co l3cz6jbryhtrump keeps trying to make definitive statements when the   is actually for mealy mouthed hemming and hawing  my opinion cruz had the best closing remarks explaining his plan and vision for america he was passionate deh first debate over hands down is my pick for president   http t co g0jq1y53bobtw earned a spot at the big table for next debate don t you think   shebrungitglenn beck is saying rand is a big winner in the   and christie is a big loser standwithrand getawarrant mt takes a stand on abortion during the   http t co 8kaonv4kb7 http t co fiqdbu1do2fiorina calls trump out for giving to hillary s senate run http t co hutoqzgyud trump2016   http t co 1x my faves did really well last night   rubio kasich ticket outnumberedreally impressed in last night s   http t co rbpoms07gc kasich4usdebate winner in spite of the foxnews debacle https t co 6b6f2neej4ording to ratings today it seems rubio won the   and i am super pumped young latino guy is a great image for the new gopquestion she should be in the top 10 carlyfiorina carlyfiorina   gop https t co awf2znvqvom watching   last nite now know rubio walker amp santorum share belief they d rather see wives die thn let thm get abortions of my faves did really well last night   i like a rubio kasich tickethe got my vote   http t co xmfpoyhcn1carly declared winner by many at the first   http t co 82iepzfjomnice dr carson nice   a fantastic job showing why 2016 is the only way to go   rubio2016 letsgo http t co jgnn2f5qo2ugh not the clear winner from last night s   search on google spiked in 24 hours http t co 6smjvsaehx s lunch last nite you get the compassion and moderation without the bush name election2016  i love how who holds the highest position of any media figure on fox is asking questions about a repub wardebate in the end impressed with questions and moderators kudos to fox news only mr s polls are 1 but his twitter followers are spiking up 1stplace trump   http t co q9yxeh55efna got swag rt amp dl internationalbeerday   fridayreads amayanabo cover http t co drktw64c1ure can i watch the   from last night the 8pm onery boys but huckabee and carson dominated last night  i would love a fiorina rubio huckabee walker cruz debate each has great strengths who s with me  hoffman is the smartest most underrated candidate up on stage we should be looking to him for leadership  ben carson there are no politically correct wars amen  debate had more action than the manny vs mayweather fightif you missed the first few minutes of last night s   you have got to see this http t co rlww9f1oteyou have to admit that was more entertaining than any episode of the apprentice  ischristie and carlyfiorina what a team they d make   election2016given your record in wisconsin why should voters believe you great question  mp is like napalm sprayed over all the other candidates  ike carly fiorina i hope she continues to get more air time she s much better than some of the front runners  er watching back i will say while not fans of theirs by any means i thought the fox news panel was very fair last night  audience loves carson   say needs specifics so why did   panel give all those type of questions to opponents riggedi loved said he doesn t see race because he s a neurosurgeon person s skin doesn t make them who they are a   ratings were huge which appeared to hurt broadcast http t co drn2bhohiiara boxer running a check on carly fiorina and her record in calif outsourcing jobs lining her pockets w corp welfare  unions teamsters walker16   here s the facts check them out http t co tg2eiabifmtonight s biggest winner may have very well been  debate held your own although a debacle for foxnewsa little   prep with my two best advisers cruzcrew http t co nicxaycsi4 http t co fa4eqqhfw1t thing about last night s   following along w hashtag latinoslisten gr8 comments by engaged latino votersyn kelly played footies with debbie washerwoman schultz she attempted to take out donald trump foxnews  ust finished reading s   tweets and still laughing until now very entertaining the ratings for last night s   are jaw dropping nielsen says 16 0 nationwide most watch debate evertrump isn t a career politician either amp i like him carson just lacks the experience and knowledgeio might be my new pick for president he gave some really intellgent answers last night  only a cuckservative would dodge giving megyn kelly an earful on whitegenocide   smackdown nrx tcot http t   last night was everything i hoped for and more the internet will be amazing for weeks gopclowncarmp haters seem especially mad today i wonder why lol whiny little bitches should get over it  is highly adaptable he will improve more than anyone else from the   inconsisdebate out answer on gay marriage was best ever for dems and repubs alike gets independents like me 2 look his waygod has blessed republican party with good candidates democrats can t find one   httpdebate gop gopclowncar best video ever night at the roxbury with the lol https t co uhq5vx44jwagree   https t co hiwq4ema3fgreat conversation with in advance of tonight s   https t co grt7h6mjhg cruzcrew i hope you ll lis   last night got me even more fired up about bernie feelthebern http t co 3a5mqykifg carson at last night s   http t co efv4zagbawer sleeping on it the ones that looked most presidential 2 me  t   is oh randpaul was too aggressive do people understand what he knows he wants to audit the federal reservethank you for highlighting the critical issues facing veterans at tonight s   http t co id1ykmir33ng on because we need someone who is a grown up on  aggressively normal found a name for my new mixtape  ille paglia straight calling it in guest column on   so good http t co iaphto0gzti like family and friends is a very brave bold stance  one else thought that belonged on the prime time  carson s goal tonight introduce himself to america make people remember him i think he accomplished that  so proud of who has worked so hard to be here tonight we are your biggest fans   walker16 http  if it weren t for me you wouldn t talk about illegal immigration truthebate with no losers should be proud http t co kowxyzui4z   kidstable gop2016 tcot wakeupamericait s called president of the united states for a reason kasich4us   https t co pcdhnihp1yi heard that was a great debater it s a shame he wasn t allowed to do so  ff best source for what s going on in us senate best commentary best   performanc stewart isn t dr dre but when he talks   via internationalbeerday it s the gift that brings the fridayfeelingeally like cruz  uess yesterday s   and watching donaldtrump was more entertaining than fantastic four http t co gimbjtfrtplast night s superstar shines in first   weighs in http t co nd1coglypl http t co igan crushed tamirrice in last nights   of the   last night i liked andove your tax plan makes sense is fair and simple great job during  skeem   justice in america sandrabland blacklivesmatter http t co r0xxbgvqb3  and the clear winner is http t co zo63efhnqhif continues to talk about tithing and it catches on every pastor in america will vote for him  the election were today amp i had to vote based on last night s   my vote for potus would be bold christians are raremp was spot on in his description of business bankruptcies playing by same rules as all businesses   https t co cgnhoxchdlbless u for this rand paul  yn tried to stump the trump and got burned trump  hink trump should have been debate moderator that would be a good role for him  ctually liked cruz a lot more after his closing statement i feel like as debates go on he will gain more popularity than jeb   of course i m talking about hillary clinton was the most reaganesque moment last night good job huckabee  take away from last night s   i love and i always willpledges to lower the tax rate and reform the tax code if elected president   http t co sknhfykw3uching the gop debate this morning yes i missed it last night wow just wow o o  at times an interesting discussion in oh it s important we keep putting foreignpolicy at the center of  debate better watch out i believe the will be fighting backta remember is a leader not a debater held his own against deep rooted politicians very well trump2016  safe to say every person of color knows this we usually aren t the ones who need convincing bencarson   http ty candidate to lay out a detailed plan of what he will do the moment he steps into wh cruzcrew cruztovictory  ice to each gop candidate in order of how i think they finished 5th place marco rubio good job keep up the same   tcot p2uy the theory performed well and held her own during the   last night https t co jmekk2adkhi had to watch this morning on dvr and wow the moderators went after you not right at all gopdebaerikaharold dr carson s closing statement showed charm humor and humility qualities we need more of in politics  at   analysis from http t co dfpimpxsavad to watch this morning on dvr and wow the moderators went after you not right at all   you held your ownmy wrap on rand paul s first hour of debating which let him have exactly the fight he wanted http t co q3drk3wdc3 gopdeing lots of tried too hard during   it was perfect to make sure he was heard and truth twisting was called outut last night are you watching we got and all the good stuff from the   on a fridaythe   the 2 hispanics cruz and rubio did the bestmay have been the   but was mentioned more times than any other candidate hillary ftwdebate mods job is2 ask qs we don t know answers 2 not bait amp target a candidate trump2016you are one to complain about america s corrupt 2 party system you better not complain about trump s threat last night vote  m not the biggest fan in the world or fox in general but i really enjoyed her question to trump about women     drew 10 million viewers no democrat primary debate has ever attracted anything like this rushish we could see kasich vs berniesanders for the presidency the actual issues amp ideas might come out   didn t watch itd a mouthful runbenrun carson2016   http t co rpqo4sqbtobest source for what s going on in us senate best commentary best   performancecruz rubio led the night tonight  debate moderated by was our chance to ask questions the right cares about not what left is concerned with 2 2thanks for your input on on   http t co 6ofoa0hqpa hretweet if you think should be in prison benghazi tcot rednationrising wakeupamerica   hafter last night s   have emerged as my top twodering how the day after the   is going i ve ordered dominos and read through my watch party swag http t co nqqxm33aeren always call men pigs if trump calls them a dog they should shut up hypocrites   tcot tlotmuch fun watching the gop fox circus implode  thank you for being one of the only true conservatives at patriots appreciate you amp america needs younomenal analysis of the   by be sure to follow rsg15 for the major candidates next stop https t co vewxhjkijxio actually answering a question about immigration color me impressed  to be fair marco rubio has a point tougher immigration laws might have prevented his parents from getting in  jindal giving excellent planned parenthood answer here  is the leader we need to save this country and the american dream   teammarco http t co gc1hkxjadebate donaldtrump all the way time to fix obama s messtates5a surprise of the night berniesanders won   with debatewithbernie on twitter http t co bglk509gv0nk u for ur support of single payer hc last night at the   i hope ur supporters agree in it also obamacaretates5a surprise of the night berniesanders won   with debatewithbernie on twitter http t co 6bj5tjnliua 16 0 overnight rating for the   that s a huge viewership if that holds http t co ut70835vnr biggest winner in the   the affordable care act shows how obamacare won the night http t co eqj6k2ne5uer last night s   have emerged as my top twonews was the big winner at   no way future viewership was not the objective surely already said4texs rt cnn no one eclipses realdonaldtrump at   http t co nzr6p3ckw9 via cnnpolitics http t co auhlnza3wwee with on questions for   but 1 2a neptune rt texasgop retweet if you think every candidate on the   stage would be better than hil http t co auhlnza3wwthe biggest winner at the republican debate was obamacare http t co dq7qy63rf6 via  john podhoretz on   says emerges as the party s brightest star http t co zjmbdcitz7 nhpoliticsr   tweets are very entertaining https t co vcwwvwtqvvthanks for the support in the 1st   i m in sc today and tomorrow then i m off to nh http t co x931pj7umr see yotakeaways from   highlights 1 it was a cross b w a circus amp a firing squad and 2 is kind of attractive amirites o to our volunteers amp rli fellows in fl nc amp va for great   watch parties tonight leadright2016 httpas thinking ipaday was appropriate because of all the bitterness on stage at the  biggest amp most diverse field of qualified candidates ever for any party excited to be part of   night http t co rpk ya donald trump you rocked   smoking all those pathetic career politicians keep up the great work http t co nvomystnvswatching the   amp have never been more entertained by my family s side commentshought   was good despite grandstanding really brought logic to back to the campaign tablewalker surprisingly gets it mostly right   blacklivesmatter http t co 7vzjjbj3ibissed the   but i m amazed that trump is somehow considered in the lead https t co qzmg96pf75i watched the   and all i can say is pres obama was right he would win again fourmoreyearsust love she owned last night   ycot http t co 6khqpdqpn9i ll tell you what not only did own the first   she also owned the post debate interviews gt gt htk santorum ranks 13 in gop field on twitter mentions over last 60min   https t co f687d6objl potus2016whoa weird format any1 know about this https t co np8cjqwyji   gop rnc foxnews tcot16 of the funniest reactions to last night s inadvertently hilarious gop debate http t co nkwjlscecm   http tgood rubio answer on immigration invoking unfairness of system to those who play by the rules  yn kelly did a fantastic job last night and i couldn t be more proud to have her as a role model  my take on the   we re so getting a dem potus imo http t co mclat1zumohey my surprise of the night and chris wallace  nkluntz lol he probably likes loser candidates like mccain romney amp bush trump2016 won   hands down http t co zqphlsqdune about reality reality matters not theories equations and books sciencenotsex   http t co od0i4cnksndebate did ted cruz make a name for himself after saying americans deserve to know the truthanything i would say the real winner of the   was did great gov let rand roll his eyes all he wants  ud of the field after   took tough questions and most cases knocked them out of the park my favsy candidate to mention race was carson who only sees brains so  ant to put someone in office that i don t want to have to worry about   then trump2016randbalanced wasn t the case in the   was treated unfairly he will make up for it soon outnumberedmarco rubio is so presidential he s articulate bright and authentic   only person in   who had an exceptional performance was can t wait to see her spar against the big boys next timeted cruz might have only gotten 3 or 4 at bats but he hit the ball hard each try he got he did excellent   he probably likes loser candidates like mccain romney amp bush trump2016 won   hands down next president trumpi had to pick a winner from the   kasich would be my first choice followed by rubio and christiecruz looking great in this debate  ct   verdict wins it 74 5 positive sentiment http t co cpqjnwol11ould like to thank rand paul for exposing trump 4 the democrat that he is  to prove i m a good sport i m giving all the losers of tonight s   the apprentice board game to take home httptrump is actually right about the bankruptcy laws someone please kill me   sham focus group a bunch of bush rnc plants trump2016 won   hands downham312 rt franklin graham 1st   encouraging to see several candidates express their faith in god an http t co auhlnza3wwben carson i m only one who removed half a brain but if you went to washington you d think someone beat me to it reason did not take that pledge at   is exactly because he is a good negotiatorneed to put someone to debate against hrc like on outnumbered studentsforrubio  lysis says won the debate gt http t co quwoclfs8q imwithhuck  r focus group was a joke your takedown attempt of trump2016 was a huge fail trump won   easilydonald the real rino in the race but he doesn t mean it http t co 9baqoqpxon  at job   republican party won last night s debate and hillary lost breitbart http t co zclymyxzvy  i will make no apologies for protecting the lives and the safety of the american people   https t co gmamj9nnow on is about to interview re outstanding debate performance   httpreceived word from god this should be good  yn kelly was the real winner of the   last night foxnewsdebate trump foxnews http t co eeavzmrvb2nk luntz   great news for ted cruz http t co b7ti3hvn7p glad trump shut down four failing biz he didn t borrow 19 trillion to keep them afloat and enslave his children s children  i will make no apologies for protecting the safety of the american people tellingitlikeitis   https t co gved has one of his winners of   gt https t co obsvewvo41 imwithhuckimpressive   clear winners in   were and and that is a powerful combo i could supportdonald trump just tweeted that his jet has landed in cleveland the earth moved   http t co lbef8189ybto release ratings this afternoon the rumor 10 mil viewers 16 share making undisputed winner of gop real winners in the   were the jr debaters who came across as far more intelligent than the brawling children later onls debate closing a show stopping zinger imwithhuck  ing that takes this country to places we haven t seen in decades keep up the good work  mp wins he is front page every news source billions in free advetising   trump2016debate 2016debate elect trump only he and can save americacorubio will destroy that sick liar hillaryclinton in a 1on1 debate if he gets the chance gt gt   tlot tcot p2 rnc dnctrump immigration strategy https t co qzmfehr8vf   thank u for thoughtful reflection on   a recovery some trump ques lame bs fluff made megyn look badwas phenomenal of course i knew he would be imwithhuck   th2016 ccot tcot teaparty pjnet https t co oucmhiyfhzgod has blessed the rep party with a lot of great candidates the dem party cannot even find one gopdebdonald trump isn t a democrat he isn t a republican he s donald trump  s is a great communicator and it showed last night outnumbered studentsforrubio  that s the best   tweet this is better than the actual debateimmnty they tried to take you out amp your poll numbers skyrocketed voters matter not moderatorsthe gop wins in 2016 would be my hope loved what he said about a balanced budget amp moving passed gay marriage  es to fight another day odds seem to ever be in his favor   hungergames donaldtrump http t co eg6x6onkktboom ted cruz rocked his closing statement   bif mr trump runs as an independent the republicans can t win either  the only candidate to say woman or women in that whole two hours was rubio talking about women in uniform gopderelease ratings this afternoon the rumor 10 mil viewers 16 share making undisputed winner of   hugedebate reps aside from trump and paul agree on 90 of everything imo the most important consideration is electability vs clintonilahnobszone rt rednationrising congrats to all   candidates and to you for discussing tweeti http t co auhlnza3wwso says we should respects all take care of the poor amp the sick bad news he s not getting the gop nominationtrump our leaders are stupid our politicians are stupid the mexican government is much smarter  guozsoyler rt comicriffs   sketches ted cruz though a famed debate champ offers an admission cl http t co auhlnza3wwtrvp rt berniesanders tom hanks finally somebody who makes some sense   debatewithbernie http t co auhlnza3wwaldtrump wins   https t co mr3ehwanvzl tell you what not only did own the first   she also owned the post debate interviews gt gt http t co em1wi3djpuaww 100 support among cute little cruz girls rt love this and his daughters post   httpthe consensus is clear dominated last night s debate watch some of the highlights https t co x3j4x8qm5ewheeler my girl killed it she s presidential wildly intelligent experienced sharp practical strategic amp strongxm121 today 3 4pm w tellmeeverything   fun to be with always a great hthank you for calling out the rhino s in the and supporting katesteinle  enforce the laws secure the border use e verify prioritize the american worker and american wages waker16  want someone young and a leader who can lead us into the future studentsforrubio outnumbered  one poised graceful and determined woman i can get behind that any day  s of positives amp negatives last night s   but why was the only candidate to bring up furguson amp baltimorethoughts on the   yayio life begins at conception well said schools http t co inv8kphtr9 not above mr rubios pay grade  has failed 200 000 votes over at drudge and trump is absolutely dominating the   tcot http t co ku0ul7hzqyps to for the great questions   were professional and did an excellent job moderating  trump slams megyn kelly http t co obnqdpoemx via   tcot ccot pjnet wakeupamerica makedclistenclear winners have been my favorites from day 1 amp   i d like to see both on 1 ticket thoughts more i read that trump lost the   the more i m convinced that his poll numbers are only going up is it hollywood can t get dr doom right once and foxnews got it right 10 times last night  attend our event sept 26 we are in contact with campaign pls say yes allamericanrally us   please rtl talk trump won the debate of the out of touch candidates  jeb bush is making a great case for his staying in florida  e that gov christie gave it to rand paul  s nuclear agreement with iran will be remembered as one of america s worst diplomatic failures  now i see why political commentators have been saying to watch out for in the   he s making somngs i learned watching the   you d never know but i do not watch fox news i liked meagan kelly she is smart quick amp witty coach you for last nights  the   was excellent if you can t take the heat get out of the kitchen bravo togood point by on irandeal rejection hiding it while political world watches   http t cotrump you re the one who brought immigration to national stage sure lets go with that makes sense  can we skip the crap next time rick perry and carly are head amp shoulders above the others   perry2016 carly2016reminds that we still have american hostages languishing in iran despite deal freesaeed  trump jeremy s newspaper a very good newspaper has a beautiful story saying i won   https t cowon in my book as well imwithhuck   th2016 ccot tcot teaparty pjnet https t co 0jzu3hdh3ja truth bomb from dr carson tcot   rnr ycot ccot wakeupamerica uniteright teaparty standwithisrael http became 11th   candidate last night amp topped field https t co gol1jgqp7jmore great coverage http t co bryjh5epif   trumpeffect impower entrepreneurship party believes winner of last night s gop debate was 1 governor jeb bush followed by 2 john kasich   jebmp i was born and i m awesome so no one should have an abortion   cantarguewiththefactsorite picture of   night http t co w3grrycjrimp leads among male voters he also leads among female voters  so far fiorina has given most detailed answers to questions about how to solve problems i e china russia and cyber attacas of 10 15 carson and rubio are definitely my front runners  m no republican but i must say that marco rubio made very good points the   very relatablerubio wins  ust saw my political science teacher on the news talking about the   being in college is coolbest moment of   a rogue scotus decision santorum says gay marriage has no constitutional basis http t co athe star of herself foxnews  congratulations to amp the entire for all their hard work on last night s  ply incredible http t co apxm8ao8jf last night s   doubled the previous record for most watched primary debate in historyerals is he poor a victim incapable of doing anything career politician no success he s got my vote feelthebern  we re sick of political correctness it s killing the heart and soul of this country   trump2016 http t cjust so libs know if you ever put marco rubio on a stage to debate hillary make sure she wears her depends cause ds troll job of last night s   is a masterpiece of internet political meta mockery http t co i83mhxnu9gparo the ny times say rand paul matters again standwithrand liberty   tcot tlot http t co l9z2jmkfrnt beat the snot out of and chrismathews tcot   gop http t co cpg7t80dsuall the difference in the world bet unaccomplished newbie senators amp one who actually got big things done http t co bedrand paul cares more about upholding and applying the constitution than any of the other candidates  mp slams megyn kelly http t co obnqdpoemx via   tcot ccot pjnet wakeupamerica makedclistenrick santorum at the des moines register soapbox https t co hfqvxaiqph a boatrocker who got things done   iodye i think we have a winner standwithrand   randpault a show trump   rosieodonnell watching republican presidential candidates debatert if you agree the big problem this country has is being politically correct   http t co liugl1haa3os to bill amp martha excellent   moderators the prime time team was awful in comparisonrubio is exactly right more new immigrants now come from asia not latin america   http t co iohepevlvbwe need a president who ll defend the constitution and restore america s leadership in the world   cruzcrew http t  ben carson hits a homer http t co t4n6dh3pzol be the best thing to happen to democratic gotv in history   gopclowncardid tonight make you a fan of be sure you take a moment and like our facebook page https t co abunlgighgn t back away from ohio s medicaid expansion during last night s   msg don t oppose expansion based on ideologynk you for your service to democrats abroad loved the coverage of the  at the   in support of my amazing father i am very proud of you https t co 9bqju4zofbwhere s on this stage she killed it earlier during   happyhour don t miss her tomorrow ongo carly go carly go carly carly2016   http t co mkoxvdxopzs cruz turned in a solid performance cruzcrew   consensus theexpertsagreeso excited to welcome amp to the great palmetto state after a great   last night tfinally got to read the   coverage i craved on the gop debate https t co fllzrayalp viathis got me crying   http t co usfbancb5finister a doctor and 2 business owners walked on a stage last night and made the most sense to me   http t co gly4myqxywnew hampshire poll paul leads hillary by 2 trump losing by 10 http t co vxszukmivb   trump randpaul stathat s right call terrorists what they are islamic you can t beat enemy if you don t identify who they are gopdepoint with response to when did you become a republican  that was the greatest snl sketch of all time  speaking of unlocking the potential in people sounds like reagan and sounds like a great leader  on t particularly agree with most of the time or any of fox news for that matter but she was on point at the  honor of last nights gop debate a flashback to me and h w hangin out   jebbush https t co k1opxc8aqcrobertscbn i think most ppl in america understand that people not the government creates job  ravenclaw omg this is the best thing i ve ever seen in my life   https t co svfjclmzlapiece on the   for john kasich is the winner in round 1 performed opposite his poll rankings http t co tqkalafl8jlooks like amp were the big winners of the   and i agree http t co g8fyumfxunshould have acted like last night and coddled them hell no tcot   get the dirty laundry  rand paul was given the least amount of talk time yet he said the most standwithrand i loved him smashing christamen gt you don t have to compromise convictions to be compassionate   http t co npi9jyzgvfdebate country before party why pledge away the option to do what may need to be donelly impressed in last night s   http t co rbpoms07gc kasich4usi liked donald trump s contention that he literally didn t have enough time not to make fun of rosie o donnell s weightif you watched the   last night why not send 5 to this morning https t co 8fmw19ewp9 reprojustice rkasich is a good governor we get it ohio not gonna be the nominee  thank you for being fair to the gop front runner this is why i love hannity foxnews  we d like to hear more from the constitution is his touchstone irs badirandeal patriots rednation moderators last night did a fantastic job started off awkward but the actual questions were terrific   foxdebate foxnewskelly is doing a great job asking tough questions   sell baby parts for profit or whatever you want to call it but trump can t call a woman a slob   pc trump2016congratulations gr8 job at   2night gameon rick2016 https t co lf4chprf7hnk you for being fair to the gop front runner this is why i love hannity foxnews   respectald trump is so funny  ws how to push back against matthews on msnbc mediabias   http t co ma5onthrioi would pay money to see a debate between hillary clinton and donald trump you know donald will bring up monica  debate showed that politicians are great liars smooth talkers but have to obey doners i will vote trump he has no reason 2 liedebate was interesting to say the leastald trump is john galt chew on it  has a distinct ness to him in this pic from so winner   http t co kolwwwgdp1rica is a great country   http t co 3xbdxllceooh my reasonable answere by kasich2016 on gay question and applause by crowd maybe a new gop  tiffany rubio seems to be the only candidate actually saying how he s going to get things done   rubio2016all the ppl complaining about issues not covered in the   relax this is only the 1st debate unlike dems many more to comeit s one thing 2 recognize a winner but america recognizes one who can help america win rick2016   tcot ht donald is every bit as gracious in victory as he is in defeat   2016yn wins   via http t co rp6q741ijj genius goes mainstream cool collaboration by the to annotate   http t co xpqlgzoxqb htis it rude to drop the mic after delivering an awesome line during the   i don t care if it is i m doing it andr carson s pov on race was class and brilliance personified  ryone was excited for   excellent job moderators election2016 marco rubio r florida is   winner according to http t co yjq4heds4ps brilliant that trump never apologizes for anything he says i mean everyone loves a bully right dumptrump  rubio basically all life is sacred prolife  fiorina is presidential material looking forward to seeing her surge  make it happen cap n your responses at the   were spot on thank you rubio2016 geniusatworkgree with huckabee s assessment of donor to political class relationship but i don t get how it results in biggovernment   and marco 2016 seem like a possible team  itics nerd moment on vacation lost my chill when i looked up the bar tv to see i was missing the   reading play by plays now real winner of the kids table   dick cheney http t co 13lskg3aa3 unitedblue hillary2016 mo http t co e8jh6tiltst s zinger about hillary s email and russian chinese hacking is a great clip that s getting lots of play today  really enjoyed everything had to say last night rubio2016   americaonpoint best thing in   was wiping the floor w on his jihad enabling policies well done reduces our need for oil imports from hostile foreign regions which helps keep our military out of middle east conflicts  ks like amp were the big winners of the   and i agree http t co g8fyumfxunnstein that debate or if you can call it that was just a joke the biggest one of all is donald trump  rand paul won the round with chris christie with the completely irrelevant obamahug line though he was right on the meritsme the real winner of last night   was megynkellypping by to talk with today tune in noon to hear what he has to say about   http t co f9291v7jgps caption is puuuuuuurfect https t co luqdtgv4fb hillaryclinton hillary2016 vote election  nsfw why donald trump won last night s   http t co zhtjorprqbbiggest winner of tonight s   was far and away hillary clinton master of useful humor   imwithhuck gop ccot teaparty tcot makedclisten wethepeople uniteright http t co dmwcggcwmyt s a wrap so blessed to have been able to be apart of it all   kasich4us https t co nfwjvlpt96republican strategist s focus group during   ended up decidedly not liking trump by end of debate kardashian can make a sex tape have a tv show amp do a promo pose with hillary but trump can t call a women a dog   pcnyt lib take on   on support4 trump audience ny beer hall in a room full of progressives u better believei m the only one on stage who can handle iran if anyone can understand persians it s a guy who lives in a gold penthouswe ve got to unite our country again because we are stronger when we are united  john kasich is doing something bold not pandering to the base wonder if he gets points for courage maybe gets respect for t once i agree with 90 of s assessment   http t co bxunx9ukdfillepaglia on   sadly i agree with most she says http t co nrugsn3xiu via that the dust is settling from last night it s becoming clear that johnkasich won and helped himself the most   2016lains campaign finance at   lat night very insightful piece by http t co lostdaifanrina is presidential material looking forward to seeing her surge  yed the   and asked thought provoking questions or else wouldn t be tweeting about ite s video re cap of the   http t co ikp4m4haadkellyfile is live now with reaction to   your attack was obvious why are u sotrump amp   been bulletproof so far in the race and that s unlikely to change iacaucus http t co hfvzjixxjybreaking down the debate with fact checks good to see the media actually holding some of the candidates accountable  d explanation as to why trump surges ahead of other cuckservative candidates   http t co hagmnn1tv7 http t co wokhf3su88grats on crossing 2 million likes on fb bc2dc16 whitecoat2whitehouse   bctodc16far the best part of the   is the hostesse when the   takes over that hair looks great on the big screen http t co tq7ezqefmmmy   analysis 10 gov kasich a rising star in republican politics shows strong leadership will definitelmy   analysis 9 gov christie come back kid powerful knows how to punch had some great points will rismy   analysis 8 rabbi dr carson too soft does have ideas needs some major good moments has zero to ldebate made me think about who d i want to listen to amp see on my tv every day walker carson kasich huckabee yes hillary carly nomp schooling chris wallace reminded me of that scene in back to school where dangerfield schooled the nerdy biz professor  nk goodness this whacko was interviewed   i mean she clearly is a visionary http t co tsuq5nmznl donaldtrump show foxnews   http t co fo3d5ad0agat great list idea for localization of election coverage http t co 3yrrqf7axl  least donaldtrump can make you laugh hope americans can see beyond that trouble in paradise orelse   https t co 0dib68mbjnmy   analysis 6 ted cruz a true reaganite strong principles had great moments not a politician will risught up initiatives but journalist moderators didn t follow up w him  fact checking last night s   this is awesomeall the things you can call dr ben carson the neurosurgeon idiot is certainly not one of them bencarson  my   analysis 4 marco rubio strong leadership great answers real ideas amp solutions super presidentiali just took a stroll through   hashtag have spit loads of coffee laughing good form progressivesdebate i think megyn kelly succeeded in her primary goal last night people are talking about her today foxdebate foxnewsdebate  if humble beginnings are an important part of being a candidate our country is becoming a goddamned candimy   analysis 3 scott walker i expected more charisma ideas amp solutions still has a strong chance mightthe debate is over hands down my man   http t co 2plnkf7zi0nk luntz   ted cruz great news https t co cos4pgnmpdd ou came yes nailed it at   the after and with chris travel safelythank you chris wallace amp team you guys put in tremendous amount of work for tonightt moment when you graduated from high school so you can watch the   and donaldtrumpedom is not free and we must fight for it every day even if you don t vote for the guy appreciate truth   what you want but if the gop ratings are through the roof you can single handedly thank for it  io did a good job last night   having a really hard time thinking of ways that could have been more successful with his   shenaniganscan i get a debate where and discuss liberty and security for an hour please  ps to for doing a great job asking the hard hitting questions the   last nightlly impressed me in the debate i hope to see your pole numbers increase   gop ohiod luck to everyone competing in the   in blaine this weekend tangod idea from colleague boaz set up 1 on 1 vs   i d watch http t co xi1dsibdsv cato2016said it best last night it s time to getmoneyout   goptbt kochvspope http t co xno4ycfzivgoodbye cleveland oh hello greenville sc after crushes   the campaign continues httph hilary had carly fiorina passion and spark she should take some lessons from her   assesment of s   performance made himself matter again standwithrand http t co b54cr1kx4qe a dope strategy for   was brilliantmarco rubio emerges as the party s brightest star http t co ttg6geg3se   rubio2016 imwithmarcoollege debate coach s perspective on who won the   last night http t co 3cafylqojkyes said had the best night cruz2016  y good job by fox news  nytimes it compels me to write a cluster of words i never imagined writing hooray for fox news   httpline of the night and most switched votes for according to post debate fox focus group   http t co aj  i was hoping to get a better sense of i did and i liked what i sawdebate reassured of affinity republicans have with kurdish militants if elected president jindal said he ll arm the kurds i e pydee carson was very compelling when given the chance  debate score with https t co sisbsjpubfdebate i loved walker nodding along to carson s responses carson speaks common sense sadly that is an uncommon traitcarson gets about waterboarding really ms kelly the man is brilliant and made his own moments be a great president  fyi i ll be live tweeting teen mom 2 on after this what a night of great tv    trump proved he s got balls to weild u s power he ll assemble a killer team amp get it donenk you for your thoughts on the   how long would you think some of the round 1 candidates will hang around say needs specifics yet u gave those type questions only to opponents  when the government tries to invade the church it s time to resist  debate omg my dream ticket would be a randpaul carlyfiorina ticket i don t care which is potus and which is vicei wish was putting these dudes especially trump and christie in their places   foxdebate httave seen far better political debates but last night s   winner was john kasich who looked presidential perception mattersof u s homes with tv sets watched last night s   more than 3x highest rated debates for 2012 election http t co ele3lmeoxomp2016 s healthcare answer actually made some sense  mp must be doing something right to have lame stream media fox karl rove news come out swinging at him   still for reminds me of jimmy carter n a bit like which is fine we just need tuffer  istie huckabee walker get top marks who didn t score well last night http t co 3afiekcitk  rubio repeal doddfrank amen  nk luntz   great news for ted cruz https t co zqjnczdlyx viajohn kasich got a louder applause from the q arena in cleveland than lebron james  debate made some good points on unity and freedom but needs to elaborate more on how he plans to put it in effectdebate best one i ve ever seen tactful informative little humorco rubio consistently gave strong and substantive answers he wins main event http t co bdqt6tc8w1   http t co guk0mjuph7brilliant principled and fearless the future of the party the est rove priebus is a statist dinosaur  did fine   favorite thing   http t co mgzo0xhamjcourse internationalbeerday comes after the   donald trump was gold last night we watched it at a bar http t co x38ctjaxwntwo picks are marco rubio amp carly fiorina   dream teamsurtel your questions were more like attacks on then u get upset when he got tough with u what a joved it in the   when said god gave him unconditional love and that s what he will give his childrendonaldtrump finishing each answer during the   http t co axcsmluzflt do you think of the   so far you were the best thing about the debate republicandebate megynforpresidentpulling for trump he is like the minions of candidates  s better than any sporting event wisconsin dems gather to watch scott walker16 in   http t co etaghxfs2l wiunion p2 ctlt reality show on earth   know when you finish a really good book and you wake up the next day wishing the wacky adventures would never end the  erves a big thank you i m glad someone asked tough questions to all the candidates   gop2016 foxdebateco rubio told to his face he s candidate of yesterday for his anti gay bigotry http t co a4eiuettlf   http t co gjghtfodtodebate trump trumped all bush bushed walker weak huckabee cruz loonies as usual carson insignificant rand sucks fiorina hystericaluardless of your political stances i hope you took time to see the   i love seeing genuine interest in u s politics  was great becuz of great gop candidates amp great questions wins top of the class http won last nights debate it damn well better be america it s time to kick ass and forget pc and politics as usual   trumpt gave a master class on how to get away with sexism http t co 36sdqby52a via  huckabee reagan was trust but verify obama trust and vilify anyone who disagrees very strong answer about the iran delessgovmorefun the american people want a president who will tell the truth sen ted cruz   http t co n4ntwnobnllove it fox news found the one young black republican on facebook  debate has me ready for 2016 gop2016 goodbyeobama neveragainearly nielsen ratings suggest thursday s   was most watched primary debate in history http t co dbzkkoh my g o s h she really is fantastic carlyfiorina   chrismatthewsgottold https t co h3dss4dxmod it best last night it s time to getmoneyout   goptbt kochvspope http t co xno4ycfzivguillory gotta say when chris christie said his first act as president would be to rename washington dc suplex city usa he wonchrischristie s disapproval ratings are high now wait till the bridgegate trial this fall   foxnews http t co r9ctplw5uphought did very well last night i have no idea what is talking about what a fool runbenrun  oved watching the   last night need to reset your brain check out my newest youtube video https t co gosnzvoetd lt julyple will watch the   s to see trump but realize holy crap is the effing manhands down jim gilmore won this debate with his impressive resume   http t co wjcpql2jormarco rubio vowed to take away women s abortion rights at home amp around the world http t co za4fgay10o   ht news is actually asking the tough questions i m surprised   watchparty rosieodonnell https t co 9popya1qrvi had to vote today it would be   leader dominated i saw a ceo of the panel ceo of the countryt   was straight up privilegeporn loved itwe re borrowing 1m a minute it s gotta stop somewhere standwithrand   http t co s7ukcfcefbtricia i was on the streets talking to people before the debate afterwards the word on the street and insideoved it in the   when made a reference to the 5 o clock debate when discussing he wanted a repub to wingreat statement from carson on race divisions in america  debate was swag let s go trump lolololols shut down of will go down as one of the best lines in debate history  take a close look this pic is amazing everything about it   http t co laonllalworand paul on video admitting he opposed 1964 civil rights act https t co qzbazmv7iz   http t co rpjmie8buvan this is how the   shook out http t co sgnkjmetqrwell stated alec owned the   tonight he always speaks the truth always has always will httpsthis is where s logical consistency rocks it he s right stop funding out enemies allow to be indtrump s entire   performance don t hate the player the rules are made for me and i love itless than half the speaking time of trump but our boy carried the night spectacularly   http t co wnbkti want to collect more records from terrorists but less records from innocent americans  mp got double the speaking time of paul http t co 2wndaiiikc   http t co 1naioxcln9anddd huckabee was correct on transgender military service our armed forces should not be a social experiment  ish i could have been in on the   but reading the recap was fun had the best coverage by faris a great presidential candidate and he proved it at the   last night https t co izasjz9yexed it in the   when pointed out that ronald reagan evolved and so has he i don t think they like mecarly is fierce amp prepared  t up between and at the   over nsa http t co ezmufrvhhq christie won when paul brought up obama hug the clear winner last night was polished as well   https t co d1amg1fwiwgirschle impressive performance by governor huckabee   imwithhuck th16 https t co ykoer9zg45if hillary s the candidate which i doubt well played dr carson  wont get the nomination but john kasich spoke a whole lot of sense  right after a question about blacklivesmatter a commercial for the straight outta compton movie airs i can t help but sme picked my 3 favs  this is true fox news team hit it out of the park for last night s   moderators did a first rate job https i love ya man i think it went more like nailed them for thinking he isn t wasn t   https t co nuczhphlvxe out of the gate like a true leader i look forward to hearing more about his plans for a better america  d it last night it s time to getmoneyout   goptbt kochvspope http t co xitysjflrjbody watch the roast last night he handled it pretty well   votetrump that debate last night and it s not even close well done  debate s hometown candidate gave a touching answer on gay marriage http t co qtn8echb29 kasich4us unitenotdividethis guy got the real shaft in the   tonight why is that http t co zw8jupqp11won the   last nighthty percent of the people in our prisons have addictions or problems one of the few   moments that made senseon giving to clinton i didn t know money would be used on private jets going all over the world gopdeand in spite of foxnewstrumphitjob   go trump2016 https t co ajaeucqlozthey might be my favorite two   foxnewsdebate foxdebate foxnews fnc https t chink this was one of the best comments made during the debate foxnewsdebate   http t co 8xgtwk7zuilike if you turn out to be gay i ll still love you even if your daddy doesn t   https t co ttbhqikpm8much as i love and will always standwithrand governor did a bang up job in the   that s my two centsgirschle wow governor huckabee was fantastic   imwithhuck th16 fairtaxar winner from last nights   megynkelly megynkellydebatequestions https t co n7h3t7hxszld have been nice if u would have let the 92yr speak instead of interrupting her  debate said country needs him to straighten out the financial mess support fairtax amp i will vote for you   encouraging to see several candidates express their faith in god and his son jesus christ http t co 6zjwbxbpseyes he does he is confident and well composed imwithhuck   th2016 https t co hhruhe6ltehowell this feelthebern bernie2016 debatewithbernie   as a veteran i believe military budget should be slashed httpswow awesome dr carson race answer   foxnewsdebate foxnews foxdebate fnc httpsregardless of who we all vote for let s be honest dr carson has had the most meaningful life of these people god blemiss the   tonight be sure to watch strong closing statement https t co kqlgcbav7p cruzcrewta say when chris christie said his first act as president would be to rename washington dc suplex city usa he won my vote  hought you did a great job last night you asked hard questions and kept the candidates on their toes   megynkellye a little too much fun lastnight watching   come nurse your post night woes with some nice pastrami or a knish koshert part of   telling we aint cool for real amp i dont have to be nice to yo assgiving a free kasich4us hat away random from the first 250 rts go   http t co mgwmsslrdpabout to take the stage for   handing my account over to staff follow along at http t co 1bk9bcij7flly enjoyed everything had to say last night rubio2016   americaonpointing for without question  nearly 50 walker house parties in sc tonight we got your back   walker16 http t co yupjdhwxjhunpacking the   with a really great panel right now on i m so enthralledit s nice that 2 mds 2 surgeons are in   hopefully a trend can encouragee a close look this pic is amazing everything about it   http t co laonllalwodebate she s on fire runs circles around chris matthews over hillary s record https t co dfmixp48njdon t win anymore we lose to china we lose to mexico we lose to everybody trump preach it sir preach it  race relations in this country at the   https t co yjmfdye6x4 wise words from  proved beautiful women certainly should be debate moderators great job martha you amp carly belong in top 10 httfacebook says its top social moment of the   was the chris christie rand paul interaction on the nsa problem this country has is being politically correct trump amen sir amen  amen i pray 4 huckabee amp his family every day he has been spectacular 2night imwithhuck   th2016 httpst donated 9 rock on carly   clevelands lady is the bomb https t co eubfioxqzc  matter what was the reason a lot of people tuned in last night who wouldn t have otherwise good for the  nn beck is saying rand is a big winner in the   and christie is a big loser standwithrand getawarrantthat part where huckabee started screaming about fetuses and spraying chrome paint in his mouth was intense  munoz had the least speaking time at the   and still said more with fewer words standwithrandretweet if you agree any of these gop candidates will be better than clinton   foxnews tcot pjnet httpfavorite moment from last night s   not an endorsement https t co w53nmimi83debate i believe made some of the most valid points last night bringing different facts and imformation about flordiabest line tonight russia and china know more about hillary clinton s emails than congress  ap of the   these tenmen want to make choices for all women goptbt http t co rv90krhkmited cruz knows words and he s willing to say them  oved it in the   when said reagan negotiated and so will he but from a place of strengthif i have to monitor a mosque i ll monitor a mosque declaims sen lindsay graham that s the rhetoric that wins gop hearle i wasn t too impressed with her questions last night s dress rocked whoareyouwearing  liberals cnn agree fox did a great job http t co 4dgij1w0gs conservatives in an uproar against gopdched the   but kept thinking this is the real answer 2 america s problems seekweek15 https t co djcj7bhgzbprops to for giving a shoutout to union made  http t co gxspz9kqj7 who won the debate i voted cast your vote with an honest source notdebate from a new hampshire republucan bush looked like the adult on stage good joboying democrat panic over hillary cratering in polls people won t support pandering sneaky unsympathetic politician  excited to see how my personal favorites will continue to do after last night and gdebate proved beautiful women certainly should be debate moderators great job martha you amp carly belong in top 10 http t co np0vngnotxly fiorina needs to be secretary of state or on the ticket as vp at least so extremely smart and sharp  d paul is the only anti government candidate who actually makes sense  orite quote of the night freedom isn t free  trongly disagree with saying isn t a presidential candidate and he didn t look like one  thanks who spokeout at   for us hostages in iran freeamirnow 3 httvideo http t co taph65klje rocks the 1st round of   carly2016 http t co 3l7yimjxdln this gentleman definitely has my vote love him and what he stands for   onpoint patriot https t co anzmdiorvejjk she won both debates   http t co oezz6jtpo8yd5689 loved watching the   last night we need realdonaldtrump to makeamericagreatagain inspirationominate for the best comedy special emmy in 2015 their parody of a political debate was outstanding   gop2016after the   last night i think i know who i want to be president megynkelly megynkellyforpresident megynkelly2016truer and more poignant words were never spoken on a debate stage well done   https t co xulzpglhrand paul is leading the fight to defund planned parenthood read more here https t co pupwnglaot   http t co i mainstream media wants to limit our options to establishment puppets we know who won standwithrand   http t co uyeqy2nh7aoved it in the   when spoke about repealing dodd frank he is a champion of smallbusinessald trump won viewers attention during the   though probably not the debate itself http t co ftggl1zg1cbo my son age 8 has the happyhour   all figured out trump should be president i mean he s so httpwent to bed speechless after   woke up pissd off with how went about attackingbro donald trump has to stay in this race as long as possible for entertainment purposes  ching   from last night wow trump on fire first 15mins says what he thinks is this a new popular breed in politics corbynwow she is good watch make chris matthews look foolish i m liking her more amp more http t co kebning foxnews   megynkelly was suffering from delusions that she was a minnesota dentist and donaldtrump was cecilthelionly numbers suggest record audience for first   walker16 http t co w96zq1aruh viai loved it in the   when said the country needs him to straighten out the financial messgood question by chris wallace cons better learn how to battle these stereotypes  truth the military is not a social experiment  s he wants 2 legalize prostitution amp drugs amp tax the hell out of them that s what i ve been saying for yrs  that was fear they tried to shut out in the   but his message was hee work asking tough q s in   speaking for young rep s won some heartsmp s truest and best line if it weren t for me you wouldn t even be talking about illegal immigration trumpeffect  ed watching the   last night we need to makeamericagreatagain inspirationwho won the   last night i think rubio and cruz commanded the stage trump did more harm than good for himselfple could care less if you like them they want their civil rights on the topic of lgbt rights at the  has the record and experience experiencematters i m ready to be potus https t co ttnl12dlmn perry2016  debate when they all stand on stage together it looks like a cabinet meetingmi frank luntz   great news for ted cruz cruz for president http t co qko1ltdfbpoved it in the   when said the country needs him to straighten out the financial messestill yes huckabee was on fire so proud of his boldness convictions shining through imwithhuck   httpsoved it in the   when said he s made 10 billion dollars and america owes 19 trillion  looked like fun though i think i missed the swimsuit and talent contest rounds everyonelovesaprincess htttrump packed his fucks in a separate suitcase that never made it ohio this the best debate ever  oved it in the   when said the lenders are killers chris wallace was exceedingly disrespectfula good debate is when you don t even notice the moderators  in my considered opinion the winners tonight are ted cruz ben carson and marco rubio   hit of the   for me on nsa and closing statementsimes it compels me to write a cluster of words i never imagined writing hooray for fox news   http t co zdj3ligtaywow even is saying we should be using e verify are coming over to the dems side  i m surprised trump doesn t use air quotes when he says president obama  ational recognition amp hair is the best thing to come out of the   http t co kcjlyxbxvq http t co qm68cvqmvepersonal front runners for 2016 cruz carson trump  l no i can think of about 5 gop candidates she cant beat nobody fears anymore  nk you donald trump   https t co cw81op2bt4ty fifty on the stupidity of the american voter on at the   http t co pkyjsglvfrben carson s closing statements at   2016election https t co 0fqaljoz3c viaoved it in the   when said on 4 occasions he s used the laws of america to his advantagehink you did a great job with the panel it was great to see hard questions being put forward  ated to in name during the   standwithpp plannedparenthood http t co xdjzv1tr9nit jut me or is playing 3d chess in a room full of checkers players   tcot p2debate econ won falters exaggerates good idea socialsecurity http t co rjk8s4hd6f only true contenders are rubio bush walker and kasich carly is really making the case to be the vp nominee though    i am proud of americans seeing through the bias setup trick personalattacks favor6 prediction clinton 43 0 bush 37 5 trump 18 9 millions don t vote b c bush is a rino https t co bdsp6ig77v  hink we have a clear winner carly fiorina   carly2016 https t co 3jmydidcdfs is a long shot but if randpaul won the republican nomination and chose ronpaul has his running mate he d have my vote    is great but for magop who want to take a positive step for our state on nov 3 please attend https t ccarlyfiorina is perfect gop candidate great performance at   with 0 truth rating viai believe the people are looking for someone to tell the truth cruz2016  was brilliant last night as always i love trump cruz or cruz ticket for the win   hball carly fiorina would make a phenomenal contrast against the dilapidated figure of a dishonest and corrupted hilary clinton goco rubio emerges as the party s brightest star http t co kggnwj9gc4   rubio2016 imwithmarcot thing i ve read today i m forever thankful for the wit and humor of willy boy gop   https t co ovkoims5ty brilliant last night as always i love trump cruz or cruz ticket for the win   https t co qe4ggapqc1ald trump gets the award for most entertaining  agreed well said   wakeupamerica https t co n0k0vahzg6d card 2016 presidential race it s good to be underestimated makeamericagreatagain   http t co bnbpbz82o6somewhere in the white house president barack obama is doing this and he s not even watching the   http t co yrade a donation to the democratic party in the middle of last night s   amp i don t claim a party affiliation scarytrumpbashing at it s finest megynkelly megynkellydebatequestions   https t co 3vyuksnrwe earned a spot at the big table for next debate don t you think   shebrungitcollab w on   was pretty awesome http t co y7hxub2yaz annotation is cool http t co wk at jeb coming through with throwing gwb under the bus about the iraq war he needs to do this more often   insult everyone amp call them stupid but then cries at tough but fair questions  i loved it in the   when said the insurance companies have control over the politicians obamtrump s big beautiful door   http t co f2cr23uxfl debate news trump shocks gop faithful http t co okoqzojxfj donaldtrump   http t co ytusgmoclg   got my man ben carson out there like http t co ncwnw9jttte it happen cap n your responses at the   were spot on thank you rubio2016 geniusatwork partyofthefuture just hoping i have an opportunity to vote for by the time the ca primary cones around   carly2016part of the luntz focus group i can report you received the most consistent amp highest favorable ratings  didn t see the   but heard it was entertaining wwomd have more democratic debates o m weneeddebateged those questions like a first 48 suspect lol   debate news trump shocks gop faithful http t co 8pxivxhnxb   donaldtrump debate news trump shocks gop faithful http t co tdlf7jc3ig   donaldtrump news couldn t kill trump s momentum amp may have only made it stronger   http t co ujagblg1uqi am prolife gt i hate the concept of abortion i have evolved  debate only 1 can b potus however i see some really great cabinet choicesed the first  ouldn t mind john kasich as my next president kasich4us kasich   did an awesome at the   i thought you were professional and pleasant to watch great questions btw standtall ace in the hole is ohio republicans must win ohio   debate news trump shocks gop faithful http t co ybba83gtmy   donaldtrump http t co 1cj3zy1u4wnks made the donation everyone needs to donate to planned parenthood after watching  t debate   was the best experience of my life it will be a tough race for sureyou also get the sense that is actually the competent executive that hillary clinton pretends to be but neveidn t watch   but here s my list of faves thus far walker fiorina rubio everyone else p2 tcotd to see that jesus got a shout out at las night s debate them candidates were pushing the envelope    really captured the schism b t fox news very professional production design team amp intellectual dimwit buth i m sticking with independent   gopprimarytough words donald trump no way obama s gonna get re elected now  mp did not threaten megyn kelly drama queen   foxnewsdebate foxdebateps to the anchors for asking the tough questions as usual in the debate last night  thank you for exposing donald trump as the fraud he is thank you   dumptrumpit s quite entertaining to read other countries headlines of   vs american ones the sensibility elsewhere givi will 100 vote for donald trump if at the end of all this he looks directly at the camera and shouts the aristocratsclear federal government shouldn t be involved in setting education curriculum states should do that gopdet is the greatest thing ever   https t co rkkuhet4jsdebate made me so pumped for politics over the next year noshame republicansunitedebate winners trump cruz carson kasich huckabee fiorina potus trump2016 republicanstakeaways rubio cemented himself as damn good candidate christie reminded everyone he s legit kasich stood out w time given   i m sure immigrant song came up   or ledzepplinkim kardashian and kanye west s selfie with hillary clinton is more important than anything said at the  ine on russia s knowledge of the clinton emails was pretty good  huge local ratings for   in nashville last night 14 3 no other show in nashville yesterday got above a 9 ratingrubio is my man right now so well spoken very impressive   debatewithfflceless my favorite picture and it speaks volumes about this amazing man cruzcrew   ccotfiorina likely emerged a winner by not sharing the second   stage but shining brightly on the first one only commentary needed for last night s   westwing ftwway can the dems ever be that much fun  dict on   trump trips but trumpism wins http t co japp3pbi8u  review bush kasich eh huckabee christie ok wanted more paul cruz rubio trump walker carson overall good groupearly numbers suggest   the most watched primary debate in history http t co weyg5zlnskarely say it props 2 for asking tough qs at   w their special link to conservatives only they could amp they didthank you for fighting for kateslaw sanctuary cities are a major issue in texas and nationwide  debate i was struck by jeb saying he humbly urged people to vote when they get the chance great leaders are humble lincoln reagane over gents   two debates one winner carly http t co kuevblsugk vial admit some of s commentary during the   was quite hilariousually trump we live in the least violent time in human history  there are a lot of good people running that s my takeaway  ben carson moved up on my draft board sneaky quickness reads the field well  i will totally stay tuned for god megyn  ohhhh bencarson your honesty and beautiful soul make us love you  rall the candidates demonstrated competence command of the issues amp a shared optimistic vision thts what mttrs  mp ratings   overnight numbers seemed to surpass everyone s expectations http t co g3aawdobpdof moxie it s such a low bar we set but i was mostly impressed with s ability to act like he had some sense on stagehink i m the only one that liked the   i m glad for the tough questions off the bat i know where they stand on issues now  rules used to require the audience to stay silent the trusting audience to boo applaud was genius httpited to see how my personal favorites will continue to do after last night and   2016t night rand paul show us that he will face donald trump and beat him many times if it possible  ievable   so polished tough funny guy great theaterds up who won the   polls show to increase his lead after win america trusts trump2016 http t co gka0v49albksantorum brings full crazy to gop debate compares same sex marriage and abortion to slavery http t co ohxdllknvx wegoted  da liking donaldtrump for prez   keepitrealmax bentonlee1 rt drmartyfox trump wins drudge debate poll by a landslide tedcruz 2   pjnet http t cking at s liveblog from the   i m proud of my livetweeting my play by play was on par with http t co spz56hetpghink did everything it could to derail the during the   newsflash you faileder last night jumped to the top of my list   foxnewsdebate fiorinahuckabee we need a leader who believes we can once again be one nation under god separation between church and statea class act  debate early numbers suggest record audience http t co asons3bsg6io cruz and carson were the top dawgs in last night s debate walker and huckabee also had great mments   really impressed with s ability to not roll his eyes at   that s why he s the only one who can lead the newamericancentury studentsforrubio   https t co rmd1pfxxnz these debates hands down let s talked about her  e never been a huge christie fan but he s the only who made it a point to mention entitlement reform the only one  cheryl now amen this gentleman definitely has my vote love him and what he stands for   onpoint https t co anzmdiorveks like last night was the highest rated primary debate in history http t co vjrfupgvqn  er give up your leverage before the negotiation starts donald trump 2015   trumpforpresidenttonlee1 rt drmartyfox trump wins drudge debate poll by a landslide tedcruz 2   pjnet http t co 6lz5psafmsi missed the   driving the mother road but i did take a very satisfying bowel movement in bushland texas her give up your leverage before the negotiation starts donald trump 2015   trumpforpresidentoved it in the   when scottwalker asked rhetorically how is hillary clinton going to lecture meissed the   driving the mother road but i did take a very satisfying bowel movement in bushland texas http t co e0huw70rrr gt we raised our hands too   makeamericagreatagain noamnestyase join me to congratulate on his success in   makeamericagreatagain his 1st debate http t co 7am5odcbvwwatchign knock that self righteous fat half wit the f out was so worth it great reality tv gopdewho s the real illegal alien   farrakhan on immigration amp the mexican bor https t co lklffn2lfthis guy has my vote   http t co yq7hu3uv7s bush was somewhat impressive unlike trump which surprised me  oyed the   last night i think trump stumbled rubio was solid anyonebuthillaryok sure scott walker will be an interesting candidate   us2016 https t co qrbqcmebuffect   https t co r5ozztaeabdebate they didn t give trump chance to answer the most important question but he is still a winnerthanks to trump the   shattered viewership records many voters introduced to candidates they wouldn t know exught you would enjoy my recap of the   https t co 6ke7zryepzmy g o s h she really is fantastic carlyfiorina   chrismatthewsgottold https t co h3dss4dxmore are actually people angry that the candidates were asked real questions seriously  response when tried to call a sexist can t stump the trump  as an italian american i appreciate walker s ability to talk with his hands that s the nicest thing i have to say gopthis picture taken during   of hillary2016 tels you how she s so in touch with middle class hardworking s httpounding job at the   poised dignified humble yet unwaveringike what said last night about hitting a nerve in this country   trump https t co wq2cxxgsai debate early numbers suggest record audience http t co tuv31vgkly trump2016 gop  retweet if you re tired of the democrats importing third world peasants to win elections and the gop not trying to stthis vine of s eye roll to chris christie at the   last night has 4 million loops https t co hf318qsowdly2016 was dominant winner of   night http t co 72u0fgvb9jusual very insightful on the   candidates http t co 4yp5vfabjqbush knocked down the towers tho   kkkorgop next   i believe deserves a seat at the big table tcot rednationrising pjnett line of the night marcorubio   http t co zhnqhdpiln gives me unconditional love i m going to give it to my family my friends and the people around me kasich  prises me again with his gaymarriage answer i like this guy  se are great which is your fave   https t co eojrkb1ahs debate last night was interesting i m super exciting to see where things go from here as we get closer to 2016  yes i m a democrat and i still watched the   because i want to be an informed voter and know candidates positiosays we should respects all take care of the poor amp the sick bad news he s not getting the gop nomination   donald in spite of megyn kelly won the debate  packed house in dublin for our   watch party http t co qhpe4anyz3the candidates don t have to attack fox is doing it for them by stoping him from speaking  at images   photography https t co foxkcpuroftening to recap the   all day at work this should be fun donald trump s performance at the first   help or hurt him he spoke the truth you either like you or not i do s the only one with any promise at the jv game  ant to see donald trump as us president he is awesome   http t co gwvflrszk4c sandalow rubio made a strong case about the benefits of his conservative values   http t co 1zb75gqmuwrs in the debate last night were rubio and kasich   at least kasich sounded compassionatebut carly fiorina winning the early debate may have done more for her campaign than anyone else   i expected a lot of people would watch the   but not this many http t co io41nn1omnhere s who i m rooting for tonight cruzcrew cruztovictory i m so pumped and ready for the first   http t not a republican but gotdam i love chris christie  and the winner of tonight s   was me for making it through the  at job on the   i enjoyed listening to u solid he knew his stuff amp was comfortable he has an excellent track record of success against opposition  ght me during the   that it s okay to be mean to others if you can reframe it as anti political correctnesstalked with about my pre debate ritual i take solitaire very seriously https t co o7ujl56nm7   caoutstanding mr trump trumpwins gt   winner drudge 50 time 46 foxsd http t cot admire for asking tough questions of all candidates and standing up for her fellow women proud of her  s the format of cnn youtube presidentialdebate of 07 so fun informative bring them back   demdebate http t co 6nja6p36ulistie with the 1 slam of the   http t co 4p1vqtiwxf what the whole field should have done and went on the offensive against trump and christie  tell the bimbo to shut the f up donaldtrump hahahaha  ning after and were the stars yesterday as runner up  ssic  tedcruz as president i will always tell the truth and do what i said i would do  sluerssen 1st place fiorina 2nd place jindal  sthe  s were everything we could have hoped for and lesseptional candidates in crowded field almost all qualified for president vp or cabinet appointee  s roadto2016love liza s cartoons  s https t co vkhqn0s7n4trump should have said megyn ask these nine candidates if they plan to support me when i win the nomination gopdebattedcruz as president i will always tell the truth and do what i said i would do  swe the american people pick the next president of united states not fox news    senjoyed the  s and am looking forward to the democraticdebates nextask trump a legitimate question look at wallace s face when trump nails it    sthanks fox news you re raising s ratings    smped 16 candidates cleared 5 fox hounds in 2  s on 1 night in high heels no sweat tcot https t co bwbotevnxee liza s cartoons  s https t co vkhqn0s7n4why should pledge support to the gop when the establishment sold out to obama    stedcruz as president i will always tell the truth and do what i said i would do  sthe happiest person in america today after watching those debates is hrc  stedcruz as president i will always tell the truth and do what i said i would do  sdebates thank god the early debate was handled professionally and without shock value soundbite personal advancement for foxtrump should have said megyn ask these nine candidates if they plan to support me when i win the nomination gopdebattwo great debates who were your favorites let me know your thoughts  s roadto2016enjoyed the  s and am looking forward to the democraticdebates nextwhy should pledge support to the gop when the establishment sold out to obama    senjoyed the  s and am looking forward to the democraticdebates nextthe happiest person in america today after watching those debates is hrc  sf post is praising that should tell you something  smp wasn t going to play their pc game    sstart th evening rnc moderators dropped atom bomb on trump trump kicked it thru th uprights    stedcruz as president i will always tell the truth and do what i said i would do  senjoyed the  s and am looking forward to the democraticdebates nexter watching the  s i ve made my decision i m voting for omg where has she been all my life she is so hotgurrrrrlll d  s iwonderhowmanysmartrepublicanshaditchyslappinghandslastnight http t co jziz1zvxdjed and ditch kelly amp wallace sideshow railroad  s https t co qxim3nkiyftedcruz as president i will always tell the truth and do what i said i would do  stwo great debates who were your favorites let me know your thoughts  s roadto2016nie sanders gained over 10k new likes and growing from the  s debatewithbernie feeltheberntedcruz as president i will always tell the truth and do what i said i would do  sdebate  s carly fiorina won 1st round marco rubio led 2nd roundthe happiest person in america today after watching those debates is hrc  snk you for having me on during the  s i look forward to the next time http t co hdotyszdrf tcothttp t co vagyiuz5j8 dumbasssexist donald trump made case for campaign finance reform  sp t co vagyiuz5j8 dumbasssexist donald trump made case for campaign finance reform  snever thought i d say this but goddamnit i am yo chris wallace great job hosting the goptedcruz as president i will always tell the truth and do what i said i would do  stedcruz as president i will always tell the truth and do what i said i would do  senjoyed the  s and am looking forward to the democraticdebates nexttrump has got it right nobody would talk about immigration not untill be brought it up    stedcruz as president i will always tell the truth and do what i said i would do  stedcruz as president i will always tell the truth and do what i said i would do  sre watching their plans unfold psych warfare pure amp simple games  strump should have said megyn ask these nine candidates if they plan to support me when i win the nomination gopdebatsays topped candidates in new twitter followers after  s 24000 vs 2nd place 11000tedcruz as president i will always tell the truth and do what i said i would do  stedcruz as president i will always tell the truth and do what i said i would do  stedcruz as president i will always tell the truth and do what i said i would do  stedcruz as president i will always tell the truth and do what i said i would do  stedcruz as president i will always tell the truth and do what i said i would do  sning closing amp occasionally canned statements aside the  s were legitimately entertaining and exciting 4 4er thought i d say this but goddamnit i am yo chris wallace great job hosting the  s last nightd debates including the  s challenge candidates to say what they mean both on purpose or on accident and last night did thatugh cruz was articulate intelligent felt trump held his own rubio solid we have a lot of great candidates  stedcruz as president i will always tell the truth and do what i said i would do  sad high expectations for last night s  s and boy were they met they were combative spontaneous mostlytedcruz as president i will always tell the truth and do what i said i would do  stedcruz as president i will always tell the truth and do what i said i would do  stedcruz as president i will always tell the truth and do what i said i would do  stedcruz as president i will always tell the truth and do what i said i would do  stedcruz as president i will always tell the truth and do what i said i would do  stedcruz as president i will always tell the truth and do what i said i would do  smegyn kelly was so over the top i thought she would announce her candidacy last night  stedcruz as president i will always tell the truth and do what i said i would do  swhen will they learn attack and he wins amp poll  s http t co os i had amp was very impressed w her last pm she took the entire night both  stdebatequotes first thing i will do as president is rescind all of obama s executive orders tedcruz2016  sthanks fox news you re raising s ratings    sgest powermove i made last night was staying off social media i feel much smarter and happier this morning  stedcruz as president i will always tell the truth and do what i said i would do  strump has got it right nobody would talk about immigration not untill be brought it up    stedcruz as president i will always tell the truth and do what i said i would do  sperry fiorina clips on irandeal are better than most answers being given in this debate  stedcruz as president i will always tell the truth and do what i said i would do  stedcruz as president i will always tell the truth and do what i said i would do  swhen will they learn attack and he wins amp poll  s http t co otedcruz as president i will always tell the truth and do what i said i would do  sdonald will go independent rubionever shows up 4 work  stedcruz headed into the presidential debates go ted  s http t co 8s67pz8a4atedcruz headed into the presidential debates go ted  s http t co 8s67pz8a4atedcruz headed into the presidential debates go ted  s http t co 8s67pz8a4atwo great debates who were your favorites let me know your thoughts  s roadto2016tedcruz as president i will always tell the truth and do what i said i would do  sperry fiorina clips on irandeal are better than most answers being given in this debate  s getting fiorina yard signs  stwo great debates who were your favorites let me know your thoughts  s roadto2016when will they learn attack and he wins amp poll  s http t co otedcruz as president i will always tell the truth and do what i said i would do  stedcruz as president i will always tell the truth and do what i said i would do  sdebates roadto2016 kasich showed well but frankly too many folks up there to truly learn who amp what they were aboutdebates walker christie and trumptrump should have said megyn ask these nine candidates if they plan to support me when i win the nomination gopdebat needs those trump2016 voters to win gen elect without them hiliary is next pres  s foxnews be fair bench mw ampcongrats to for your win in  s polling last night report well done sir http t co ntwo great debates who were your favorites let me know your thoughts  s roadto2016 great debates who were your favorites let me know your thoughts  s roadto2016 trump babygrats to for your win in  s polling last night report well done sir http t co ndu4eo1vrxtwo great debates who were your favorites let me know your thoughts  s roadto2016 cruz and carly rt two great debates who were your favorites let me know your thoughts  s roadto2016two great debates who were your favorites let me know your thoughts  s roadto2016tedcruz as president i will always tell the truth and do what i said i would do  s great debates who were your favorites let me know your thoughts  s roadto2016tedcruz as president i will always tell the truth and do what i said i would do  swhen will they learn attack and he wins amp poll  s http t co otedcruz as president i will always tell the truth and do what i said i would do  s noticed in neither  s not one person jumped up amp yelled youlie juxtapose democratstedcruz as president i will always tell the truth and do what i said i would do  stedcruz as president i will always tell the truth and do what i said i would do  stedcruz as president i will always tell the truth and do what i said i would do  stedcruz as president i will always tell the truth and do what i said i would do  stedcruz as president i will always tell the truth and do what i said i would do  sthree best performance in the  s in no order imho carly fiorina amp ben carson amp marco rubiotedcruz as president i will always tell the truth and do what i said i would do  stedcruz as president i will always tell the truth and do what i said i would do  stedcruz as president i will always tell the truth and do what i said i would do  stedcruz as president i will always tell the truth and do what i said i would do  stedcruz as president i will always tell the truth and do what i said i would do  stedcruz as president i will always tell the truth and do what i said i would do  sright light in last evening  s hope will soften position on irandeal optimism instead https t co 3wz2haagk8the happiest person in america today after watching those debates is hrc  scruz as president i will always tell the truth and do what i said i would do  sson rubio fiorina amp cruz won the night  sorder cruz rubio carson walker and i think rand did okay    s trump hurt himself jeb didn t do muchenjoyed the  s and am looking forward to the democraticdebates nextenjoyed the  s and am looking forward to the democraticdebates next a republican clowncarcrew but johnkasich held his own last night probably the best candidate on stage for the  stedcruz headed into the presidential debates go ted  s http t co 8s67pz8a4adr carson remark on dc having half a brain best line  strump should have said megyn ask these nine candidates if they plan to support me when i win the nomination gopdebattrump should have said megyn ask these nine candidates if they plan to support me when i win the nomination gopdebattrump should have said megyn ask these nine candidates if they plan to support me when i win the nomination gopdebatthese debates will raise s ratings because fox news is afraid of trump and it shows   gopdebfox news won t admit who the republican leader is right now i mean only has a double digit lead gopdt ever you think of he s resilient as hell and a straight shooter http t co eiwb8vwmel    sclassy  s https t co pzpyl1rdu6weeted donnie wahlberg enjoyed the  s and am looking forward to the democraticdebates nextenjoyed the  s and am looking forward to the democraticdebates nexth all the candidates are going to repel obamacare and replace it with something go gop  ss one or both of the  s want to see a segment again re watch every minute with our playlist http t co 7bd5kbk5zatrump should have said megyn ask these nine candidates if they plan to support me when i win the nomination gopdebattrump should have said megyn ask these nine candidates if they plan to support me when i win the nomination gopdebatenjoyed the  s and am looking forward to the democraticdebates nexttrump should have said megyn ask these nine candidates if they plan to support me when i win the nomination gopdebattrump should have said megyn ask these nine candidates if they plan to support me when i win the nomination gopdebattrump should have said megyn ask these nine candidates if they plan to support me when i win the nomination gopdebattrump should have said megyn ask these nine candidates if they plan to support me when i win the nomination gopdebattrump should have said megyn ask these nine candidates if they plan to support me when i win the nomination gopdebattrump should have said megyn ask these nine candidates if they plan to support me when i win the nomination gopdebattrump should have said megyn ask these nine candidates if they plan to support me when i win the nomination gopdebatald trump s best lines from the first gop debate debates  s donaldtrump http t co 1cslxvicwpsing the  s makes me glad i don t have cable missing jonstewart last show makes me sad i don t have cable jonvoyageso donald trump is biff from back to the future 2  s womensrights combover http t co is9gyb7p31trump collapses hillary non issue marcorubio shined jeb2016 strong carson2016 articulate fiorina should join goched  s loved bencarson closing statement trump is affectionate mad man while carson is affectionate person who caresdonald trumps loyalty is to america and the american people not to a political party  s tcot pjnet makeamtedcruz headed into the presidential debates go ted  s http t co 8s67pz8a4athe honey badger of candidates this round    s great foxdebate tonightstart th evening rnc moderators dropped atom bomb on trump trump kicked it thru th uprights    s reportdonald trumps loyalty is to america and the american people not to a political party  s tcot pjnet makeamjdreaming fox to presidential candidates so lets all talk about god for a second founding fathers jesus  s httpald trumps loyalty is to america and the american people not to a political party  s tcot pjnet makeamericagreatagainenjoyed the  s and am looking forward to the democraticdebates nextmp wasn t going to play their pc game    stedcruz headed into the presidential debates go ted  s http t co 8s67pz8a4atedcruz headed into the presidential debates go ted  s http t co 8s67pz8a4aenjoyed the  s and am looking forward to the democraticdebates nextenjoyed the  s and am looking forward to the democraticdebates nextdebates winners imo marco rubio rand paul john kasich and carly fiorinam looking more forward to the snl spoof of the  s and democraticdebates when does that air againrip annrichards she has it right we needed her for president  s stoprush http t co uw5axjzmxcheaded out to the  s in cleveland should be interesting motleycrueenjoyed the  s and am looking forward to the democraticdebates nextenjoyed the  s and am looking forward to the democraticdebates nextheaded out to the  s in cleveland should be interesting motleycrueed watching the  s tonight lot of good stuff amp some not so good stuff really enjoyed watching it with my daughter amp discussingenjoyed the  s and am looking forward to the democraticdebates nextenjoyed the  s and am looking forward to the democraticdebates nextgan was a democrat so if trump changed from a democrat to a republican then i m okay with that  senjoyed the  s and am looking forward to the democraticdebates nextenjoyed the  s and am looking forward to the democraticdebates nextrall view on  s i stayed home from work for this my candidate choice has not changed 1 iota cruzcrewoyed the  s and am looking forward to the democraticdebates next http t co ppxqqzfl1t j8ptrump has got it right nobody would talk about immigration not untill be brought it up    strump has got it right nobody would talk about immigration not untill be brought it up    strump has got it right nobody would talk about immigration not untill be brought it up    stedcruz headed into the presidential debates go ted  s http t co 8s67pz8a4aio is by far the best speaker  sy great businesses use the bankruptcy laws trump did what a lot of businesses have done  s s if you look at substance he needs to be in the discussion he has been successful at every turndebates winners candidates paul kasich amp carson politics  debates if you look at substance he needs to be in the discussion he has been successful at every turny kasich came across as a sensible decent and rational human being out of all of them  senjoyed the  s and am looking forward to the democraticdebates nextto start th evening rnc moderators dropped atom bomb on trump trump kicked it thru th uprights   gopdebatrump has got it right nobody would talk about immigration not untill be brought it up    senjoyed the  s and am looking forward to the democraticdebates nextenjoyed the  s and am looking forward to the democraticdebates nextenjoyed the  s and am looking forward to the democraticdebates nextave no intention of voting for trump but love this guy brand and i wil give him credit for stirring things up summeroftrump  so two dc outsiders non politicians trumped the  s tonight amp tcot election2016one of my favorite things about the  s is how many of these candidates i ve seen in person thanks ampthree best performance in the  s in no order imho carly fiorina amp ben carson amp marco rubiobunch so smart of kasich to say essentially i hear the concerns of trump voters except that i m sane  senjoyed the  s and am looking forward to the democraticdebates nextenjoyed the  s and am looking forward to the democraticdebates nextall seriousness johnkasich was the best in the debate tonight donaldtrump is just a joke  senjoyed the  s and am looking forward to the democraticdebates nextit is just me or can anyone else not wait for snl this weekend for the debate coverage  s  enjoyed the  s and am looking forward to the democraticdebates nextenjoyed the  s and am looking forward to the democraticdebates nextin the  s amp are the only two candidates i d invite to my home for a great mealtrump has got it right nobody would talk about immigration not untill be brought it up    skicking off our  s watch party with 0hara leadright2016 http t co fcmszqx77renjoyed the  s and am looking forward to the democraticdebates nextenjoyed the  s and am looking forward to the democraticdebates nextthree best performance in the  s in no order imho carly fiorina amp ben carson amp marco rubio fact that moderators are attacking candidates shows it is not a debate but a large group interview  sidn t see a clear winner in the 9 00  s but several had some good moments ben carson ted cruz didn t think trump did welltrump has got it right nobody would talk about immigration not untill be brought it up    strump has got it right nobody would talk about immigration not untill be brought it up    sgop2016debate    s trump2016 trump2016 trump has the gop scared they don t control him he talks abodr carson remark on dc having half a brain best line  senjoyed the  s and am looking forward to the democraticdebates next2016debate    s trump2016 trump2016 trump has the gop scared they don t control him he talks about needed issuestrump has got it right nobody would talk about immigration not untill be brought it up    strump has got it right nobody would talk about immigration not untill be brought it up    sanyone have any more questions trumpcrush  s http t co bdux3nkytei m really really really pissed off at fox news for what they did to    sz said it right our leaders aren t stupid they just don t want to fo what is right  strump has got it right nobody would talk about immigration not untill be brought it up    sone have any more questions trumpcrush  s http t co bdux3nkytedebates were definitely biased too civilized except for trump2016tedcruz headed into the presidential debates go ted  s http t co 8s67pz8a4aenjoyed the  s and am looking forward to the democraticdebates nexttrump has got it right nobody would talk about immigration not untill be brought it up    seed to do some research but is the only in the  s that stands a chance to get my vote as far as me maybe voting gopove the great one  s http t co veggw14ipbprediction donald trump goes up in post debate polls because he looks no crazier than anyone else and more entertainingoyed the  s and am looking forward to the democraticdebates next http t co wb0zteorzm j8poyed the  s and am looking forward to the democraticdebates next http t co ppxqqzfl1t j8pi m really really really pissed off at fox news for what they did to    sdoubt huge bump kasich  s https t co vanc0qxy4cenjoyed the  s and am looking forward to the democraticdebates nextdebates re ss i agree if someone has income greater then x then they shouldn t draw ss because it is to keep seniors out of povertyed trump calling our leaders stupid  senjoyed the  s and am looking forward to the democraticdebates next bush and rand paul were the only ones to see their odds rise during the  s though bush s price was trimmed by the endee best performance in the  s in no order imho carly fiorina amp ben carson amp marco rubiodebates spot onenjoyed the  s and am looking forward to the democraticdebates nextd beat all at the  s today 100 our sergeyenjoyed the  s and am looking forward to the democraticdebates nextin terms of substance dominates  sthree best performance in the  s in no order imho carly fiorina amp ben carson amp marco rubioenjoyed the  s and am looking forward to the democraticdebates next best part of the two  s they showed themselves as men and women not gods  d point    s fail https t co eukms5k9sbenjoyed the  s and am looking forward to the democraticdebates nextdebates drbencarson the man uses his brain to think not to politically manipulate i hope he goes far id like 2 see hear more frm himenjoyed the  s and am looking forward to the democraticdebates nextcorubio speaks from a true american position he s not perfect but trying hard giving it his very best foxnewsdebate  sdebates randpaul2016 telling chrischristie to get a warrant per 4th amendment goldenenjoyed the  s and am looking forward to the democraticdebates nextdebates our president should be less like tedcruzdebates scottwalker talked about path to citizenship the only one to address illegals immigrants with a reasonable humane planenjoyed the  s and am looking forward to the democraticdebates nextenjoyed the  s and am looking forward to the democraticdebates nextthree best performance in the  s in no order imho carly fiorina amp ben carson amp marco rubioi think cruz and trump need to band together and expose this set up job and get rid of bush and rubio   genjoyed the  s and am looking forward to the democraticdebates nextthanks fox news you re raising s ratings    sao i m drunk but i enjoyed that trump  s https t co 2thnmyuenpy impressive  senjoyed the  s and am looking forward to the democraticdebates nextenjoyed the  s and am looking forward to the democraticdebates nextenjoyed the  s and am looking forward to the democraticdebates nextenjoyed the  s and am looking forward to the democraticdebates nextenjoyed the  s and am looking forward to the democraticdebates nextenjoyed the  s and am looking forward to the democraticdebates nextenjoyed the  s and am looking forward to the democraticdebates nextenjoyed the  s and am looking forward to the democraticdebates nextenjoyed the  s and am looking forward to the democraticdebates nextenjoyed the  s and am looking forward to the democraticdebates nextenjoyed the  s and am looking forward to the democraticdebates nextenjoyed the  s and am looking forward to the democraticdebates nextoyed the  s and am looking forward to the democraticdebates nextmp doesn t care about political correctness but he does care about america s future  sio had the best attack of the night was from marco rubio on hillary clinton tcot ccot pjnet gop  sjeb stands by act of love comments and earned legal status boo noamnesty http t co himscrvikr  s is a swell guy and donald is gruff i m a marco rubio fan  sat jobs from mike huckabee and donald trump competing to see who can be the president from escape from new york tonight  se how rubio said the election is not about resumes but ideas for the future and a high tech future  sjeb stands by act of love comments and earned legal status boo noamnesty http t co himscrvikr  sthree best performance in the  s in no order imho carly fiorina amp ben carson amp marco rubiokasich it may be the booze talking but i think i like you man  s 2016 c2 csquared america can be great again  sdr carson remark on dc having half a brain best line  s i think john kasich is an actual real candidate if he keeps talking sense he will never win the primary    se for me its the greatest time to be alive and i dont know when the primary is jeb bush  ssssss donaldtrump is doing it up he answers the questions the way he wants to foxnewsdebate  sjeb stands by act of love comments and earned legal status boo noamnesty http t co himscrvikr  shas been so amazing tweeting w all of you tonight for both  s grateful for you all amp look forward to all the fun aheadspuds trump and ben carson stood out  sl that was a blast a strong field in both  s going to be a fun campaign seasoni had to vote republican god forbid johnkasich would have my vote republicandebate foxnews  sjeb stands by act of love comments and earned legal status boo noamnesty http t co himscrvikr  sand need to take control of this debate they can do it    si think cruz and trump need to band together and expose this set up job and get rid of bush and rubio   gby far the most professional candidate is tedcruz  sdebates kasich knew the buzz words economic growth unite our country respect other voices carson was surprisingly eloquentpence i became a bencarson fan tonight  sone of my favorite things about the  s is how many of these candidates i ve seen in person thanks amptrump has cam hands  sby far the most professional candidate is tedcruz  strue and a lot of people agree should have used  s https t co qlzsvi4otmthree best performance in the  s in no order imho carly fiorina amp ben carson amp marco rubiomistie lol fun aghhh i m pumped this is a nerds favorite sport  si think cruz and trump need to band together and expose this set up job and get rid of bush and rubio   g happy carson was fast amp sure he is relaxed sometimes  samerica won t move forward til we admit a problem with radicalchristianterrorism http t co onozzewi2s unidebates tedcruz we need a fiscal national and social conservativei think cruz and trump need to band together and expose this set up job and get rid of bush and rubio   gs a beautiful night in hollywood if you ve been watching the  s and playing https t co hmpjwnceseclassy  s https t co pzpyl1rdu6debates part 2 surprisingly good trump2016 belligerent some good points made by others all came across as human except cuzwow my primary source of entertainment for the next six months has been cemented  s soexcitingwow my primary source of entertainment for the next six months has been cemented  s soexcitingmp and ben carson stood out  s night between  s amp jonvoyage i m heading to 30 rock to get you the highlights plus anything you missed onfavs from  s tonighti d really like to see how long each candidate was given to speak it didn t seem fair amp balanced at all gopdebat this debate with a little home field advantage  sollster just called and i told them won go trump go trump  si think cruz and trump need to band together and expose this set up job and get rid of bush and rubio   gld love to see a matchup between carly and hillary  s carson killed it in the  s tonight and i get to see him at liberty this semester coolestschoolone of my favorite things about the  s is how many of these candidates i ve seen in person thanks ampyou would never know is the frontrunner from watching this debate    sbec won tonight  drinkinggame  s gopdebacledebates ben carson stepped up tooon s half a brain line was killer there was some good zingers tonight and overall fairly civil  secame a bencarson fan tonight  s right on  s   https t co ccyfy3gwmi 5 in order carson cruz huckabee rubio paul  si m really really really pissed off at fox news for what they did to    sma s leading from behind has been a disaster  syou would never know is the frontrunner from watching this debate    s me rubio carson trump christi were the only ones who made any sort of mark in this debate    s amp add i ve got the best hair rt rand paul should have gone with i ve got curly hair and dropped the mic  sand the winner is the koch brothers  sike him for that slam trump  s https t co df1aefuvgjone of my favorite things about the  s is how many of these candidates i ve seen in person thanks ampthree best performance in the  s in no order imho carly fiorina amp ben carson amp marco rubioll deciding carson huckabee and cruz did well in round 2 so who do you think won  scarly fiorina made the point that she will be able to attack hillary clinton love it she is unafraid  sould have to give the first debate to 1 gov huckabee 2 marco rubio 3 rand paul  syou would never know is the frontrunner from watching this debate    scarson getting in some zingers at the end not riding for him at all but i ll give him credit for being a medical trailblazerer the undercard debates i d say only two should stay in the race are carly fiorina and bobby jindal  s won the  s i d say it s between carson cruz and trump fun aghhh i m pumped this is a nerds favorite sport  sdr carson remark on dc having half a brain best line  sone of my favorite things about the  s is how many of these candidates i ve seen in person thanks ampee best performance in the  s in no order imho carly fiorina amp ben carson amp marco rubiothe  s amp are the only two candidates i d invite to my home for a great mealone of my favorite things about the  s is how many of these candidates i ve seen in person thanks ampdr carson remark on dc having half a brain best line  sdr carson remark on dc having half a brain best line  sand the winner is the koch brothers  s5 faves from  s in no particular order cruz carson rubio huckabee fiorinaat app for watching the debates thanks fox news please add an option to rate the moderators  seven after biased attacks by wins  sdebates i ll be surprised if doesn t jump into the top 5 after tonight interested to see if carly fiorina ben carson and mike huckabee pick up steam everyone came out unscathed in these  sahahah this commentary is the best  sn after biased attacks by wins  sone of my favorite things about the  s is how many of these candidates i ve seen in person thanks ampdr carson remark on dc having half a brain best line  st was a wildly entertaining television spectacle  sly fiorina made the point that she will be able to attack hillary clinton love it she is unafraid  so governor john kasich you are currently the man  s kasich o hi think cruz and trump need to band together and expose this set up job and get rid of bush and rubio   gd paul and marco rubio seem like viable options  sove ice cream christie gets my vote  s icecream election2016 pinocchioal smackdown dc having half a brain best line  s word to your mutherdr carson remark on dc having half a brain best line  sz new sheriff in town nice summary he cherishes freedom your freedom  s loving and s closing statements i hate they didn t get a lot of questions tho  swasn t too late for wisconsin it s not too late for america oh and pass the cheese scott walker  sdr carson remark on dc having half a brain best line  scarson remark on dc having half a brain best line  sone of my favorite things about the  s is how many of these candidates i ve seen in person thanks ampl be my best to do that  s watch 10 contenders debate when you can just watch megyn kelly  sson getting in some zingers at the end not riding for him at all but i ll give him credit for being a medical trailblazer  sluerssen the worst debate in the history of republican debates thank you senator ted cruz for what time you had to debate gopcarson went hard at the end and busted in the  s facet neuroscience shaaaade tho omg i wanna throw shade like that please  ss my vote after tonight but dr carson is a very close second  sdebates dr ben is damn funnythank you cruz finally someone who pledges to reverse every obama executive order day 1 why is this so hard gopdeb carson rocks out the final thoughts  s  nk you cruz finally someone who pledges to reverse every obama executive order day 1 why is this so hard  sbr god blessed our country the republican candidates but not them democrats rubio paraphrase  s you http tthanks fox news you re raising s ratings    sz go and take down other eos in previous administrations that were illegal  sdebates kasich deserves more airtimecommercial break  s http t co nde2oejlmhdebates chrischristie is no more conservative than obama whose hand he held while blaming gop 4 sandy http t co glubxg8wlv pjnetone of my favorite things about the  s is how many of these candidates i ve seen in person thanks ampone of my favorite things about the  s is how many of these candidates i ve seen in person thanks ampio is american dream story  sone of my favorite things about the  s is how many of these candidates i ve seen in person thanks ampben carson solidifying the black vote  st statement of the night dr carson thank you 4 putting it n2 perspective 4 the ignorant n the world  sone of my favorite things about the  s is how many of these candidates i ve seen in person thanks amp sweet has family who served what does anything he is saying have to do with veterans  s carlson nailed it on his comments about race and our own country trying to divide us    sone of my favorite things about the  s is how many of these candidates i ve seen in person thanks ampben carson solidifying the black vote  s watching sock it to amp so many other reporters who have lost their true north go don  sone of my favorite things about the  s is how many of these candidates i ve seen in person thanks ampone of my favorite things about the  s is how many of these candidates i ve seen in person thanks ampben carson united not divided states of america    sone of my favorite things about the  s is how many of these candidates i ve seen in person thanks ampich is moving up  s homerunre s some cakebread in the fridge  s https t co zbmtzsx9vx break it open red or white love their chardrussia amp china know more about hillary clinton s emails than our own congress boom rednationraising  sdebates trump still supporting trump no matter how hard you tried to tear him downben carson solidifying the black vote  s this science talk is hot  sich has the least dead eyes of the bunch  stedcruz headed into the presidential debates go ted  s http t co 8s67pz8a4aike ben  stt walker is like carson i elect you as my first black friend  shis credit carson is the only one the only one to mention anything about race relations  sson slamming radicals  stedcruz headed into the presidential debates go ted  s http t co 8s67pz8a4adebates ben carson loves to use his gifted hands to speak carson solidifying the black vote  snd the question about the racial divide goes to drum roll the only black man on stage  s overiti think cruz and trump need to band together and expose this set up job and get rid of bush and rubio   grace issues this should be good  sstraight outta compton commercial on fox news well played  satequestionswewanttohear debate  s veterans but we want the government to bless our veteransthanks fox news you re raising s ratings    sy good men in 2nd gop debates    sally someone defines conservatives and progressives thank you carly fiorina  s hear that gop candidates kasich said god wants america to succeed too bad some of you at least wanted america to fail  sand need to take control of this debate they can do it    skasich it may be the booze talking but i think i like you man  sod out  sfrom today to the time the next president has one year in office 22aday will empty that arena  s iavaelieve this is the first mention of human rights all night thx kasich  sich it may be the booze talking but i think i like you man  stedcruz headed into the presidential debates go ted  s http t co 8s67pz8a4aand need to take control of this debate they can do it    sich i do believe in miracles restore common sense bam for the win  s that s a christiannow god he s a friend of mine im glad to count him as a backer  sshutting out of debate has not spoken in 30 minutes has to beg them for a chance to say anythingask trump a legitimate question look at wallace s face when trump nails it    s purpose of the military is to kill people and break things  s might be the quote of the nightone of my favorite things about the  s is how many of these candidates i ve seen in person thanks amptrump has got it right nobody would talk about immigration not untill be brought it up    s s they won t let tedcruz speaktedcruz headed into the presidential debates go ted  s http t co 8s67pz8a4adebates i m still staring at baee comes chase from facebook asking the important questions hurts forearm making jerk off gesture  si think cruz and trump need to band together and expose this set up job and get rid of bush and rubio   gthese debates will raise s ratings because fox news is afraid of trump and it shows   gopdeb1012000 thanks for holding the  s now millions of people know you re no better or balanced then msn abc cbstedcruz headed into the presidential debates go ted  s http t co 8s67pz8a4ald love to have seen it seemed better than all these guys  s https t co aawvuqqqrbtedcruz headed into the presidential debates go ted  s http t co 8s67pz8a4ait is just me or can anyone else not wait for snl this weekend for the debate coverage  s  i m imagining trump giving a state of the union and yeah ok maybe i d vote for him  sclassy  s https t co pzpyl1rdu6hey how absolutely fearful are you of i m lol at how you refuse to ask him questions gopdebat are making me even more proud of new jersey  stedcruz headed into the presidential debates go ted  s http t co 8s67pz8a4atedcruz headed into the presidential debates go ted  s http t co 8s67pz8a4ai think cruz and trump need to band together and expose this set up job and get rid of bush and rubio   gkabee plays bass right he must play a steinberger i just know it  st makes sense ron paul  s   stop giving money to enemiesask trump a legitimate question look at wallace s face when trump nails it    sant what rand paul is having  sfoxnews  s owns this debate when it comes to smartfect sweet to the point no time hogging go rand  strump has got it right nobody would talk about immigration not untill be brought it up    s carson s got the best hair on that whole stage  sthe candidates don t have to attack fox is doing it for them by stoping him from speaking  drink trump  s https t co az9gugmcguyou are brilliant amp i love you but please drink a few red bulls before the next debate  srubio awesome response on pro life  s rubio2016tedcruz headed into the presidential debates go ted  s http t co 8s67pz8a4abs  s i likeben carson doesn t talk trash mature speaker of truth maturity and strength on display at  s foxnewsdebate wask trump a legitimate question look at wallace s face when trump nails it    sthanks fox news you re raising s ratings    sah is a b 52s fan dammit i might like him now  se huckabee quoting limp bizkit lyrics for his military talking points breakstuff  so have to admit that i am pleasantly surprised at the questions from the moderators transgender issues unexpected  sis by far the best moderator tonight hands down    s nice job bretask trump a legitimate question look at wallace s face when trump nails it    stedcruz headed into the presidential debates go ted  s http t co 8s67pz8a4a gave a succinct and excellent answer to respond to putin  stedcruz headed into the presidential debates go ted  s http t co 8s67pz8a4adebates interestingna amp russia s servers know more about hilary clinton s emails than we do  strump has cam hands  son t care about the clinton email issue but walker s zinger was pretty good  sby far the best moderator tonight hands down    s nice job brettedcruz headed into the presidential debates go ted  s http t co 8s67pz8a4a progressive movement is causing our problems and is the epitome of that  s lt agree carson doesn t talk trash mature speaker of truth maturity and strength on display at  s foxnewsdebate winbenwinove to hear bencarson  s debatequestionswewanttohear he makes perfect sense israel awesomewhere is this evidence that these hacks talk about when it comes to syria  sly knows the leaders and issues in the middle east  se to see these candidates oppose russia s aggressive actions in europe  sted cruz s mutant superpower is fear mongering tedcruz tedcruz2016    s carson is caked up with the finest black radiance setting powder    s bnrdebate debatenews  s owns this debate when it comes to smarttrump has got it right nobody would talk about immigration not untill be brought it up    sask trump a legitimate question look at wallace s face when trump nails it    sand need to take control of this debate they can do it    sike ted cruz because he looks like bill murray  si think cruz and trump need to band together and expose this set up job and get rid of bush and rubio   gtrump has got it right nobody would talk about immigration not untill be brought it up    smp is doing a good job it s amazing we may not want to hear it he has said it trump trump2016   politics  sstraight outta compton commercial on fox news well played  sed that carly fiorina said one of her first two phones would be to bibi in israel  si think cruz and trump need to band together and expose this set up job and get rid of bush and rubio   gask trump a legitimate question look at wallace s face when trump nails it    si think cruz and trump need to band together and expose this set up job and get rid of bush and rubio   gs way more fun being in america watching the  sted cruz s mutant superpower is fear mongering tedcruz tedcruz2016    sted cruz s mutant superpower is fear mongering tedcruz tedcruz2016    sa serious note if only we had t cruz amp d trump during the cold war would have kicked those commie asses  s of my favorite things about the  s is how many of these candidates i ve seen in person thanks ampask trump a legitimate question look at wallace s face when trump nails it    sm filled with so much joy right now  sask trump a legitimate question look at wallace s face when trump nails it    sask trump a legitimate question look at wallace s face when trump nails it    sis kasich aware that he s making sense  sthanks fox news you re raising s ratings    sthanks fox news you re raising s ratings    syou would never know is the frontrunner from watching this debate    sching the  s interesting so far must say though i disagree with trump on many issues he is the most entertaining of the bunchmp can t say when he became conservative because hes not tcot ccot   trojanhorsetrump  s foxdebateask trump a legitimate question look at wallace s face when trump nails it    sstraight outta compton commercial on fox news well played  sask trump a legitimate question look at wallace s face when trump nails it    ser thought kasich would be the sanest guy in the room clowncarclusterfuck  sfox news won t admit who the republican leader is right now i mean only has a double digit lead gopded that bobby jindal said that we have to end government dependence and expanding medicaid doesn t help people  smp was the only one saying things we thought being not politically correct makes you a target  s https t co nqwl659hzei like a lot too but wish he had more air time to express his views  strump has got it right nobody would talk about immigration not untill be brought it up    strump has got it right nobody would talk about immigration not untill be brought it up    sike a lot too but wish he had more air time to express his views  sppreciate the promo for straight outta compton following the commercial break in the  s following the first race questiontrump has got it right nobody would talk about immigration not untill be brought it up    sask trump a legitimate question look at wallace s face when trump nails it    sask trump a legitimate question look at wallace s face when trump nails it    syou would never know is the frontrunner from watching this debate    sand need to take control of this debate they can do it    strump has got it right nobody would talk about immigration not untill be brought it up    sask trump a legitimate question look at wallace s face when trump nails it    si think cruz and trump need to band together and expose this set up job and get rid of bush and rubio   gand need to take control of this debate they can do it    sfox news won t admit who the republican leader is right now i mean only has a double digit lead gopdker walks that blacklivesmatter question pretty decently  syou would never know is the frontrunner from watching this debate    sask trump a legitimate question look at wallace s face when trump nails it    sis kasich aware that he s making sense  sthe candidates don t have to attack fox is doing it for them by stoping him from speaking  is kasich aware that he s making sense  sask trump a legitimate question look at wallace s face when trump nails it    sis kasich aware that he s making sense  strump has got it right nobody would talk about immigration not untill be brought it up    sio awesome response on pro life  s rubio2016aight outta compton commercial on fox news well played  sdear john kasich beat your republican friends with a gay tree branch  shey how absolutely fearful are you of i m lol at how you refuse to ask him questions gopdebat getting the best presidential vibe from amp  ss enough to win center he s fantastic kasich4us  s https t co tntrjwjkbxlso think kasich is doing fine i m a rino prolly  sask trump a legitimate question look at wallace s face when trump nails it    sis kasich aware that he s making sense  s a few others aren t getting any time to debate in a real debate everybody gets involved gop2016    s surprised this is being advertised right now my gf on straightouttacompton ads during  sand need to take control of this debate they can do it    sthanks fox news you re raising s ratings    sis kasich aware that he s making sense  syou would never know is the frontrunner from watching this debate    sask trump a legitimate question look at wallace s face when trump nails it    sask trump a legitimate question look at wallace s face when trump nails it    sd paul has my vote  s randpaulask trump a legitimate question look at wallace s face when trump nails it    sthanks fox news you re raising s ratings    sthe candidates don t have to attack fox is doing it for them by stoping him from speaking  accepts my daughter i m so happy a republican accepting my child rt  s kasich gaymarriage https t co po2awd9qsdthanks fox news you re raising s ratings    sand need to take control of this debate they can do it    sask trump a legitimate question look at wallace s face when trump nails it    skasich i love you rt  s gaymarriagekasich aware that he s making sense  snow i m tweeting too much but i m just tryna to get a forced invite to trump s next wedding  s gopteenthanks fox news you re raising s ratings    sask trump a legitimate question look at wallace s face when trump nails it    spite support for traditional marriage would accept daughter if she was gay  s lzdebatesthanks fox news you re raising s ratings    sask trump a legitimate question look at wallace s face when trump nails it    sop candidate who respects all gov john kaisch samesexmarriage  sthanks fox news you re raising s ratings    sand need to take control of this debate they can do it    sask trump a legitimate question look at wallace s face when trump nails it    sn kasich is the most decent one out of everyone good speech just now  sms like supporting same sex marriage is actually popular with republicans  sask trump a legitimate question look at wallace s face when trump nails it    sd for you john kasich  sd for you  s gaymarriage equalityask trump a legitimate question look at wallace s face when trump nails it    sask trump a legitimate question look at wallace s face when trump nails it    sask trump a legitimate question look at wallace s face when trump nails it    sh seems like the most level headed person on that stage in other words he s the only sane one  s  ich s answer on gay marriage was reasonable for someone who dislikes it  sich i love you rt  s gaymarriageask trump a legitimate question look at wallace s face when trump nails it    sask trump a legitimate question look at wallace s face when trump nails it    sask trump a legitimate question look at wallace s face when trump nails it    sthanks fox news you re raising s ratings    syou would never know is the frontrunner from watching this debate    sask trump a legitimate question look at wallace s face when trump nails it    sand need to take control of this debate they can do it    sask trump a legitimate question look at wallace s face when trump nails it    sdebates kasich will get the biggest bump in the polls of anyone tonight imoask trump a legitimate question look at wallace s face when trump nails it    sask trump a legitimate question look at wallace s face when trump nails it    sask trump a legitimate question look at wallace s face when trump nails it    sask trump a legitimate question look at wallace s face when trump nails it    sask trump a legitimate question look at wallace s face when trump nails it    sthanks fox news you re raising s ratings    sask trump a legitimate question look at wallace s face when trump nails it    sask trump a legitimate question look at wallace s face when trump nails it    sask trump a legitimate question look at wallace s face when trump nails it    sand need to take control of this debate they can do it    sdebates kasich comes across as the most humane rep on the stageask trump a legitimate question look at wallace s face when trump nails it    sand need to take control of this debate they can do it    sask trump a legitimate question look at wallace s face when trump nails it    syou would never know is the frontrunner from watching this debate    sperry fiorina clips on irandeal are better than most answers being given in this debate  sand need to take control of this debate they can do it    sask trump a legitimate question look at wallace s face when trump nails it    sthanks fox news you re raising s ratings    sask trump a legitimate question look at wallace s face when trump nails it    s swinging hard drawing it back to his accomplishments are kasich and walker still there  s foxdebateslast trying to unite and pitch to by not attacking  s foxnewsdebateask trump a legitimate question look at wallace s face when trump nails it    syou would never know is the frontrunner from watching this debate    smp calls a gentleman  sask trump a legitimate question look at wallace s face when trump nails it    sr personal attacks on makes me like him more backfiring  son t dislike jeb as much as most  sand need to take control of this debate they can do it    stedcruz headed into the presidential debates go ted  s http t co 8s67pz8a4atrump has cam hands  swhy should pledge support to the gop when the establishment sold out to obama    sfox news won t admit who the republican leader is right now i mean only has a double digit lead gopd trump has evolved just like obama  sthanks fox news you re raising s ratings    s1012000 thanks for holding the  s now millions of people know you re no better or balanced then msn abc cbsand need to take control of this debate they can do it    srinks trump said great great  sefunded planned parenthood i created a culture of life pp healthier people parents amp babies amp lowers no of abortions  si think cruz and trump need to band together and expose this set up job and get rid of bush and rubio   gtedcruz headed into the presidential debates go ted  s http t co 8s67pz8a4athanks fox news you re raising s ratings    strump has cam hands  si m imagining trump giving a state of the union and yeah ok maybe i d vote for him  sio is on point life begins at conception  s marcorubioi think cruz and trump need to band together and expose this set up job and get rid of bush and rubio   gmp nails it every time  s  s this is what makes america amp democracy the best place on earth wish the folks asking the questions were less biasi think cruz and trump need to band together and expose this set up job and get rid of bush and rubio   gand need to take control of this debate they can do it    sfox news won t admit who the republican leader is right now i mean only has a double digit lead gopdyou would never know is the frontrunner from watching this debate    sand need to take control of this debate they can do it    swas so much better than these 10 she has gotten my attention  si think cruz and trump need to band together and expose this set up job and get rid of bush and rubio   gabortion says he is completely pro life it s informed by my faith from beginning to end  s lzdebatesi think cruz and trump need to band together and expose this set up job and get rid of bush and rubio   gthe candidates don t have to attack fox is doing it for them by stoping him from speaking  orn lives are more important that s what these men are saying  sthanks fox news you re raising s ratings    sand need to take control of this debate they can do it    sand need to take control of this debate they can do it    si think cruz and trump need to band together and expose this set up job and get rid of bush and rubio   gi think cruz and trump need to band together and expose this set up job and get rid of bush and rubio   gi think cruz and trump need to band together and expose this set up job and get rid of bush and rubio   g i thought it was msnbc fox has changed  si think cruz and trump need to band together and expose this set up job and get rid of bush and rubio   gh is a good catholic  sand need to take control of this debate they can do it    sand need to take control of this debate they can do it    si think cruz and trump need to band together and expose this set up job and get rid of bush and rubio   gand need to take control of this debate they can do it    si m imagining trump giving a state of the union and yeah ok maybe i d vote for him  scan you answer this very direct question i should be president so no  syou would never know is the frontrunner from watching this debate    sand need to take control of this debate they can do it    sand need to take control of this debate they can do it    si am wondering what fox is up to with this debate get rid of trump paul cruz carson  s  fox news won t admit who the republican leader is right now i mean only has a double digit lead gopdand need to take control of this debate they can do it    sthanks fox news you re raising s ratings    sand need to take control of this debate they can do it    sthe candidates don t have to attack fox is doing it for them by stoping him from speaking  t tv of the year  sthanks fox news you re raising s ratings    sthanks fox news you re raising s ratings    sand need to take control of this debate they can do it    sthe candidates don t have to attack fox is doing it for them by stoping him from speaking  thanks fox news you re raising s ratings    syou would never know is the frontrunner from watching this debate    s need to take control of this debate they can do it    stedcruz headed into the presidential debates go ted  s http t co 8s67pz8a4athe candidates don t have to attack fox is doing it for them by stoping him from speaking  thanks fox news you re raising s ratings    sthe candidates don t have to attack fox is doing it for them by stoping him from speaking  hey foxnews planning on giving tedcruz chance to speak you re trying to marginalize him as you do on your daily news c foxnews moderators have actually come with some halfway decent questions at times  si m about as bernie sanders as they come but my god how is marco rubio not ahead of his race by 40 points  sthanks fox news you re raising s ratings    sdebates huckabee rubio paul and walker get a well done but trump battled the foxfire and wonthe candidates don t have to attack fox is doing it for them by stoping him from speaking  kster is on fire i m starting to think he s really interested in running for president for the first time  s tcot tlotthanks fox news you re raising s ratings    syou would never know is the frontrunner from watching this debate    sthanks fox news you re raising s ratings    sthanks fox news you re raising s ratings    syou would never know is the frontrunner from watching this debate    syou would never know is the frontrunner from watching this debate    sthese debates will raise s ratings because fox news is afraid of trump and it shows   gopdebtrump has got it right nobody would talk about immigration not untill be brought it up    sthanks fox news you re raising s ratings    sthanks fox news you re raising s ratings    s cruz appears to be the oddan put so far more ted please foxnews  syou would never know is the frontrunner from watching this debate    syou would never know is the frontrunner from watching this debate    sial issues well this is just gonna be too much fun  s http t co s9odn2zr5gmp is killing me in the  s loved his atlanticcity zinger to chrischristie and how condescending he was to the moderatorthanks fox news you re raising s ratings    sthanks fox news you re raising s ratings    sperry fiorina clips on irandeal are better than most answers being given in this debate  s he does and never claimed that he would do that duh donaldtrump  syou would never know is the frontrunner from watching this debate    sthanks fox news you re raising s ratings    sthanks fox news you re raising s ratings    syou would never know is the frontrunner from watching this debate    sfox news is obviously trying to influence the makeup of the republican field    sial issues next dis will be goooood  syou would never know is the frontrunner from watching this debate    syou would never know is the frontrunner from watching this debate    sat answer  syou would never know is the frontrunner from watching this debate    syou would never know is the frontrunner from watching this debate    sgreat at this stuff  s would never know is the frontrunner from watching this debate    sthanks fox news you re raising s ratings    sthanks fox news you re raising s ratings    s i agree  sthanks fox news you re raising s ratings    si think cruz and trump need to band together and expose this set up job and get rid of bush and rubio   gtweet does this remind you of trump s lips  s http t co ph9l6drinf 3m3 minutes ago thanks fox news you re raising s ratings    sthanks fox news you re raising s ratings    sd show bring on jonvoyage prediction trump goes independent    s see ya once y all narrow it to 1 gahmp this country owns 19 trillion dollars and they need someone like me to fix it qudebates  sthanks fox news you re raising s ratings    sthanks fox news you re raising s ratings    si m about as bernie sanders as they come but my god how is marco rubio not ahead of his race by 40 points  sthanks fox news you re raising s ratings    sthanks fox news you re raising s ratings    sthanks fox news you re raising s ratings    sthanks fox news you re raising s ratings    sthanks fox news you re raising s ratings    sthanks fox news you re raising s ratings    si think cruz and trump need to band together and expose this set up job and get rid of bush and rubio   gthanks fox news you re raising s ratings    shaha love this tweet    s https t co nzinvxfdcdthanks fox news you re raising s ratings    sthanks fox news you re raising s ratings    s about as bernie sanders as they come but my god how is marco rubio not ahead of his race by 40 points  sthanks fox news you re raising s ratings    sthanks fox news you re raising s ratings    sthanks fox news you re raising s ratings    sms to hav his stuff together wish he was getting more time  sthanks fox news you re raising s ratings    sthanks fox news you re raising s ratings    sthanks fox news you re raising s ratings    sthanks fox news you re raising s ratings    sthanks fox news you re raising s ratings    sthanks fox news you re raising s ratings    sis wallace looking at the camera after trumps turn lol  s foxdebatethanks fox news you re raising s ratings    sthanks fox news you re raising s ratings    sthanks fox news you re raising s ratings    s new name is the teflondon nothing fox throws at him will stick  sthanks fox news you re raising s ratings    sthanks fox news you re raising s ratings    sthanks fox news you re raising s ratings    sio is killing it tonight  si think cruz and trump need to band together and expose this set up job and get rid of bush and rubio   gt was the trump i was expecting delivered  sthanks fox news you re raising s ratings    sthanks fox news you re raising s ratings    sotta hand it to him looks very well hydrated tonight  sco rubio is the only one on stage who sounds like he knows what he s talking about  sthanks fox news you re raising s ratings    snks fox news you re raising s ratings    sove that even the fox news hosts can t believe the applause trump gets with each answer  s trump you ve taking advantage of the laws in the country you want to run so you re an honest man  s republicandebates country owes 19 trillion dollars and we need someone like me to fix this mess donald trump  si m imagining trump giving a state of the union and yeah ok maybe i d vote for him  sdebates go trump love his honestlyl em trump  stedcruz headed into the presidential debates go ted  s http t co 8s67pz8a4at am i sayiiiiing trump when he s got a point he s got a point  stedcruz headed into the presidential debates go ted  s http t co 8s67pz8a4a go huck  s tcotd social security is debated at  s future is now gapol usually in to politics but this is good entertainment  ss vs on social security nice exchange on both sides  s lzdebatesin terms of substance dominates  stedcruz headed into the presidential debates go ted  s http t co 8s67pz8a4ahington by at jonford80  s demselfie i saw all i needed to see randpaul was right about isis amp for http t co tkwyr327oyi think cruz and trump need to band together and expose this set up job and get rid of bush and rubio   gi think cruz and trump need to band together and expose this set up job and get rid of bush and rubio   gfox news won t admit who the republican leader is right now i mean only has a double digit lead gopdin terms of substance dominates  se huckabee you ve not received the nomination too many times    2016  s presidentialdebatein terms of substance dominates  si think cruz and trump need to band together and expose this set up job and get rid of bush and rubio   gre should be more  s this is so entertainingi think cruz and trump need to band together and expose this set up job and get rid of bush and rubio   gdebates i m going to say it thank god chr s wal ace is thereit s cute how chris christie has the bob s big boy haircut  sterms of substance dominates  sfox news won t admit who the republican leader is right now i mean only has a double digit lead gopd10 men on stage discussing one woman  sfox news won t admit who the republican leader is right now i mean only has a double digit lead gopdi think cruz and trump need to band together and expose this set up job and get rid of bush and rubio   g the only guy on this stage who is christie s theme and it s not a bad theme  snk you o b wan kasich  s https t co xcpcpx2n8uistie practiced lots of numbers  sh lofty expectations jeb jeb jeb where s trump  sr donald trump thank you  ss cute how chris christie has the bob s big boy haircut  si think cruz and trump need to band together and expose this set up job and get rid of bush and rubio   gfox news won t admit who the republican leader is right now i mean only has a double digit lead gopdfox news won t admit who the republican leader is right now i mean only has a double digit lead gopdi think cruz and trump need to band together and expose this set up job and get rid of bush and rubio   gdrbencarson just said he doubts hillaryclinton will be nominee hope he s right  sn donald trump calls out rosie odonald  si think cruz and trump need to band together and expose this set up job and get rid of bush and rubio   gi think cruz and trump need to band together and expose this set up job and get rid of bush and rubio   gi think cruz and trump need to band together and expose this set up job and get rid of bush and rubio   gng back donaldtrump i m bored now    sfox news won t admit who the republican leader is right now i mean only has a double digit lead gopdse  s questions are really goodi think cruz and trump need to band together and expose this set up job and get rid of bush and rubio   gs time we recognize that the supreme court is not the supreme being  sdrbencarson just said he doubts hillaryclinton will be nominee hope he s right  si think cruz and trump need to band together and expose this set up job and get rid of bush and rubio   gs no coincidence he is a neurosurgeon this guy sure has a brain on him bencarson gopddebate  sdebates smartest answers in the room tonight are coming from dr carsonrly confident after bencarson s last answer he s playing the  s drinking game along with the rest of usi think cruz and trump need to band together and expose this set up job and get rid of bush and rubio   gmp wants to form the night s watch a big wall with a fancy door yassssss  s trump republicandebate jonsnow got7trump has cam hands  s tell em  sfox news won t admit who the republican leader is right now i mean only has a double digit lead gopdfox news won t admit who the republican leader is right now i mean only has a double digit lead gopdson is very witty articulate and not too unlikable deserves much better poll ratings but won t make it past new hampshire  sfox news won t admit who the republican leader is right now i mean only has a double digit lead gopdfox news won t admit who the republican leader is right now i mean only has a double digit lead gopdfox news won t admit who the republican leader is right now i mean only has a double digit lead gopddo you believe in miracles i do kasich came to win  ss face it this debate is really about hillaryclinton  s  pence i m only watching the  s because of donaldtrump he says what we have all been thinking for years it s time fori think cruz and trump need to band together and expose this set up job and get rid of bush and rubio   gfox news won t admit who the republican leader is right now i mean only has a double digit lead gopdkasich is killing it easily crossover candidate grabbing the center  sfox news won t admit who the republican leader is right now i mean only has a double digit lead gopdfox news won t admit who the republican leader is right now i mean only has a double digit lead gopdum carson just kicked that question in its throat  seally like ben carson so far he s been classy amp i like his answers  srica is a miracle country  s44 carson is boss right now bye hillary  sdebates carson just nailed itson is another who looks presidential  sse dudes don t believe in the american dream but if i m elected i ll be living the american dream and i ll share it w you  sencarson just said he doubts hillaryclinton will be nominee hope he s right  si think cruz and trump need to band together and expose this set up job and get rid of bush and rubio   gtrump2016  s finally someone saying screw political correctness sick of it and looking to new leadershii think cruz and trump need to band together and expose this set up job and get rid of bush and rubio   gi think cruz and trump need to band together and expose this set up job and get rid of bush and rubio   gyou believe in miracles i do kasich came to win  sson is boss right now bye hillary  strump has got it right nobody would talk about immigration not untill be brought it up    s carson is too bright for this room  sich is killing it easily crossover candidate grabbing the center  scarson you re still here neat  si think cruz and trump need to band together and expose this set up job and get rid of bush and rubio   gi think cruz and trump need to band together and expose this set up job and get rid of bush and rubio   gnks and donald trump just got a pepperoni roll amp a root beer for 7 50 tip yay  s eat24i think cruz and trump need to band together and expose this set up job and get rid of bush and rubio   gi think cruz and trump need to band together and expose this set up job and get rid of bush and rubio   gi think cruz and trump need to band together and expose this set up job and get rid of bush and rubio   gi think cruz and trump need to band together and expose this set up job and get rid of bush and rubio   gi think cruz and trump need to band together and expose this set up job and get rid of bush and rubio   gprediction donald trump goes up in post debate polls because he looks no crazier than anyone else and more entertainingi think cruz and trump need to band together and expose this set up job and get rid of bush and rubio   gi think cruz and trump need to band together and expose this set up job and get rid of bush and rubio   gmp2016  s finally someone saying screw political correctness sick of it and looking to new leadership too trump2016i think cruz and trump need to band together and expose this set up job and get rid of bush and rubio   gi think cruz and trump need to band together and expose this set up job and get rid of bush and rubio   gocrats have to be loving the  s right nowi think cruz and trump need to band together and expose this set up job and get rid of bush and rubio   gi think cruz and trump need to band together and expose this set up job and get rid of bush and rubio   ghigh school crush just commented on my facebook status about the  s i m pretty sure i just won the night says my 15yo selfi think cruz and trump need to band together and expose this set up job and get rid of bush and rubio   gi think cruz and trump need to band together and expose this set up job and get rid of bush and rubio   gi think cruz and trump need to band together and expose this set up job and get rid of bush and rubio   gsounded passionate and believable bush  s https t co gdnn2qs8j5hits it out of park on gotcha question on campaign donations  si think cruz and trump need to band together and expose this set up job and get rid of bush and rubio   gl the bern  si think cruz and trump need to band together and expose this set up job and get rid of bush and rubio   gi think cruz and trump need to band together and expose this set up job and get rid of bush and rubio   gi think cruz and trump need to band together and expose this set up job and get rid of bush and rubio   gdonald will go independent rubionever shows up 4 work  strump has cam hands  si think cruz and trump need to band together and expose this set up job and get rid of bush and rubio   gi think cruz and trump need to band together and expose this set up job and get rid of bush and rubio   g going to bed gets my vote tonight    si think cruz and trump need to band together and expose this set up job and get rid of bush and rubio   gi think cruz and trump need to band together and expose this set up job and get rid of bush and rubio   gmp2016  s trump is stealing the show despite even moderators showing they are bias he speaks the truth finally go donaldi think cruz and trump need to band together and expose this set up job and get rid of bush and rubio   gi think cruz and trump need to band together and expose this set up job and get rid of bush and rubio   gi think cruz and trump need to band together and expose this set up job and get rid of bush and rubio   gi think cruz and trump need to band together and expose this set up job and get rid of bush and rubio   gcommon core bush i m for higher standards ending social promotion statewide voucher program challenging teachers unii think cruz and trump need to band together and expose this set up job and get rid of bush and rubio   gtrump has cam hands  strump has cam hands  spence i m only watching the  s because of donaldtrump he says what we have all been thinking for years it s time forhonestly not sure if i m watching mean girls or  s do you even go heretrump has cam hands  s only watching the  s because of donaldtrump he says what we have all been thinking for years it s time for real changey gets a point for that commoncore republicandebate  stweet rip annrichards she has it right we needed her for president  s stoprush http t co uw5axjzmxchits it out of park on gotcha question on campaign donations  s and moe was the smartest stooge democrats  s https t co ucd675mrmygod is making an appearance at the   this should be goodreally enjoyed everything had to say last night rubio2016   americaonpointe out of the gate like a true leader i look forward to hearing more about his plans for a better america  t line of   was immigration without assimilation is invasion was that gov jindaltrump has got it right nobody would talk about immigration not untill be brought it up    swho thought huckabee exceeded their expectations   imwithhuck gop ccot teaparty tcot httptedcruz as president i will always tell the truth and do what i said i would do  stedcruz headed into the presidential debates go ted  s http t co 8s67pz8a4a'"
      ]
     },
     "execution_count": 135,
     "metadata": {},
     "output_type": "execute_result"
    }
   ],
   "source": [
    "positive_tweet"
   ]
  },
  {
   "cell_type": "code",
   "execution_count": 136,
   "metadata": {},
   "outputs": [],
   "source": [
    "wordcloud = WordCloud(background_color='white',stopwords=STOPWORDS)"
   ]
  },
  {
   "cell_type": "code",
   "execution_count": 140,
   "metadata": {},
   "outputs": [
    {
     "data": {
      "text/plain": [
       "<matplotlib.image.AxesImage at 0x17bf3c90>"
      ]
     },
     "execution_count": 140,
     "metadata": {},
     "output_type": "execute_result"
    },
    {
     "data": {
      "image/png": "[encoded data removed]",
      "text/plain": [
       "<Figure size 432x288 with 1 Axes>"
      ]
     },
     "metadata": {},
     "output_type": "display_data"
    }
   ],
   "source": [
    "wc = wordcloud.generate(positive_tweet)\n",
    "plt.figure(figsize=(6,4))\n",
    "plt.axis('off')\n",
    "plt.title('Positive tweet word cloud')\n",
    "plt.imshow(wc)"
   ]
  },
  {
   "cell_type": "code",
   "execution_count": 141,
   "metadata": {},
   "outputs": [
    {
     "data": {
      "text/plain": [
       "<matplotlib.image.AxesImage at 0x17dce810>"
      ]
     },
     "execution_count": 141,
     "metadata": {},
     "output_type": "execute_result"
    },
    {
     "data": {
      "image/png": "[encoded data removed]",
      "text/plain": [
       "<Figure size 432x288 with 1 Axes>"
      ]
     },
     "metadata": {},
     "output_type": "display_data"
    }
   ],
   "source": [
    "wc = wordcloud.generate(negative_tweet)\n",
    "plt.figure(figsize=(6,4))\n",
    "plt.axis('off')\n",
    "plt.title('negative tweet word cloud')\n",
    "plt.imshow(wc)"
   ]
  },
  {
   "cell_type": "code",
   "execution_count": 142,
   "metadata": {},
   "outputs": [
    {
     "data": {
      "text/plain": [
       "<matplotlib.image.AxesImage at 0x185345b0>"
      ]
     },
     "execution_count": 142,
     "metadata": {},
     "output_type": "execute_result"
    },
    {
     "data": {
      "image/png": "[encoded data removed]",
      "text/plain": [
       "<Figure size 432x288 with 1 Axes>"
      ]
     },
     "metadata": {},
     "output_type": "display_data"
    }
   ],
   "source": [
    "wc = wordcloud.generate(neutral_tweet)\n",
    "plt.figure(figsize=(6,4))\n",
    "plt.axis('off')\n",
    "plt.title('Neutral tweet word cloud')\n",
    "plt.imshow(wc)"
   ]
  },
  {
   "cell_type": "code",
   "execution_count": 156,
   "metadata": {},
   "outputs": [],
   "source": [
    "import seaborn as sns"
   ]
  },
  {
   "cell_type": "code",
   "execution_count": 157,
   "metadata": {},
   "outputs": [
    {
     "data": {
      "text/plain": [
       "<matplotlib.axes._subplots.AxesSubplot at 0x17cf4e90>"
      ]
     },
     "execution_count": 157,
     "metadata": {},
     "output_type": "execute_result"
    },
    {
     "data": {
      "image/png": "[encoded data removed]",
      "text/plain": [
       "<Figure size 432x288 with 1 Axes>"
      ]
     },
     "metadata": {},
     "output_type": "display_data"
    }
   ],
   "source": [
    "sns.countplot(x='sentiment',data=new_tweet_data)"
   ]
  },
  {
   "cell_type": "markdown",
   "metadata": {},
   "source": [
    "# LABEL ENCODER"
   ]
  },
  {
   "cell_type": "code",
   "execution_count": 65,
   "metadata": {},
   "outputs": [],
   "source": [
    "from sklearn.preprocessing import LabelEncoder"
   ]
  },
  {
   "cell_type": "code",
   "execution_count": 66,
   "metadata": {},
   "outputs": [],
   "source": [
    "encoder = LabelEncoder()"
   ]
  },
  {
   "cell_type": "code",
   "execution_count": 68,
   "metadata": {},
   "outputs": [],
   "source": [
    "y = pd.Series(encoder.fit_transform(new_tweet_data['sentiment']))"
   ]
  },
  {
   "cell_type": "code",
   "execution_count": 69,
   "metadata": {},
   "outputs": [
    {
     "data": {
      "text/plain": [
       "0    1\n",
       "1    2\n",
       "2    1\n",
       "3    2\n",
       "4    2\n",
       "dtype: int32"
      ]
     },
     "execution_count": 69,
     "metadata": {},
     "output_type": "execute_result"
    }
   ],
   "source": [
    "y.head()"
   ]
  },
  {
   "cell_type": "code",
   "execution_count": 86,
   "metadata": {},
   "outputs": [
    {
     "data": {
      "text/plain": [
       "(13871,)"
      ]
     },
     "execution_count": 86,
     "metadata": {},
     "output_type": "execute_result"
    }
   ],
   "source": [
    "y.shape"
   ]
  },
  {
   "cell_type": "code",
   "execution_count": 64,
   "metadata": {},
   "outputs": [],
   "source": [
    "from sklearn.model_selection import train_test_split"
   ]
  },
  {
   "cell_type": "code",
   "execution_count": 105,
   "metadata": {},
   "outputs": [],
   "source": [
    "X_train,X_test,y_train,y_test = train_test_split(new_tweet_data['clean_tweet'] ,y,test_size=0.3,random_state=3)"
   ]
  },
  {
   "cell_type": "code",
   "execution_count": 106,
   "metadata": {},
   "outputs": [
    {
     "data": {
      "text/plain": [
       "(9709,)"
      ]
     },
     "execution_count": 106,
     "metadata": {},
     "output_type": "execute_result"
    }
   ],
   "source": [
    "X_train.shape"
   ]
  },
  {
   "cell_type": "code",
   "execution_count": 107,
   "metadata": {
    "scrolled": true
   },
   "outputs": [
    {
     "data": {
      "text/plain": [
       "(9709,)"
      ]
     },
     "execution_count": 107,
     "metadata": {},
     "output_type": "execute_result"
    }
   ],
   "source": [
    "y_train.shape"
   ]
  },
  {
   "cell_type": "code",
   "execution_count": 108,
   "metadata": {},
   "outputs": [
    {
     "data": {
      "text/plain": [
       "(4162,)"
      ]
     },
     "execution_count": 108,
     "metadata": {},
     "output_type": "execute_result"
    }
   ],
   "source": [
    "X_test.shape"
   ]
  },
  {
   "cell_type": "code",
   "execution_count": 109,
   "metadata": {},
   "outputs": [
    {
     "data": {
      "text/plain": [
       "(4162,)"
      ]
     },
     "execution_count": 109,
     "metadata": {},
     "output_type": "execute_result"
    }
   ],
   "source": [
    "y_test.shape"
   ]
  },
  {
   "cell_type": "markdown",
   "metadata": {},
   "source": [
    "# FEATURE EXTRACTION"
   ]
  },
  {
   "cell_type": "code",
   "execution_count": 71,
   "metadata": {},
   "outputs": [],
   "source": [
    "from sklearn.feature_extraction.text import CountVectorizer, TfidfTransformer"
   ]
  },
  {
   "cell_type": "code",
   "execution_count": 110,
   "metadata": {},
   "outputs": [],
   "source": [
    "count_vect = CountVectorizer(stop_words='english')\n",
    "transformer = TfidfTransformer(norm='l2',sublinear_tf=True)"
   ]
  },
  {
   "cell_type": "code",
   "execution_count": 113,
   "metadata": {},
   "outputs": [],
   "source": [
    "X_train_count = count_vect.fit_transform(X_train)\n",
    "X_test_count = count_vect.transform(X_test)"
   ]
  },
  {
   "cell_type": "code",
   "execution_count": 114,
   "metadata": {},
   "outputs": [],
   "source": [
    "X_train_tfidf = transformer.fit_transform(X_train_count)\n",
    "X_test_tfidf = transformer.transform(X_test_count)"
   ]
  },
  {
   "cell_type": "markdown",
   "metadata": {},
   "source": [
    "# BUILDING MODEL"
   ]
  },
  {
   "cell_type": "code",
   "execution_count": 81,
   "metadata": {},
   "outputs": [],
   "source": [
    "from sklearn.svm import SVC"
   ]
  },
  {
   "cell_type": "code",
   "execution_count": 115,
   "metadata": {},
   "outputs": [],
   "source": [
    "svc_cls = SVC()"
   ]
  },
  {
   "cell_type": "code",
   "execution_count": 116,
   "metadata": {},
   "outputs": [
    {
     "data": {
      "text/plain": [
       "SVC(C=1.0, cache_size=200, class_weight=None, coef0=0.0,\n",
       "  decision_function_shape='ovr', degree=3, gamma='auto', kernel='rbf',\n",
       "  max_iter=-1, probability=False, random_state=None, shrinking=True,\n",
       "  tol=0.001, verbose=False)"
      ]
     },
     "execution_count": 116,
     "metadata": {},
     "output_type": "execute_result"
    }
   ],
   "source": [
    "svc_cls.fit(X_train_tfidf,y_train)"
   ]
  },
  {
   "cell_type": "code",
   "execution_count": 117,
   "metadata": {},
   "outputs": [],
   "source": [
    "svc_sentiment = svc_cls.predict(X_test_tfidf)"
   ]
  },
  {
   "cell_type": "code",
   "execution_count": 118,
   "metadata": {},
   "outputs": [
    {
     "name": "stdout",
     "output_type": "stream",
     "text": [
      "[0 0 0 ... 0 0 0]\n"
     ]
    }
   ],
   "source": [
    "print(svc_pred)"
   ]
  },
  {
   "cell_type": "code",
   "execution_count": 98,
   "metadata": {},
   "outputs": [],
   "source": [
    "from sklearn.naive_bayes import MultinomialNB"
   ]
  },
  {
   "cell_type": "code",
   "execution_count": 119,
   "metadata": {},
   "outputs": [],
   "source": [
    "nb_cls = MultinomialNB()"
   ]
  },
  {
   "cell_type": "code",
   "execution_count": 120,
   "metadata": {},
   "outputs": [
    {
     "data": {
      "text/plain": [
       "MultinomialNB(alpha=1.0, class_prior=None, fit_prior=True)"
      ]
     },
     "execution_count": 120,
     "metadata": {},
     "output_type": "execute_result"
    }
   ],
   "source": [
    "nb_cls.fit(X_train_tfidf,y_train)"
   ]
  },
  {
   "cell_type": "code",
   "execution_count": 121,
   "metadata": {},
   "outputs": [],
   "source": [
    "nb_sentiment = nb_cls.predict(X_test_tfidf)"
   ]
  },
  {
   "cell_type": "code",
   "execution_count": 143,
   "metadata": {},
   "outputs": [],
   "source": [
    "from sklearn.ensemble import RandomForestClassifier"
   ]
  },
  {
   "cell_type": "code",
   "execution_count": 144,
   "metadata": {},
   "outputs": [],
   "source": [
    "rfc_cls = RandomForestClassifier()"
   ]
  },
  {
   "cell_type": "code",
   "execution_count": 145,
   "metadata": {},
   "outputs": [
    {
     "data": {
      "text/plain": [
       "RandomForestClassifier(bootstrap=True, class_weight=None, criterion='gini',\n",
       "            max_depth=None, max_features='auto', max_leaf_nodes=None,\n",
       "            min_impurity_decrease=0.0, min_impurity_split=None,\n",
       "            min_samples_leaf=1, min_samples_split=2,\n",
       "            min_weight_fraction_leaf=0.0, n_estimators=10, n_jobs=1,\n",
       "            oob_score=False, random_state=None, verbose=0,\n",
       "            warm_start=False)"
      ]
     },
     "execution_count": 145,
     "metadata": {},
     "output_type": "execute_result"
    }
   ],
   "source": [
    "rfc_cls.fit(X_train_tfidf,y_train)"
   ]
  },
  {
   "cell_type": "code",
   "execution_count": 147,
   "metadata": {},
   "outputs": [],
   "source": [
    "rfc_sentiment = rfc_cls.predict(X_test_tfidf)"
   ]
  },
  {
   "cell_type": "markdown",
   "metadata": {},
   "source": [
    "# EVALUATION METRICS"
   ]
  },
  {
   "cell_type": "code",
   "execution_count": 122,
   "metadata": {},
   "outputs": [],
   "source": [
    "from sklearn.metrics import accuracy_score,mean_absolute_error,mean_squared_error,classification_report,confusion_matrix\n",
    "from math import sqrt"
   ]
  },
  {
   "cell_type": "markdown",
   "metadata": {},
   "source": [
    "# ACCURACY SCORE"
   ]
  },
  {
   "cell_type": "code",
   "execution_count": 123,
   "metadata": {},
   "outputs": [
    {
     "name": "stdout",
     "output_type": "stream",
     "text": [
      "0.6153291686689092\n"
     ]
    }
   ],
   "source": [
    "print(accuracy_score(y_test,svc_sentiment))"
   ]
  },
  {
   "cell_type": "code",
   "execution_count": 124,
   "metadata": {},
   "outputs": [
    {
     "name": "stdout",
     "output_type": "stream",
     "text": [
      "0.6530514175876982\n"
     ]
    }
   ],
   "source": [
    "print(accuracy_score(y_test,nb_sentiment))"
   ]
  },
  {
   "cell_type": "code",
   "execution_count": 148,
   "metadata": {},
   "outputs": [
    {
     "name": "stdout",
     "output_type": "stream",
     "text": [
      "0.6540124939932724\n"
     ]
    }
   ],
   "source": [
    "print(accuracy_score(y_test,rfc_sentiment))"
   ]
  },
  {
   "cell_type": "markdown",
   "metadata": {},
   "source": [
    "# CLASSIFICATION REPORT"
   ]
  },
  {
   "cell_type": "code",
   "execution_count": 125,
   "metadata": {
    "scrolled": true
   },
   "outputs": [
    {
     "name": "stdout",
     "output_type": "stream",
     "text": [
      "             precision    recall  f1-score   support\n",
      "\n",
      "          0       0.62      1.00      0.76      2561\n",
      "          1       0.00      0.00      0.00       912\n",
      "          2       0.00      0.00      0.00       689\n",
      "\n",
      "avg / total       0.38      0.62      0.47      4162\n",
      "\n"
     ]
    },
    {
     "name": "stderr",
     "output_type": "stream",
     "text": [
      "C:\\Users\\user\\Anaconda\\lib\\site-packages\\sklearn\\metrics\\classification.py:1135: UndefinedMetricWarning: Precision and F-score are ill-defined and being set to 0.0 in labels with no predicted samples.\n",
      "  'precision', 'predicted', average, warn_for)\n"
     ]
    }
   ],
   "source": [
    "print(classification_report(y_test,svc_sentiment))"
   ]
  },
  {
   "cell_type": "code",
   "execution_count": 126,
   "metadata": {},
   "outputs": [
    {
     "name": "stdout",
     "output_type": "stream",
     "text": [
      "             precision    recall  f1-score   support\n",
      "\n",
      "          0       0.65      0.98      0.78      2561\n",
      "          1       0.63      0.10      0.17       912\n",
      "          2       0.74      0.17      0.27       689\n",
      "\n",
      "avg / total       0.66      0.65      0.56      4162\n",
      "\n"
     ]
    }
   ],
   "source": [
    "print(classification_report(y_test,nb_sentiment))"
   ]
  },
  {
   "cell_type": "code",
   "execution_count": 149,
   "metadata": {},
   "outputs": [
    {
     "name": "stdout",
     "output_type": "stream",
     "text": [
      "             precision    recall  f1-score   support\n",
      "\n",
      "          0       0.71      0.85      0.77      2561\n",
      "          1       0.44      0.34      0.38       912\n",
      "          2       0.61      0.34      0.44       689\n",
      "\n",
      "avg / total       0.63      0.65      0.63      4162\n",
      "\n"
     ]
    }
   ],
   "source": [
    "print(classification_report(y_test,rfc_sentiment))"
   ]
  },
  {
   "cell_type": "markdown",
   "metadata": {},
   "source": [
    "# CONFUSION MATRIX"
   ]
  },
  {
   "cell_type": "code",
   "execution_count": 127,
   "metadata": {
    "scrolled": true
   },
   "outputs": [
    {
     "name": "stdout",
     "output_type": "stream",
     "text": [
      "[[2561    0    0]\n",
      " [ 912    0    0]\n",
      " [ 689    0    0]]\n"
     ]
    }
   ],
   "source": [
    "print(confusion_matrix(y_test,svc_sentiment))"
   ]
  },
  {
   "cell_type": "code",
   "execution_count": 128,
   "metadata": {},
   "outputs": [
    {
     "name": "stdout",
     "output_type": "stream",
     "text": [
      "[[2511   33   17]\n",
      " [ 798   91   23]\n",
      " [ 553   20  116]]\n"
     ]
    }
   ],
   "source": [
    "print(confusion_matrix(y_test,nb_sentiment))"
   ]
  },
  {
   "cell_type": "code",
   "execution_count": 150,
   "metadata": {},
   "outputs": [
    {
     "name": "stdout",
     "output_type": "stream",
     "text": [
      "[[2176  305   80]\n",
      " [ 532  313   67]\n",
      " [ 359   97  233]]\n"
     ]
    }
   ],
   "source": [
    "print(confusion_matrix(y_test,rfc_sentiment))"
   ]
  },
  {
   "cell_type": "markdown",
   "metadata": {},
   "source": [
    "# MEAN ABSOLUTE ERROR"
   ]
  },
  {
   "cell_type": "code",
   "execution_count": 129,
   "metadata": {
    "scrolled": true
   },
   "outputs": [
    {
     "data": {
      "text/plain": [
       "0.5502162421912542"
      ]
     },
     "execution_count": 129,
     "metadata": {},
     "output_type": "execute_result"
    }
   ],
   "source": [
    "mean_absolute_error(y_test,svc_sentiment)"
   ]
  },
  {
   "cell_type": "code",
   "execution_count": 130,
   "metadata": {},
   "outputs": [
    {
     "data": {
      "text/plain": [
       "0.48390197020663145"
      ]
     },
     "execution_count": 130,
     "metadata": {},
     "output_type": "execute_result"
    }
   ],
   "source": [
    "mean_absolute_error(y_test,nb_sentiment)"
   ]
  },
  {
   "cell_type": "code",
   "execution_count": 151,
   "metadata": {},
   "outputs": [
    {
     "data": {
      "text/plain": [
       "0.4514656415185007"
      ]
     },
     "execution_count": 151,
     "metadata": {},
     "output_type": "execute_result"
    }
   ],
   "source": [
    "mean_absolute_error(y_test,rfc_sentiment)"
   ]
  },
  {
   "cell_type": "markdown",
   "metadata": {},
   "source": [
    "# MEAN SQUARED ERROR"
   ]
  },
  {
   "cell_type": "code",
   "execution_count": 152,
   "metadata": {
    "scrolled": true
   },
   "outputs": [
    {
     "data": {
      "text/plain": [
       "0.9387795608722961"
      ]
     },
     "execution_count": 152,
     "metadata": {},
     "output_type": "execute_result"
    }
   ],
   "source": [
    "sqrt(mean_squared_error(y_test,svc_sentiment))"
   ]
  },
  {
   "cell_type": "code",
   "execution_count": 153,
   "metadata": {},
   "outputs": [
    {
     "data": {
      "text/plain": [
       "0.8705221110318168"
      ]
     },
     "execution_count": 153,
     "metadata": {},
     "output_type": "execute_result"
    }
   ],
   "source": [
    "sqrt(mean_squared_error(y_test,nb_sentiment))"
   ]
  },
  {
   "cell_type": "code",
   "execution_count": 154,
   "metadata": {},
   "outputs": [
    {
     "data": {
      "text/plain": [
       "0.8138930596473022"
      ]
     },
     "execution_count": 154,
     "metadata": {},
     "output_type": "execute_result"
    }
   ],
   "source": [
    "sqrt(mean_squared_error(y_test,rfc_sentiment))"
   ]
  }
 ],
 "metadata": {
  "kernelspec": {
   "display_name": "Python 3",
   "language": "python",
   "name": "python3"
  },
  "language_info": {
   "codemirror_mode": {
    "name": "ipython",
    "version": 3
   },
   "file_extension": ".py",
   "mimetype": "text/x-python",
   "name": "python",
   "nbconvert_exporter": "python",
   "pygments_lexer": "ipython3",
   "version": "3.6.4"
  }
 },
 "nbformat": 4,
 "nbformat_minor": 2
}
